{
 "cells": [
  {
   "cell_type": "code",
   "execution_count": null,
   "metadata": {
    "colab": {},
    "colab_type": "code",
    "id": "2zhIT2faJ4Ih"
   },
   "outputs": [],
   "source": [
    "#default_exp lesson1"
   ]
  },
  {
   "cell_type": "code",
   "execution_count": null,
   "metadata": {
    "colab": {},
    "colab_type": "code",
    "id": "DYOVSvQ8v7Ko"
   },
   "outputs": [],
   "source": [
    "#export\n",
    "from torch import tensor\n",
    "import torch\n",
    "import pickle\n",
    "from fastai.utils import *\n",
    "from fastai.datasets import *\n",
    "import gzip\n",
    "import math\n",
    "from typing import *"
   ]
  },
  {
   "cell_type": "code",
   "execution_count": null,
   "metadata": {
    "colab": {},
    "colab_type": "code",
    "id": "Aa0Fv_dswNM_"
   },
   "outputs": [],
   "source": [
    "MNIST_URL='http://deeplearning.net/data/mnist/mnist.pkl'"
   ]
  },
  {
   "cell_type": "code",
   "execution_count": 3,
   "metadata": {
    "colab": {
     "base_uri": "https://localhost:8080/",
     "height": 34
    },
    "colab_type": "code",
    "id": "v6bRzM-twO1v",
    "outputId": "321981ea-9714-46df-baa2-31c0cda37c90"
   },
   "outputs": [
    {
     "name": "stdout",
     "output_type": "stream",
     "text": [
      "Downloading http://deeplearning.net/data/mnist/mnist.pkl\n"
     ]
    },
    {
     "data": {
      "text/html": [],
      "text/plain": [
       "<IPython.core.display.HTML object>"
      ]
     },
     "metadata": {
      "tags": []
     },
     "output_type": "display_data"
    }
   ],
   "source": [
    "data_path = download_data(MNIST_URL, ext='.gz')"
   ]
  },
  {
   "cell_type": "code",
   "execution_count": 4,
   "metadata": {
    "colab": {
     "base_uri": "https://localhost:8080/",
     "height": 34
    },
    "colab_type": "code",
    "id": "6s_fxc5F1Y53",
    "outputId": "91ca11e7-470f-45e9-d019-671ac1535a48"
   },
   "outputs": [
    {
     "name": "stdout",
     "output_type": "stream",
     "text": [
      "/root/.fastai/data/mnist.pkl.gz\n"
     ]
    }
   ],
   "source": [
    "! ls {data_path}"
   ]
  },
  {
   "cell_type": "code",
   "execution_count": null,
   "metadata": {
    "colab": {},
    "colab_type": "code",
    "id": "qw1ZMxa807Bw"
   },
   "outputs": [],
   "source": [
    "#export\n",
    "def get_data(data_path):\n",
    "  with gzip.open(data_path, mode=\"rb\") as d:\n",
    "    ((X_train, y_train), (X_valid, y_valid), _) = pickle.load(d, encoding='latin-1')\n",
    "    X_train, y_train, X_valid, y_valid = map(torch.tensor, (X_train, y_train, X_valid, y_valid))\n",
    "    return (X_train, y_train, X_valid, y_valid)"
   ]
  },
  {
   "cell_type": "code",
   "execution_count": null,
   "metadata": {
    "colab": {},
    "colab_type": "code",
    "id": "RXf2bQiLH8GD"
   },
   "outputs": [],
   "source": [
    "X_train, y_train, X_valid, y_valid = get_data(data_path)"
   ]
  },
  {
   "cell_type": "code",
   "execution_count": 8,
   "metadata": {
    "colab": {
     "base_uri": "https://localhost:8080/",
     "height": 34
    },
    "colab_type": "code",
    "id": "2_4fIoWe41Cq",
    "outputId": "ec23048a-b2bd-4bfe-a5a8-4414289e6ba1"
   },
   "outputs": [
    {
     "data": {
      "text/plain": [
       "torch.Size([50000, 784])"
      ]
     },
     "execution_count": 8,
     "metadata": {
      "tags": []
     },
     "output_type": "execute_result"
    }
   ],
   "source": [
    "X_train.shape"
   ]
  },
  {
   "cell_type": "code",
   "execution_count": 9,
   "metadata": {
    "colab": {
     "base_uri": "https://localhost:8080/",
     "height": 34
    },
    "colab_type": "code",
    "id": "plK7WIYh44FZ",
    "outputId": "b5cbc5fd-1186-4e3e-aaf0-f11bd8cf7995"
   },
   "outputs": [
    {
     "data": {
      "text/plain": [
       "torch.Size([10000, 784])"
      ]
     },
     "execution_count": 9,
     "metadata": {
      "tags": []
     },
     "output_type": "execute_result"
    }
   ],
   "source": [
    "X_valid.shape"
   ]
  },
  {
   "cell_type": "code",
   "execution_count": 10,
   "metadata": {
    "colab": {
     "base_uri": "https://localhost:8080/",
     "height": 34
    },
    "colab_type": "code",
    "id": "hKwf_dzk454c",
    "outputId": "35d1bf03-01f2-492e-f06c-0530e7c95ffd"
   },
   "outputs": [
    {
     "data": {
      "text/plain": [
       "torch.Size([50000])"
      ]
     },
     "execution_count": 10,
     "metadata": {
      "tags": []
     },
     "output_type": "execute_result"
    }
   ],
   "source": [
    "y_train.shape"
   ]
  },
  {
   "cell_type": "code",
   "execution_count": null,
   "metadata": {
    "colab": {},
    "colab_type": "code",
    "id": "0p6AccklD0h9"
   },
   "outputs": [],
   "source": [
    "y_train = y_train.unsqueeze(-1)"
   ]
  },
  {
   "cell_type": "code",
   "execution_count": 12,
   "metadata": {
    "colab": {
     "base_uri": "https://localhost:8080/",
     "height": 34
    },
    "colab_type": "code",
    "id": "iq_pil_SQpyQ",
    "outputId": "45619ee1-94c0-4139-d197-0bf0b13cc9eb"
   },
   "outputs": [
    {
     "data": {
      "text/plain": [
       "torch.Size([50000, 1])"
      ]
     },
     "execution_count": 12,
     "metadata": {
      "tags": []
     },
     "output_type": "execute_result"
    }
   ],
   "source": [
    "y_train.shape"
   ]
  },
  {
   "cell_type": "code",
   "execution_count": 13,
   "metadata": {
    "colab": {
     "base_uri": "https://localhost:8080/",
     "height": 34
    },
    "colab_type": "code",
    "id": "0bwhX11N47do",
    "outputId": "d55358cb-5e74-4977-e2e2-d0093eb6e386"
   },
   "outputs": [
    {
     "data": {
      "text/plain": [
       "torch.Size([10000])"
      ]
     },
     "execution_count": 13,
     "metadata": {
      "tags": []
     },
     "output_type": "execute_result"
    }
   ],
   "source": [
    "y_valid.shape"
   ]
  },
  {
   "cell_type": "code",
   "execution_count": null,
   "metadata": {
    "colab": {},
    "colab_type": "code",
    "id": "15qGzTbsD3Eo"
   },
   "outputs": [],
   "source": [
    "y_valid = y_valid.unsqueeze(-1)"
   ]
  },
  {
   "cell_type": "code",
   "execution_count": null,
   "metadata": {
    "colab": {},
    "colab_type": "code",
    "id": "W2exTi_r49Kl"
   },
   "outputs": [],
   "source": [
    "nh = 1000\n",
    "n_out = 1\n",
    "# 784 x 1000\n",
    "w1 = torch.randn(X_train.shape[1], nh)/math.sqrt(X_train.shape[1])\n",
    "# 1 x 1000\n",
    "b1 = torch.zeros(1, nh)\n",
    "# 1000 x 1\n",
    "w2 = torch.randn(nh, n_out)/math.sqrt(nh)\n",
    "# 1 x 1\n",
    "b2 = torch.zeros(1, n_out)"
   ]
  },
  {
   "cell_type": "code",
   "execution_count": null,
   "metadata": {
    "colab": {},
    "colab_type": "code",
    "id": "JspmitYv5beJ"
   },
   "outputs": [],
   "source": [
    "#export\n",
    "def linear(w, x, b): \n",
    "  return x@w + b"
   ]
  },
  {
   "cell_type": "code",
   "execution_count": null,
   "metadata": {
    "colab": {},
    "colab_type": "code",
    "id": "CKDAsmR86cef"
   },
   "outputs": [],
   "source": [
    "#export\n",
    "def relu(z): return z.clamp_min(0.).float()"
   ]
  },
  {
   "cell_type": "code",
   "execution_count": null,
   "metadata": {
    "colab": {},
    "colab_type": "code",
    "id": "6V2uXR5DILfy"
   },
   "outputs": [],
   "source": [
    "# NOTE: this does not make sense as a loss function in this case\n",
    "# we're using it purely for pedagogical purposes"
   ]
  },
  {
   "cell_type": "code",
   "execution_count": null,
   "metadata": {
    "colab": {},
    "colab_type": "code",
    "id": "R1a6QvEt6mBj"
   },
   "outputs": [],
   "source": [
    "#export\n",
    "def mse(y, y_hat): return (y_hat - y).pow(2).mean()"
   ]
  },
  {
   "cell_type": "code",
   "execution_count": null,
   "metadata": {
    "colab": {},
    "colab_type": "code",
    "id": "fnntEO1-X-M9"
   },
   "outputs": [],
   "source": [
    "def sigmoid(x): return 1./(1+torch.exp(-x))"
   ]
  },
  {
   "cell_type": "code",
   "execution_count": 22,
   "metadata": {
    "colab": {
     "base_uri": "https://localhost:8080/",
     "height": 34
    },
    "colab_type": "code",
    "id": "HFrbhiaA8Iag",
    "outputId": "2cb04cba-6e9d-4db6-ec9c-4c275d646d2a"
   },
   "outputs": [
    {
     "data": {
      "text/plain": [
       "torch.Size([784, 1000])"
      ]
     },
     "execution_count": 22,
     "metadata": {
      "tags": []
     },
     "output_type": "execute_result"
    }
   ],
   "source": [
    "w1.shape"
   ]
  },
  {
   "cell_type": "code",
   "execution_count": 23,
   "metadata": {
    "colab": {
     "base_uri": "https://localhost:8080/",
     "height": 34
    },
    "colab_type": "code",
    "id": "9qKZrfD38PJ1",
    "outputId": "3e0bf80c-775c-453c-920e-9401adcad67f"
   },
   "outputs": [
    {
     "data": {
      "text/plain": [
       "torch.Size([50000, 784])"
      ]
     },
     "execution_count": 23,
     "metadata": {
      "tags": []
     },
     "output_type": "execute_result"
    }
   ],
   "source": [
    "X_train.shape"
   ]
  },
  {
   "cell_type": "code",
   "execution_count": 24,
   "metadata": {
    "colab": {
     "base_uri": "https://localhost:8080/",
     "height": 34
    },
    "colab_type": "code",
    "id": "d5ui6hCy8rhP",
    "outputId": "d40f3e15-a427-479d-9991-bb6f00d67027"
   },
   "outputs": [
    {
     "data": {
      "text/plain": [
       "torch.Size([1000, 1])"
      ]
     },
     "execution_count": 24,
     "metadata": {
      "tags": []
     },
     "output_type": "execute_result"
    }
   ],
   "source": [
    "w2.shape"
   ]
  },
  {
   "cell_type": "code",
   "execution_count": 25,
   "metadata": {
    "colab": {
     "base_uri": "https://localhost:8080/",
     "height": 34
    },
    "colab_type": "code",
    "id": "2e3jwx3r8upU",
    "outputId": "6bc99247-1ee5-4a10-8fa1-894612627246"
   },
   "outputs": [
    {
     "data": {
      "text/plain": [
       "torch.Size([784, 1000])"
      ]
     },
     "execution_count": 25,
     "metadata": {
      "tags": []
     },
     "output_type": "execute_result"
    }
   ],
   "source": [
    "w1.shape"
   ]
  },
  {
   "cell_type": "code",
   "execution_count": 26,
   "metadata": {
    "colab": {
     "base_uri": "https://localhost:8080/",
     "height": 34
    },
    "colab_type": "code",
    "id": "VbrXGtO88-iK",
    "outputId": "9ace45fb-3388-4af8-c9e0-08245cd35322"
   },
   "outputs": [
    {
     "data": {
      "text/plain": [
       "torch.Size([50000, 784])"
      ]
     },
     "execution_count": 26,
     "metadata": {
      "tags": []
     },
     "output_type": "execute_result"
    }
   ],
   "source": [
    "X_train.shape"
   ]
  },
  {
   "cell_type": "code",
   "execution_count": 27,
   "metadata": {
    "colab": {
     "base_uri": "https://localhost:8080/",
     "height": 88
    },
    "colab_type": "code",
    "id": "eagxt4BueKNZ",
    "outputId": "e52a8929-521a-4f49-f83a-edf5e48136ed"
   },
   "outputs": [
    {
     "name": "stderr",
     "output_type": "stream",
     "text": [
      "/usr/local/lib/python3.6/dist-packages/ipykernel_launcher.py:1: UserWarning: To copy construct from a tensor, it is recommended to use sourceTensor.clone().detach() or sourceTensor.clone().detach().requires_grad_(True), rather than torch.tensor(sourceTensor).\n",
      "  \"\"\"Entry point for launching an IPython kernel.\n"
     ]
    },
    {
     "data": {
      "text/plain": [
       "10"
      ]
     },
     "execution_count": 27,
     "metadata": {
      "tags": []
     },
     "output_type": "execute_result"
    }
   ],
   "source": [
    "c = tensor(y_train).max().item() + 1; c"
   ]
  },
  {
   "cell_type": "code",
   "execution_count": null,
   "metadata": {
    "colab": {},
    "colab_type": "code",
    "id": "S76amxy67-l5"
   },
   "outputs": [],
   "source": [
    "y_cls_train = torch.zeros(size=(y_train.size()[0], c))"
   ]
  },
  {
   "cell_type": "code",
   "execution_count": 29,
   "metadata": {
    "colab": {
     "base_uri": "https://localhost:8080/",
     "height": 34
    },
    "colab_type": "code",
    "id": "60rPG1eKffN0",
    "outputId": "c5535576-54c4-495d-9be3-4ba035517e59"
   },
   "outputs": [
    {
     "data": {
      "text/plain": [
       "torch.Size([50000, 10])"
      ]
     },
     "execution_count": 29,
     "metadata": {
      "tags": []
     },
     "output_type": "execute_result"
    }
   ],
   "source": [
    "y_cls_train.size()"
   ]
  },
  {
   "cell_type": "code",
   "execution_count": null,
   "metadata": {
    "colab": {},
    "colab_type": "code",
    "id": "NAP_PeXjgOlj"
   },
   "outputs": [],
   "source": [
    "\n",
    "# def dense2cls(dense):\n",
    "#   c = dense.max().item() + 1\n",
    "#   cls = torch.zeros((dense.size()[0], c))\n",
    "#   return cls.scatter(1, dense[:, None], 1)"
   ]
  },
  {
   "cell_type": "code",
   "execution_count": null,
   "metadata": {
    "colab": {},
    "colab_type": "code",
    "id": "8nHdQcx0guXQ"
   },
   "outputs": [],
   "source": [
    "# y_train_cls, y_valid_cls = dense2cls(y_train), dense2cls(y_valid)"
   ]
  },
  {
   "cell_type": "code",
   "execution_count": null,
   "metadata": {
    "colab": {},
    "colab_type": "code",
    "id": "A3j6YefkgvgE"
   },
   "outputs": [],
   "source": [
    "def forward(x, y):\n",
    "  a1 = relu(linear(w1, x, b1))\n",
    "  out = linear(w2, a1, b2)\n",
    "  mse_ = mse(y, out)\n",
    "  return mse_"
   ]
  },
  {
   "cell_type": "code",
   "execution_count": 33,
   "metadata": {
    "colab": {
     "base_uri": "https://localhost:8080/",
     "height": 34
    },
    "colab_type": "code",
    "id": "eE5ylM2C9RpX",
    "outputId": "ed9dc57e-efb9-46b1-8d59-4b6dfb26483d"
   },
   "outputs": [
    {
     "data": {
      "text/plain": [
       "torch.Size([1, 1000])"
      ]
     },
     "execution_count": 33,
     "metadata": {
      "tags": []
     },
     "output_type": "execute_result"
    }
   ],
   "source": [
    "b1.shape"
   ]
  },
  {
   "cell_type": "code",
   "execution_count": 34,
   "metadata": {
    "colab": {
     "base_uri": "https://localhost:8080/",
     "height": 34
    },
    "colab_type": "code",
    "id": "UQghhJGfhFNu",
    "outputId": "cb35d3c6-b654-45c5-af6f-770b0743fdb3"
   },
   "outputs": [
    {
     "data": {
      "text/plain": [
       "tensor(27.5301)"
      ]
     },
     "execution_count": 34,
     "metadata": {
      "tags": []
     },
     "output_type": "execute_result"
    }
   ],
   "source": [
    "forward(X_train, y_train)"
   ]
  },
  {
   "cell_type": "code",
   "execution_count": null,
   "metadata": {
    "colab": {},
    "colab_type": "code",
    "id": "rq1hmZ6KhW14"
   },
   "outputs": [],
   "source": [
    "#export\n",
    "def d_mse(output, y): output.g =  2.*(output - y) / output.shape[0]\n",
    "def d_relu(inp, output): inp.g = (inp > 0).float() * output.g"
   ]
  },
  {
   "cell_type": "code",
   "execution_count": null,
   "metadata": {
    "colab": {},
    "colab_type": "code",
    "id": "pDHUYK-Cj2lY"
   },
   "outputs": [],
   "source": [
    "#export\n",
    "def d_linear(inp, output, w, b): \n",
    "  inp.g = output.g@w.t()\n",
    "  w.g = inp.t()@output.g\n",
    "  b.g = output.g.sum(0)"
   ]
  },
  {
   "cell_type": "code",
   "execution_count": null,
   "metadata": {
    "colab": {},
    "colab_type": "code",
    "id": "74ZVrOQ_xx2A"
   },
   "outputs": [],
   "source": [
    "#export\n",
    "def forward_and_backward(x, y):\n",
    "  # 50k x 1000\n",
    "  z1 = linear(w1, x, b1)\n",
    "  # 50k x 1000\n",
    "  a1 = relu(z1)\n",
    "  # 50k x 1\n",
    "  z2 = linear(w2, a1, b2)\n",
    "  # 1\n",
    "  mse_ = mse(y, z2)\n",
    "\n",
    "  # 50k x 1\n",
    "  d_mse(z2, y)\n",
    "  d_linear(a1, z2, w2, b2)\n",
    "  d_relu(z1, a1)\n",
    "  d_linear(x, z1, w1, b1)\n",
    "  return mse_"
   ]
  },
  {
   "cell_type": "code",
   "execution_count": null,
   "metadata": {
    "colab": {},
    "colab_type": "code",
    "id": "Zs6_USCYyrmn"
   },
   "outputs": [],
   "source": [
    "#export\n",
    "def test_allclose(a, b): assert torch.allclose(a, b, rtol=1e-3, atol=1e-5)"
   ]
  },
  {
   "cell_type": "code",
   "execution_count": null,
   "metadata": {
    "colab": {},
    "colab_type": "code",
    "id": "yF-uD6rzy0GP"
   },
   "outputs": [],
   "source": [
    "man_loss = forward_and_backward(X_train, y_train)"
   ]
  },
  {
   "cell_type": "code",
   "execution_count": 40,
   "metadata": {
    "colab": {
     "base_uri": "https://localhost:8080/",
     "height": 34
    },
    "colab_type": "code",
    "id": "z_hHJNhaCaTT",
    "outputId": "d6d43b23-4065-4502-97c6-1ff3ccfd482f"
   },
   "outputs": [
    {
     "data": {
      "text/plain": [
       "tensor(691029.)"
      ]
     },
     "execution_count": 40,
     "metadata": {
      "tags": []
     },
     "output_type": "execute_result"
    }
   ],
   "source": [
    "(w1.g != 0).float().sum()"
   ]
  },
  {
   "cell_type": "code",
   "execution_count": 41,
   "metadata": {
    "colab": {
     "base_uri": "https://localhost:8080/",
     "height": 34
    },
    "colab_type": "code",
    "id": "AXqbPxZQe11e",
    "outputId": "dc6cd8b0-ecae-4b46-e896-f46d7efed4e7"
   },
   "outputs": [
    {
     "data": {
      "text/plain": [
       "tensor(27.5301)"
      ]
     },
     "execution_count": 41,
     "metadata": {
      "tags": []
     },
     "output_type": "execute_result"
    }
   ],
   "source": [
    "man_loss"
   ]
  },
  {
   "cell_type": "code",
   "execution_count": null,
   "metadata": {
    "colab": {},
    "colab_type": "code",
    "id": "RUYN8fN9zVXR"
   },
   "outputs": [],
   "source": [
    "w1g = w1.g.clone()\n",
    "w2g = w2.g.clone()\n",
    "b1g = b1.g.clone()\n",
    "b2g = b2.g.clone()\n",
    "ig = X_train.g.clone()"
   ]
  },
  {
   "cell_type": "code",
   "execution_count": null,
   "metadata": {
    "colab": {},
    "colab_type": "code",
    "id": "c6XdRPKY1Etr"
   },
   "outputs": [],
   "source": [
    "xt2 = X_train.clone().requires_grad_(True)\n",
    "w12 = w1.clone().requires_grad_(True)\n",
    "w22 = w2.clone().requires_grad_(True)\n",
    "b12 = b1.clone().requires_grad_(True)\n",
    "b22 = b2.clone().requires_grad_(True)"
   ]
  },
  {
   "cell_type": "code",
   "execution_count": null,
   "metadata": {
    "colab": {},
    "colab_type": "code",
    "id": "ad5laeSF7hPC"
   },
   "outputs": [],
   "source": [
    "def forward2(inp, outp):\n",
    "  z1 = linear(w12, inp, b12)\n",
    "  a1 = relu(z1)\n",
    "  z2 = linear(w22, a1, b22)\n",
    "  loss = mse(outp, z2)\n",
    "  return loss"
   ]
  },
  {
   "cell_type": "code",
   "execution_count": null,
   "metadata": {
    "colab": {},
    "colab_type": "code",
    "id": "_5kBrrfc8CZx"
   },
   "outputs": [],
   "source": [
    "loss = forward2(xt2, y_train)"
   ]
  },
  {
   "cell_type": "code",
   "execution_count": 46,
   "metadata": {
    "colab": {
     "base_uri": "https://localhost:8080/",
     "height": 34
    },
    "colab_type": "code",
    "id": "ilpt-ZCnenoh",
    "outputId": "3d45ea77-3ae7-47ed-9578-aee88f5e1f77"
   },
   "outputs": [
    {
     "data": {
      "text/plain": [
       "tensor(27.5301, grad_fn=<MeanBackward0>)"
      ]
     },
     "execution_count": 46,
     "metadata": {
      "tags": []
     },
     "output_type": "execute_result"
    }
   ],
   "source": [
    "loss"
   ]
  },
  {
   "cell_type": "code",
   "execution_count": null,
   "metadata": {
    "colab": {},
    "colab_type": "code",
    "id": "Xgaa1Fs583W0"
   },
   "outputs": [],
   "source": [
    "loss.backward()"
   ]
  },
  {
   "cell_type": "code",
   "execution_count": 48,
   "metadata": {
    "colab": {
     "base_uri": "https://localhost:8080/",
     "height": 34
    },
    "colab_type": "code",
    "id": "9jz7PWYIa5cW",
    "outputId": "38a22d80-41ab-4e13-817e-3dabe3cc7aeb"
   },
   "outputs": [
    {
     "data": {
      "text/plain": [
       "tensor(0.0008)"
      ]
     },
     "execution_count": 48,
     "metadata": {
      "tags": []
     },
     "output_type": "execute_result"
    }
   ],
   "source": [
    "(w12.grad - w1g).sum()"
   ]
  },
  {
   "cell_type": "code",
   "execution_count": 49,
   "metadata": {
    "colab": {
     "base_uri": "https://localhost:8080/",
     "height": 34
    },
    "colab_type": "code",
    "id": "1w9QtK4sa9_w",
    "outputId": "6b3e3eb8-0477-46af-9944-8db76c6c0d24"
   },
   "outputs": [
    {
     "data": {
      "text/plain": [
       "tensor(-107.5014)"
      ]
     },
     "execution_count": 49,
     "metadata": {
      "tags": []
     },
     "output_type": "execute_result"
    }
   ],
   "source": [
    "w12.grad.sum()"
   ]
  },
  {
   "cell_type": "code",
   "execution_count": 50,
   "metadata": {
    "colab": {
     "base_uri": "https://localhost:8080/",
     "height": 34
    },
    "colab_type": "code",
    "id": "fqFvVZ5lbBdR",
    "outputId": "d04d740b-c380-4def-bd2d-d914238b6f98"
   },
   "outputs": [
    {
     "data": {
      "text/plain": [
       "tensor(-107.5023)"
      ]
     },
     "execution_count": 50,
     "metadata": {
      "tags": []
     },
     "output_type": "execute_result"
    }
   ],
   "source": [
    "w1g.sum()"
   ]
  },
  {
   "cell_type": "code",
   "execution_count": 51,
   "metadata": {
    "colab": {
     "base_uri": "https://localhost:8080/",
     "height": 34
    },
    "colab_type": "code",
    "id": "VfMjxsX1biVg",
    "outputId": "5df908cb-b86d-494d-82d4-d9cd35025a98"
   },
   "outputs": [
    {
     "data": {
      "text/plain": [
       "tensor(-0.0008)"
      ]
     },
     "execution_count": 51,
     "metadata": {
      "tags": []
     },
     "output_type": "execute_result"
    }
   ],
   "source": [
    "w1g.sum() - w12.grad.sum()"
   ]
  },
  {
   "cell_type": "code",
   "execution_count": null,
   "metadata": {
    "colab": {},
    "colab_type": "code",
    "id": "KRYPd1imC03L"
   },
   "outputs": [],
   "source": [
    "test_allclose(w22.grad, w2g)"
   ]
  },
  {
   "cell_type": "code",
   "execution_count": null,
   "metadata": {
    "colab": {},
    "colab_type": "code",
    "id": "i7OEqIgm-1PT"
   },
   "outputs": [],
   "source": [
    "test_allclose(w12.grad, w1.g)"
   ]
  },
  {
   "cell_type": "markdown",
   "metadata": {
    "colab_type": "text",
    "id": "3WmPcqHIkrOH"
   },
   "source": [
    "Now we switch to refactoring."
   ]
  },
  {
   "cell_type": "code",
   "execution_count": null,
   "metadata": {
    "colab": {},
    "colab_type": "code",
    "id": "2uFZ1RsTktMb"
   },
   "outputs": [],
   "source": [
    "class Lin(object):\n",
    "  def __init__(self, w, b):\n",
    "    self.w = w\n",
    "    self.b = b\n",
    "\n",
    "  def __call__(self, x):\n",
    "    return x@self.w + self.b"
   ]
  },
  {
   "cell_type": "code",
   "execution_count": null,
   "metadata": {
    "colab": {},
    "colab_type": "code",
    "id": "fFL3uMbdk2NR"
   },
   "outputs": [],
   "source": [
    "class ReLU(object):\n",
    "  def __call__(self, x):\n",
    "    return x.clamp_min(0).float()"
   ]
  },
  {
   "cell_type": "code",
   "execution_count": null,
   "metadata": {
    "colab": {},
    "colab_type": "code",
    "id": "-OwTyIcmk4g3"
   },
   "outputs": [],
   "source": [
    "class MSE(object):\n",
    "  def __init__(self, y):\n",
    "    self.y = y\n",
    "\n",
    "  def __call__(self, x):\n",
    "    return (x - self.y).pow(2).mean()"
   ]
  },
  {
   "cell_type": "code",
   "execution_count": null,
   "metadata": {
    "colab": {},
    "colab_type": "code",
    "id": "5pARn0g8k8H2"
   },
   "outputs": [],
   "source": [
    "class Model(object):\n",
    "  def __init__(self, layers):\n",
    "    self.layers = layers\n",
    "\n",
    "  def forward(self, x):\n",
    "    for l in self.layers: x = l(x)\n",
    "    return x\n",
    "\n",
    "  def backward(self):\n",
    "    for l in self.layers[::-1]: l.backward()"
   ]
  },
  {
   "cell_type": "code",
   "execution_count": null,
   "metadata": {
    "colab": {},
    "colab_type": "code",
    "id": "a0GmvprtnFzQ"
   },
   "outputs": [],
   "source": [
    "mdl = Model([\n",
    "  Lin(w1, b1),\n",
    "  ReLU(),\n",
    "  Lin(w2, b2),\n",
    "  MSE(y_train)    \n",
    "])"
   ]
  },
  {
   "cell_type": "code",
   "execution_count": 59,
   "metadata": {
    "colab": {
     "base_uri": "https://localhost:8080/",
     "height": 34
    },
    "colab_type": "code",
    "id": "2yfVIPmUoob3",
    "outputId": "1a34ab29-4627-4b6a-c438-f6a55ce0ef7a"
   },
   "outputs": [
    {
     "data": {
      "text/plain": [
       "tensor(27.5301)"
      ]
     },
     "execution_count": 59,
     "metadata": {
      "tags": []
     },
     "output_type": "execute_result"
    }
   ],
   "source": [
    "mdl.forward(X_train)"
   ]
  },
  {
   "cell_type": "code",
   "execution_count": null,
   "metadata": {
    "colab": {},
    "colab_type": "code",
    "id": "RtHwxTKbo06B"
   },
   "outputs": [],
   "source": [
    "class ReLU(object):\n",
    "  def forward(self, x):\n",
    "    self.inp = x\n",
    "    self.out = x.clamp_min(0).float()\n",
    "    return self.out\n",
    "\n",
    "  def backward(self):\n",
    "    self.inp.g = (self.inp > 0).float() * self.out.g\n",
    "\n",
    "  def __call__(self, x):\n",
    "    return self.forward(x)"
   ]
  },
  {
   "cell_type": "code",
   "execution_count": null,
   "metadata": {
    "colab": {},
    "colab_type": "code",
    "id": "td8V5Fj-pP39"
   },
   "outputs": [],
   "source": [
    "class MSE(object):\n",
    "\n",
    "  def __init__(self, y):\n",
    "    self.y = y\n",
    "\n",
    "  def forward(self, x):\n",
    "    self.inp = x\n",
    "    self.out = (x - self.y).pow(2).mean()\n",
    "    return self.out\n",
    "\n",
    "  def backward(self):\n",
    "    self.inp.g = 2. * (self.inp - self.y) / self.y.shape[0]\n",
    "\n",
    "  def __call__(self, x):\n",
    "    return self.forward(x)"
   ]
  },
  {
   "cell_type": "code",
   "execution_count": null,
   "metadata": {
    "colab": {},
    "colab_type": "code",
    "id": "PGsvxwtkpS9u"
   },
   "outputs": [],
   "source": [
    "class Lin(object):\n",
    "  def __init__(self, w, b):\n",
    "    self.w = w\n",
    "    self.b = b\n",
    "\n",
    "  def forward(self, x):\n",
    "    self.inp = x\n",
    "    self.out = x@self.w + self.b\n",
    "    return self.out\n",
    "\n",
    "  def backward(self):\n",
    "    self.inp.g = self.out.g @ self.w.t()\n",
    "    self.w.g = self.inp.t() @ self.out.g\n",
    "    self.b.g = self.out.g.sum(0)\n",
    "\n",
    "  def __call__(self, x):\n",
    "    return self.forward(x)"
   ]
  },
  {
   "cell_type": "code",
   "execution_count": null,
   "metadata": {
    "colab": {},
    "colab_type": "code",
    "id": "XD707oJKqon8"
   },
   "outputs": [],
   "source": [
    "mdl = Model([\n",
    "  Lin(w1, b1),\n",
    "  ReLU(),\n",
    "  Lin(w2, b2),\n",
    "  MSE(y_train)\n",
    "])"
   ]
  },
  {
   "cell_type": "code",
   "execution_count": 89,
   "metadata": {
    "colab": {
     "base_uri": "https://localhost:8080/",
     "height": 34
    },
    "colab_type": "code",
    "id": "WfS_-RFVsdjP",
    "outputId": "acbade07-7455-4b82-ac3c-8e4b14ef6757"
   },
   "outputs": [
    {
     "data": {
      "text/plain": [
       "tensor(27.5301)"
      ]
     },
     "execution_count": 89,
     "metadata": {
      "tags": []
     },
     "output_type": "execute_result"
    }
   ],
   "source": [
    "mdl.forward(X_train)"
   ]
  },
  {
   "cell_type": "code",
   "execution_count": null,
   "metadata": {
    "colab": {},
    "colab_type": "code",
    "id": "Z5rcqLP2sjVL"
   },
   "outputs": [],
   "source": [
    "mdl.backward()"
   ]
  },
  {
   "cell_type": "code",
   "execution_count": null,
   "metadata": {
    "colab": {},
    "colab_type": "code",
    "id": "XP5xU1BpvYyD"
   },
   "outputs": [],
   "source": [
    "w1g = w1.g.clone()\n",
    "w2g = w2.g.clone()\n",
    "b1g = b1.g.clone()\n",
    "b2g = b2.g.clone()\n",
    "ig = X_train.g.clone()\n",
    "xt2 = X_train.clone().requires_grad_(True)\n",
    "w12 = w1.clone().requires_grad_(True)\n",
    "w22 = w2.clone().requires_grad_(True)\n",
    "b12 = b1.clone().requires_grad_(True)\n",
    "b22 = b2.clone().requires_grad_(True)"
   ]
  },
  {
   "cell_type": "code",
   "execution_count": 67,
   "metadata": {
    "colab": {
     "base_uri": "https://localhost:8080/",
     "height": 34
    },
    "colab_type": "code",
    "id": "5MHEKuqOzp3d",
    "outputId": "8e9eb875-18ee-4f0f-8576-41325f1cebf6"
   },
   "outputs": [
    {
     "data": {
      "text/plain": [
       "tensor(27.5301, grad_fn=<MeanBackward0>)"
      ]
     },
     "execution_count": 67,
     "metadata": {
      "tags": []
     },
     "output_type": "execute_result"
    }
   ],
   "source": [
    "man_loss = forward2(xt2, y_train); man_loss"
   ]
  },
  {
   "cell_type": "code",
   "execution_count": null,
   "metadata": {
    "colab": {},
    "colab_type": "code",
    "id": "oTm8VvD8nSoE"
   },
   "outputs": [],
   "source": [
    "man_loss.backward()"
   ]
  },
  {
   "cell_type": "code",
   "execution_count": null,
   "metadata": {
    "colab": {},
    "colab_type": "code",
    "id": "k6f-vGtMZQqO"
   },
   "outputs": [],
   "source": [
    "test_allclose(w1g, w12.grad)"
   ]
  },
  {
   "cell_type": "code",
   "execution_count": null,
   "metadata": {
    "colab": {},
    "colab_type": "code",
    "id": "VwYuU68toXhy"
   },
   "outputs": [],
   "source": [
    "test_allclose(w1g, w12.grad)"
   ]
  },
  {
   "cell_type": "code",
   "execution_count": null,
   "metadata": {
    "colab": {},
    "colab_type": "code",
    "id": "Pv40t-2OZsHL"
   },
   "outputs": [],
   "source": [
    "test_allclose(w2g, w22.grad)"
   ]
  },
  {
   "cell_type": "code",
   "execution_count": null,
   "metadata": {
    "colab": {},
    "colab_type": "code",
    "id": "Z3oqxk6zod5D"
   },
   "outputs": [],
   "source": [
    "test_allclose(w2g, w22.grad)"
   ]
  },
  {
   "cell_type": "code",
   "execution_count": null,
   "metadata": {
    "colab": {},
    "colab_type": "code",
    "id": "Liw88SyMojqZ"
   },
   "outputs": [],
   "source": [
    "test_allclose(b1g, b12.grad)"
   ]
  },
  {
   "cell_type": "code",
   "execution_count": null,
   "metadata": {
    "colab": {},
    "colab_type": "code",
    "id": "s55putydoLWf"
   },
   "outputs": [],
   "source": [
    "test_allclose(b1g, b12.grad)"
   ]
  },
  {
   "cell_type": "code",
   "execution_count": null,
   "metadata": {
    "colab": {},
    "colab_type": "code",
    "id": "UiXREBx0oncs"
   },
   "outputs": [],
   "source": [
    "test_allclose(b2g, b22.grad)"
   ]
  },
  {
   "cell_type": "code",
   "execution_count": null,
   "metadata": {
    "colab": {},
    "colab_type": "code",
    "id": "g5x5X2VsoOS1"
   },
   "outputs": [],
   "source": [
    "test_allclose(b2g, b22.grad)"
   ]
  },
  {
   "cell_type": "code",
   "execution_count": null,
   "metadata": {
    "colab": {},
    "colab_type": "code",
    "id": "9rWvQdlaypMa"
   },
   "outputs": [],
   "source": [
    "my_grads = [w1g, w2g, b1g, b2g]\n",
    "torch_grads = [w12.grad, w22.grad, b12.grad, b22.grad]\n",
    "for i,j in zip(my_grads, torch_grads):\n",
    "  test_allclose(i, j)"
   ]
  },
  {
   "cell_type": "markdown",
   "metadata": {
    "colab_type": "text",
    "id": "PPzMzDZedH3N"
   },
   "source": [
    "We see that each module has a backward and forward pass. Each model component directly implements a forward and a backward. A model is comprised of several model components, through which inputs are passed. When `backward` is called, it calls backward on each of the model components. "
   ]
  },
  {
   "cell_type": "code",
   "execution_count": null,
   "metadata": {
    "colab": {},
    "colab_type": "code",
    "id": "uiVDFtDvZpzJ"
   },
   "outputs": [],
   "source": [
    "#export\n",
    "class Module(object):\n",
    "  \n",
    "  def forward(self, x):\n",
    "    raise NotImplementedError()\n",
    "\n",
    "  def backward(self):\n",
    "    raise NotImplementedError()\n",
    "\n",
    "  def __call__(self, x):\n",
    "     return self.forward(x)"
   ]
  },
  {
   "cell_type": "code",
   "execution_count": null,
   "metadata": {
    "colab": {},
    "colab_type": "code",
    "id": "09f0VtM_fu1x"
   },
   "outputs": [],
   "source": [
    "#export\n",
    "class Loss(object):\n",
    "  def forward(self, x, y):\n",
    "    raise NotImplementedError\n",
    "\n",
    "  def backward(self): \n",
    "    raise NotImplementedError\n",
    "\n",
    "  def __call__(self, x, y):\n",
    "    return self.forward(x, y)"
   ]
  },
  {
   "cell_type": "code",
   "execution_count": null,
   "metadata": {
    "colab": {},
    "colab_type": "code",
    "id": "yXgb1AxnePaN"
   },
   "outputs": [],
   "source": [
    "#export\n",
    "class Model(object):\n",
    "  def __init__(self, layers: List[Module], loss: Loss):\n",
    "    self.layers = layers\n",
    "    self.loss = loss\n",
    "\n",
    "  def forward(self, x, y):\n",
    "    self.inp = x\n",
    "    for l in self.layers: x = l(x)\n",
    "    x = self.loss(x, y)\n",
    "    self.out = x\n",
    "    return x\n",
    "\n",
    "  def backward(self):\n",
    "    self.loss.backward()\n",
    "    for l in self.layers[::-1]: l.backward()\n",
    "\n",
    "  def __call__(self, x, y):\n",
    "    return self.forward(x, y)"
   ]
  },
  {
   "cell_type": "code",
   "execution_count": null,
   "metadata": {
    "colab": {},
    "colab_type": "code",
    "id": "xjV71jlmgypk"
   },
   "outputs": [],
   "source": [
    "#export\n",
    "class Lin(Module):\n",
    "  def __init__(self, w, b):\n",
    "    self.w = w\n",
    "    self.b = b\n",
    "\n",
    "  def forward(self, x):\n",
    "    self.inp = x\n",
    "    self.out = x@self.w + self.b\n",
    "    return self.out\n",
    "\n",
    "  def backward(self):\n",
    "    self.inp.g = self.out.g @ self.w.t()\n",
    "    self.w.g = self.inp.t() @ self.out.g\n",
    "    self.b.g = self.out.g.sum(0)\n",
    "\n",
    "class ReLU(Module):\n",
    "  def forward(self, x):\n",
    "    self.inp = x\n",
    "    self.out = x.clamp_min(0).float()\n",
    "    return self.out\n",
    "\n",
    "  def backward(self):\n",
    "    self.inp.g = (self.inp > 0).float() * self.out.g\n",
    "\n",
    "class MSE(Loss):\n",
    "  \n",
    "  def forward(self, x, y):\n",
    "    self.inp = x\n",
    "    self.y = y\n",
    "    self.out = (x - y).pow(2).mean()\n",
    "    return self.out\n",
    "\n",
    "  def backward(self):\n",
    "    self.inp.g = 2. * (self.inp - self.y) / self.y.shape[0]"
   ]
  },
  {
   "cell_type": "code",
   "execution_count": null,
   "metadata": {
    "colab": {},
    "colab_type": "code",
    "id": "YsBxPJUEiFPT"
   },
   "outputs": [],
   "source": [
    "mdl = Model([\n",
    "  Lin(w1, b1),\n",
    "  ReLU(),\n",
    "  Lin(w2, b2)\n",
    "], loss=MSE())"
   ]
  },
  {
   "cell_type": "code",
   "execution_count": 96,
   "metadata": {
    "colab": {
     "base_uri": "https://localhost:8080/",
     "height": 34
    },
    "colab_type": "code",
    "id": "llJfES2iirCb",
    "outputId": "d4e26824-245e-444f-b08f-978dc496b8be"
   },
   "outputs": [
    {
     "data": {
      "text/plain": [
       "tensor(27.5301)"
      ]
     },
     "execution_count": 96,
     "metadata": {
      "tags": []
     },
     "output_type": "execute_result"
    }
   ],
   "source": [
    "mdl(X_train, y_train)"
   ]
  },
  {
   "cell_type": "code",
   "execution_count": 97,
   "metadata": {
    "colab": {
     "base_uri": "https://localhost:8080/",
     "height": 34
    },
    "colab_type": "code",
    "id": "6Wq-unBNi0iR",
    "outputId": "1d80551c-ab0e-45cf-fceb-93b1a6d7e8d4"
   },
   "outputs": [
    {
     "data": {
      "text/plain": [
       "tensor(27.5301)"
      ]
     },
     "execution_count": 97,
     "metadata": {
      "tags": []
     },
     "output_type": "execute_result"
    }
   ],
   "source": [
    "mdl.forward(X_train, y_train)"
   ]
  },
  {
   "cell_type": "code",
   "execution_count": null,
   "metadata": {
    "colab": {},
    "colab_type": "code",
    "id": "y-aEfnNnlXBA"
   },
   "outputs": [],
   "source": [
    "mdl.backward()"
   ]
  },
  {
   "cell_type": "code",
   "execution_count": null,
   "metadata": {
    "colab": {},
    "colab_type": "code",
    "id": "0cQZ1aaflt94"
   },
   "outputs": [],
   "source": [
    "w1g = w1.g.clone()\n",
    "w2g = w2.g.clone()\n",
    "b1g = b1.g.clone()\n",
    "b2g = b2.g.clone()\n",
    "ig = X_train.g.clone()\n",
    "xt2 = X_train.clone().requires_grad_(True)\n",
    "w12 = w1.clone().requires_grad_(True)\n",
    "w22 = w2.clone().requires_grad_(True)\n",
    "b12 = b1.clone().requires_grad_(True)\n",
    "b22 = b2.clone().requires_grad_(True)\n",
    "def forward2(inp, outp):\n",
    "  z1 = linear(w12, inp, b12)\n",
    "  a1 = relu(z1)\n",
    "  z2 = linear(w22, a1, b22)\n",
    "  loss = mse(outp, z2)\n",
    "  return loss"
   ]
  },
  {
   "cell_type": "code",
   "execution_count": null,
   "metadata": {
    "colab": {},
    "colab_type": "code",
    "id": "G9pseM5blynS"
   },
   "outputs": [],
   "source": [
    "loss = forward2(xt2, y_train)"
   ]
  },
  {
   "cell_type": "code",
   "execution_count": 101,
   "metadata": {
    "colab": {
     "base_uri": "https://localhost:8080/",
     "height": 34
    },
    "colab_type": "code",
    "id": "W0fbjyvHl448",
    "outputId": "4d22f5c5-fe44-4e5a-e5cd-63b817ba0fc6"
   },
   "outputs": [
    {
     "data": {
      "text/plain": [
       "tensor(27.5301, grad_fn=<MeanBackward0>)"
      ]
     },
     "execution_count": 101,
     "metadata": {
      "tags": []
     },
     "output_type": "execute_result"
    }
   ],
   "source": [
    "loss"
   ]
  },
  {
   "cell_type": "code",
   "execution_count": null,
   "metadata": {
    "colab": {},
    "colab_type": "code",
    "id": "MEfYp4oLl5na"
   },
   "outputs": [],
   "source": [
    "loss.backward()"
   ]
  },
  {
   "cell_type": "code",
   "execution_count": null,
   "metadata": {
    "colab": {},
    "colab_type": "code",
    "id": "Gh_RORQ9l7dS"
   },
   "outputs": [],
   "source": [
    "test_allclose(w1g, w12.grad)"
   ]
  },
  {
   "cell_type": "code",
   "execution_count": null,
   "metadata": {
    "colab": {},
    "colab_type": "code",
    "id": "ErRlObspmMWM"
   },
   "outputs": [],
   "source": [
    "test_allclose(w2g, w22.grad)"
   ]
  },
  {
   "cell_type": "code",
   "execution_count": null,
   "metadata": {
    "colab": {},
    "colab_type": "code",
    "id": "wkDXMr8XmP3A"
   },
   "outputs": [],
   "source": [
    "test_allclose(b1g, b12.grad)"
   ]
  },
  {
   "cell_type": "code",
   "execution_count": null,
   "metadata": {
    "colab": {},
    "colab_type": "code",
    "id": "rwhURwNwmSPr"
   },
   "outputs": [],
   "source": [
    "test_allclose(b2g, b22.grad)"
   ]
  },
  {
   "cell_type": "code",
   "execution_count": null,
   "metadata": {
    "colab": {},
    "colab_type": "code",
    "id": "QJlDvfK7mT56"
   },
   "outputs": [],
   "source": []
  },
  {
   "cell_type": "code",
   "execution_count": null,
   "metadata": {
    "colab": {},
    "colab_type": "code",
    "id": "Buk3m1KUoblp"
   },
   "outputs": [],
   "source": []
  }
 ],
 "metadata": {
  "colab": {
   "collapsed_sections": [],
   "machine_shape": "hm",
   "name": "00_lesson1",
   "provenance": []
  },
  "kernelspec": {
   "display_name": "Python 3",
   "language": "python",
   "name": "python3"
  },
  "language_info": {
   "codemirror_mode": {
    "name": "ipython",
    "version": 3
   },
   "file_extension": ".py",
   "mimetype": "text/x-python",
   "name": "python",
   "nbconvert_exporter": "python",
   "pygments_lexer": "ipython3",
   "version": "3.6.10"
  }
 },
 "nbformat": 4,
 "nbformat_minor": 4
}
