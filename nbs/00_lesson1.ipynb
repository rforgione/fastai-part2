{
  "nbformat": 4,
  "nbformat_minor": 0,
  "metadata": {
    "colab": {
      "name": "00_lesson1",
      "provenance": [],
      "collapsed_sections": [],
      "machine_shape": "hm"
    },
    "kernelspec": {
      "name": "python3",
      "display_name": "Python 3"
    }
  },
  "cells": [
    {
      "cell_type": "code",
      "metadata": {
        "id": "2zhIT2faJ4Ih",
        "colab_type": "code",
        "colab": {}
      },
      "source": [
        "#default_exp lesson1"
      ],
      "execution_count": 0,
      "outputs": []
    },
    {
      "cell_type": "code",
      "metadata": {
        "id": "DYOVSvQ8v7Ko",
        "colab_type": "code",
        "colab": {}
      },
      "source": [
        "#export\n",
        "from torch import tensor\n",
        "import torch\n",
        "import pickle\n",
        "from fastai.utils import *\n",
        "from fastai.datasets import *\n",
        "import gzip\n",
        "import math\n",
        "from typing import *"
      ],
      "execution_count": 0,
      "outputs": []
    },
    {
      "cell_type": "code",
      "metadata": {
        "id": "Aa0Fv_dswNM_",
        "colab_type": "code",
        "colab": {}
      },
      "source": [
        "MNIST_URL='http://deeplearning.net/data/mnist/mnist.pkl'"
      ],
      "execution_count": 0,
      "outputs": []
    },
    {
      "cell_type": "code",
      "metadata": {
        "id": "v6bRzM-twO1v",
        "colab_type": "code",
        "colab": {
          "base_uri": "https://localhost:8080/",
          "height": 34
        },
        "outputId": "321981ea-9714-46df-baa2-31c0cda37c90"
      },
      "source": [
        "data_path = download_data(MNIST_URL, ext='.gz')"
      ],
      "execution_count": 3,
      "outputs": [
        {
          "output_type": "stream",
          "text": [
            "Downloading http://deeplearning.net/data/mnist/mnist.pkl\n"
          ],
          "name": "stdout"
        },
        {
          "output_type": "display_data",
          "data": {
            "text/html": [
              ""
            ],
            "text/plain": [
              "<IPython.core.display.HTML object>"
            ]
          },
          "metadata": {
            "tags": []
          }
        }
      ]
    },
    {
      "cell_type": "code",
      "metadata": {
        "id": "6s_fxc5F1Y53",
        "colab_type": "code",
        "outputId": "91ca11e7-470f-45e9-d019-671ac1535a48",
        "colab": {
          "base_uri": "https://localhost:8080/",
          "height": 34
        }
      },
      "source": [
        "! ls {data_path}"
      ],
      "execution_count": 4,
      "outputs": [
        {
          "output_type": "stream",
          "text": [
            "/root/.fastai/data/mnist.pkl.gz\n"
          ],
          "name": "stdout"
        }
      ]
    },
    {
      "cell_type": "code",
      "metadata": {
        "id": "qw1ZMxa807Bw",
        "colab_type": "code",
        "colab": {}
      },
      "source": [
        "#export\n",
        "def get_data(data_path):\n",
        "  with gzip.open(data_path, mode=\"rb\") as d:\n",
        "    ((X_train, y_train), (X_valid, y_valid), _) = pickle.load(d, encoding='latin-1')\n",
        "    X_train, y_train, X_valid, y_valid = map(torch.tensor, (X_train, y_train, X_valid, y_valid))\n",
        "    return (X_train, y_train, X_valid, y_valid)"
      ],
      "execution_count": 0,
      "outputs": []
    },
    {
      "cell_type": "code",
      "metadata": {
        "id": "RXf2bQiLH8GD",
        "colab_type": "code",
        "colab": {}
      },
      "source": [
        "X_train, y_train, X_valid, y_valid = get_data(data_path)"
      ],
      "execution_count": 0,
      "outputs": []
    },
    {
      "cell_type": "code",
      "metadata": {
        "id": "2_4fIoWe41Cq",
        "colab_type": "code",
        "outputId": "ec23048a-b2bd-4bfe-a5a8-4414289e6ba1",
        "colab": {
          "base_uri": "https://localhost:8080/",
          "height": 34
        }
      },
      "source": [
        "X_train.shape"
      ],
      "execution_count": 8,
      "outputs": [
        {
          "output_type": "execute_result",
          "data": {
            "text/plain": [
              "torch.Size([50000, 784])"
            ]
          },
          "metadata": {
            "tags": []
          },
          "execution_count": 8
        }
      ]
    },
    {
      "cell_type": "code",
      "metadata": {
        "id": "plK7WIYh44FZ",
        "colab_type": "code",
        "outputId": "b5cbc5fd-1186-4e3e-aaf0-f11bd8cf7995",
        "colab": {
          "base_uri": "https://localhost:8080/",
          "height": 34
        }
      },
      "source": [
        "X_valid.shape"
      ],
      "execution_count": 9,
      "outputs": [
        {
          "output_type": "execute_result",
          "data": {
            "text/plain": [
              "torch.Size([10000, 784])"
            ]
          },
          "metadata": {
            "tags": []
          },
          "execution_count": 9
        }
      ]
    },
    {
      "cell_type": "code",
      "metadata": {
        "id": "hKwf_dzk454c",
        "colab_type": "code",
        "outputId": "35d1bf03-01f2-492e-f06c-0530e7c95ffd",
        "colab": {
          "base_uri": "https://localhost:8080/",
          "height": 34
        }
      },
      "source": [
        "y_train.shape"
      ],
      "execution_count": 10,
      "outputs": [
        {
          "output_type": "execute_result",
          "data": {
            "text/plain": [
              "torch.Size([50000])"
            ]
          },
          "metadata": {
            "tags": []
          },
          "execution_count": 10
        }
      ]
    },
    {
      "cell_type": "code",
      "metadata": {
        "id": "0p6AccklD0h9",
        "colab_type": "code",
        "colab": {}
      },
      "source": [
        "y_train = y_train.unsqueeze(-1)"
      ],
      "execution_count": 0,
      "outputs": []
    },
    {
      "cell_type": "code",
      "metadata": {
        "id": "iq_pil_SQpyQ",
        "colab_type": "code",
        "outputId": "45619ee1-94c0-4139-d197-0bf0b13cc9eb",
        "colab": {
          "base_uri": "https://localhost:8080/",
          "height": 34
        }
      },
      "source": [
        "y_train.shape"
      ],
      "execution_count": 12,
      "outputs": [
        {
          "output_type": "execute_result",
          "data": {
            "text/plain": [
              "torch.Size([50000, 1])"
            ]
          },
          "metadata": {
            "tags": []
          },
          "execution_count": 12
        }
      ]
    },
    {
      "cell_type": "code",
      "metadata": {
        "id": "0bwhX11N47do",
        "colab_type": "code",
        "outputId": "d55358cb-5e74-4977-e2e2-d0093eb6e386",
        "colab": {
          "base_uri": "https://localhost:8080/",
          "height": 34
        }
      },
      "source": [
        "y_valid.shape"
      ],
      "execution_count": 13,
      "outputs": [
        {
          "output_type": "execute_result",
          "data": {
            "text/plain": [
              "torch.Size([10000])"
            ]
          },
          "metadata": {
            "tags": []
          },
          "execution_count": 13
        }
      ]
    },
    {
      "cell_type": "code",
      "metadata": {
        "id": "15qGzTbsD3Eo",
        "colab_type": "code",
        "colab": {}
      },
      "source": [
        "y_valid = y_valid.unsqueeze(-1)"
      ],
      "execution_count": 0,
      "outputs": []
    },
    {
      "cell_type": "code",
      "metadata": {
        "id": "W2exTi_r49Kl",
        "colab_type": "code",
        "colab": {}
      },
      "source": [
        "nh = 1000\n",
        "n_out = 1\n",
        "# 784 x 1000\n",
        "w1 = torch.randn(X_train.shape[1], nh)/math.sqrt(X_train.shape[1])\n",
        "# 1 x 1000\n",
        "b1 = torch.zeros(1, nh)\n",
        "# 1000 x 1\n",
        "w2 = torch.randn(nh, n_out)/math.sqrt(nh)\n",
        "# 1 x 1\n",
        "b2 = torch.zeros(1, n_out)"
      ],
      "execution_count": 0,
      "outputs": []
    },
    {
      "cell_type": "code",
      "metadata": {
        "id": "JspmitYv5beJ",
        "colab_type": "code",
        "colab": {}
      },
      "source": [
        "#export\n",
        "def linear(w, x, b): \n",
        "  return x@w + b"
      ],
      "execution_count": 0,
      "outputs": []
    },
    {
      "cell_type": "code",
      "metadata": {
        "id": "CKDAsmR86cef",
        "colab_type": "code",
        "colab": {}
      },
      "source": [
        "#export\n",
        "def relu(z): return z.clamp_min(0.).float()"
      ],
      "execution_count": 0,
      "outputs": []
    },
    {
      "cell_type": "code",
      "metadata": {
        "id": "6V2uXR5DILfy",
        "colab_type": "code",
        "colab": {}
      },
      "source": [
        "# NOTE: this does not make sense as a loss function in this case\n",
        "# we're using it purely for pedagogical purposes"
      ],
      "execution_count": 0,
      "outputs": []
    },
    {
      "cell_type": "code",
      "metadata": {
        "id": "R1a6QvEt6mBj",
        "colab_type": "code",
        "colab": {}
      },
      "source": [
        "#export\n",
        "def mse(y, y_hat): return (y_hat - y).pow(2).mean()"
      ],
      "execution_count": 0,
      "outputs": []
    },
    {
      "cell_type": "code",
      "metadata": {
        "id": "fnntEO1-X-M9",
        "colab_type": "code",
        "colab": {}
      },
      "source": [
        "def sigmoid(x): return 1./(1+torch.exp(-x))"
      ],
      "execution_count": 0,
      "outputs": []
    },
    {
      "cell_type": "code",
      "metadata": {
        "id": "HFrbhiaA8Iag",
        "colab_type": "code",
        "outputId": "2cb04cba-6e9d-4db6-ec9c-4c275d646d2a",
        "colab": {
          "base_uri": "https://localhost:8080/",
          "height": 34
        }
      },
      "source": [
        "w1.shape"
      ],
      "execution_count": 22,
      "outputs": [
        {
          "output_type": "execute_result",
          "data": {
            "text/plain": [
              "torch.Size([784, 1000])"
            ]
          },
          "metadata": {
            "tags": []
          },
          "execution_count": 22
        }
      ]
    },
    {
      "cell_type": "code",
      "metadata": {
        "id": "9qKZrfD38PJ1",
        "colab_type": "code",
        "outputId": "3e0bf80c-775c-453c-920e-9401adcad67f",
        "colab": {
          "base_uri": "https://localhost:8080/",
          "height": 34
        }
      },
      "source": [
        "X_train.shape"
      ],
      "execution_count": 23,
      "outputs": [
        {
          "output_type": "execute_result",
          "data": {
            "text/plain": [
              "torch.Size([50000, 784])"
            ]
          },
          "metadata": {
            "tags": []
          },
          "execution_count": 23
        }
      ]
    },
    {
      "cell_type": "code",
      "metadata": {
        "id": "d5ui6hCy8rhP",
        "colab_type": "code",
        "outputId": "d40f3e15-a427-479d-9991-bb6f00d67027",
        "colab": {
          "base_uri": "https://localhost:8080/",
          "height": 34
        }
      },
      "source": [
        "w2.shape"
      ],
      "execution_count": 24,
      "outputs": [
        {
          "output_type": "execute_result",
          "data": {
            "text/plain": [
              "torch.Size([1000, 1])"
            ]
          },
          "metadata": {
            "tags": []
          },
          "execution_count": 24
        }
      ]
    },
    {
      "cell_type": "code",
      "metadata": {
        "id": "2e3jwx3r8upU",
        "colab_type": "code",
        "outputId": "6bc99247-1ee5-4a10-8fa1-894612627246",
        "colab": {
          "base_uri": "https://localhost:8080/",
          "height": 34
        }
      },
      "source": [
        "w1.shape"
      ],
      "execution_count": 25,
      "outputs": [
        {
          "output_type": "execute_result",
          "data": {
            "text/plain": [
              "torch.Size([784, 1000])"
            ]
          },
          "metadata": {
            "tags": []
          },
          "execution_count": 25
        }
      ]
    },
    {
      "cell_type": "code",
      "metadata": {
        "id": "VbrXGtO88-iK",
        "colab_type": "code",
        "outputId": "9ace45fb-3388-4af8-c9e0-08245cd35322",
        "colab": {
          "base_uri": "https://localhost:8080/",
          "height": 34
        }
      },
      "source": [
        "X_train.shape"
      ],
      "execution_count": 26,
      "outputs": [
        {
          "output_type": "execute_result",
          "data": {
            "text/plain": [
              "torch.Size([50000, 784])"
            ]
          },
          "metadata": {
            "tags": []
          },
          "execution_count": 26
        }
      ]
    },
    {
      "cell_type": "code",
      "metadata": {
        "id": "eagxt4BueKNZ",
        "colab_type": "code",
        "outputId": "e52a8929-521a-4f49-f83a-edf5e48136ed",
        "colab": {
          "base_uri": "https://localhost:8080/",
          "height": 88
        }
      },
      "source": [
        "c = tensor(y_train).max().item() + 1; c"
      ],
      "execution_count": 27,
      "outputs": [
        {
          "output_type": "stream",
          "text": [
            "/usr/local/lib/python3.6/dist-packages/ipykernel_launcher.py:1: UserWarning: To copy construct from a tensor, it is recommended to use sourceTensor.clone().detach() or sourceTensor.clone().detach().requires_grad_(True), rather than torch.tensor(sourceTensor).\n",
            "  \"\"\"Entry point for launching an IPython kernel.\n"
          ],
          "name": "stderr"
        },
        {
          "output_type": "execute_result",
          "data": {
            "text/plain": [
              "10"
            ]
          },
          "metadata": {
            "tags": []
          },
          "execution_count": 27
        }
      ]
    },
    {
      "cell_type": "code",
      "metadata": {
        "id": "S76amxy67-l5",
        "colab_type": "code",
        "colab": {}
      },
      "source": [
        "y_cls_train = torch.zeros(size=(y_train.size()[0], c))"
      ],
      "execution_count": 0,
      "outputs": []
    },
    {
      "cell_type": "code",
      "metadata": {
        "id": "60rPG1eKffN0",
        "colab_type": "code",
        "outputId": "c5535576-54c4-495d-9be3-4ba035517e59",
        "colab": {
          "base_uri": "https://localhost:8080/",
          "height": 34
        }
      },
      "source": [
        "y_cls_train.size()"
      ],
      "execution_count": 29,
      "outputs": [
        {
          "output_type": "execute_result",
          "data": {
            "text/plain": [
              "torch.Size([50000, 10])"
            ]
          },
          "metadata": {
            "tags": []
          },
          "execution_count": 29
        }
      ]
    },
    {
      "cell_type": "code",
      "metadata": {
        "id": "NAP_PeXjgOlj",
        "colab_type": "code",
        "colab": {}
      },
      "source": [
        "\n",
        "# def dense2cls(dense):\n",
        "#   c = dense.max().item() + 1\n",
        "#   cls = torch.zeros((dense.size()[0], c))\n",
        "#   return cls.scatter(1, dense[:, None], 1)"
      ],
      "execution_count": 0,
      "outputs": []
    },
    {
      "cell_type": "code",
      "metadata": {
        "id": "8nHdQcx0guXQ",
        "colab_type": "code",
        "colab": {}
      },
      "source": [
        "# y_train_cls, y_valid_cls = dense2cls(y_train), dense2cls(y_valid)"
      ],
      "execution_count": 0,
      "outputs": []
    },
    {
      "cell_type": "code",
      "metadata": {
        "id": "A3j6YefkgvgE",
        "colab_type": "code",
        "colab": {}
      },
      "source": [
        "def forward(x, y):\n",
        "  a1 = relu(linear(w1, x, b1))\n",
        "  out = linear(w2, a1, b2)\n",
        "  mse_ = mse(y, out)\n",
        "  return mse_"
      ],
      "execution_count": 0,
      "outputs": []
    },
    {
      "cell_type": "code",
      "metadata": {
        "id": "eE5ylM2C9RpX",
        "colab_type": "code",
        "outputId": "ed9dc57e-efb9-46b1-8d59-4b6dfb26483d",
        "colab": {
          "base_uri": "https://localhost:8080/",
          "height": 34
        }
      },
      "source": [
        "b1.shape"
      ],
      "execution_count": 33,
      "outputs": [
        {
          "output_type": "execute_result",
          "data": {
            "text/plain": [
              "torch.Size([1, 1000])"
            ]
          },
          "metadata": {
            "tags": []
          },
          "execution_count": 33
        }
      ]
    },
    {
      "cell_type": "code",
      "metadata": {
        "id": "UQghhJGfhFNu",
        "colab_type": "code",
        "outputId": "cb35d3c6-b654-45c5-af6f-770b0743fdb3",
        "colab": {
          "base_uri": "https://localhost:8080/",
          "height": 34
        }
      },
      "source": [
        "forward(X_train, y_train)"
      ],
      "execution_count": 34,
      "outputs": [
        {
          "output_type": "execute_result",
          "data": {
            "text/plain": [
              "tensor(27.5301)"
            ]
          },
          "metadata": {
            "tags": []
          },
          "execution_count": 34
        }
      ]
    },
    {
      "cell_type": "code",
      "metadata": {
        "id": "rq1hmZ6KhW14",
        "colab_type": "code",
        "colab": {}
      },
      "source": [
        "#export\n",
        "def d_mse(output, y): output.g =  2.*(output - y) / output.shape[0]\n",
        "def d_relu(inp, output): inp.g = (inp > 0).float() * output.g"
      ],
      "execution_count": 0,
      "outputs": []
    },
    {
      "cell_type": "code",
      "metadata": {
        "id": "pDHUYK-Cj2lY",
        "colab_type": "code",
        "colab": {}
      },
      "source": [
        "#export\n",
        "def d_linear(inp, output, w, b): \n",
        "  inp.g = output.g@w.t()\n",
        "  w.g = inp.t()@output.g\n",
        "  b.g = output.g.sum(0)"
      ],
      "execution_count": 0,
      "outputs": []
    },
    {
      "cell_type": "code",
      "metadata": {
        "id": "74ZVrOQ_xx2A",
        "colab_type": "code",
        "colab": {}
      },
      "source": [
        "#export\n",
        "def forward_and_backward(x, y):\n",
        "  # 50k x 1000\n",
        "  z1 = linear(w1, x, b1)\n",
        "  # 50k x 1000\n",
        "  a1 = relu(z1)\n",
        "  # 50k x 1\n",
        "  z2 = linear(w2, a1, b2)\n",
        "  # 1\n",
        "  mse_ = mse(y, z2)\n",
        "\n",
        "  # 50k x 1\n",
        "  d_mse(z2, y)\n",
        "  d_linear(a1, z2, w2, b2)\n",
        "  d_relu(z1, a1)\n",
        "  d_linear(x, z1, w1, b1)\n",
        "  return mse_"
      ],
      "execution_count": 0,
      "outputs": []
    },
    {
      "cell_type": "code",
      "metadata": {
        "id": "Zs6_USCYyrmn",
        "colab_type": "code",
        "colab": {}
      },
      "source": [
        "#export\n",
        "def test_allclose(a, b): assert torch.allclose(a, b, rtol=1e-3, atol=1e-5)"
      ],
      "execution_count": 0,
      "outputs": []
    },
    {
      "cell_type": "code",
      "metadata": {
        "id": "yF-uD6rzy0GP",
        "colab_type": "code",
        "colab": {}
      },
      "source": [
        "man_loss = forward_and_backward(X_train, y_train)"
      ],
      "execution_count": 0,
      "outputs": []
    },
    {
      "cell_type": "code",
      "metadata": {
        "id": "z_hHJNhaCaTT",
        "colab_type": "code",
        "outputId": "d6d43b23-4065-4502-97c6-1ff3ccfd482f",
        "colab": {
          "base_uri": "https://localhost:8080/",
          "height": 34
        }
      },
      "source": [
        "(w1.g != 0).float().sum()"
      ],
      "execution_count": 40,
      "outputs": [
        {
          "output_type": "execute_result",
          "data": {
            "text/plain": [
              "tensor(691029.)"
            ]
          },
          "metadata": {
            "tags": []
          },
          "execution_count": 40
        }
      ]
    },
    {
      "cell_type": "code",
      "metadata": {
        "id": "AXqbPxZQe11e",
        "colab_type": "code",
        "outputId": "dc6cd8b0-ecae-4b46-e896-f46d7efed4e7",
        "colab": {
          "base_uri": "https://localhost:8080/",
          "height": 34
        }
      },
      "source": [
        "man_loss"
      ],
      "execution_count": 41,
      "outputs": [
        {
          "output_type": "execute_result",
          "data": {
            "text/plain": [
              "tensor(27.5301)"
            ]
          },
          "metadata": {
            "tags": []
          },
          "execution_count": 41
        }
      ]
    },
    {
      "cell_type": "code",
      "metadata": {
        "id": "RUYN8fN9zVXR",
        "colab_type": "code",
        "colab": {}
      },
      "source": [
        "w1g = w1.g.clone()\n",
        "w2g = w2.g.clone()\n",
        "b1g = b1.g.clone()\n",
        "b2g = b2.g.clone()\n",
        "ig = X_train.g.clone()"
      ],
      "execution_count": 0,
      "outputs": []
    },
    {
      "cell_type": "code",
      "metadata": {
        "id": "c6XdRPKY1Etr",
        "colab_type": "code",
        "colab": {}
      },
      "source": [
        "xt2 = X_train.clone().requires_grad_(True)\n",
        "w12 = w1.clone().requires_grad_(True)\n",
        "w22 = w2.clone().requires_grad_(True)\n",
        "b12 = b1.clone().requires_grad_(True)\n",
        "b22 = b2.clone().requires_grad_(True)"
      ],
      "execution_count": 0,
      "outputs": []
    },
    {
      "cell_type": "code",
      "metadata": {
        "id": "ad5laeSF7hPC",
        "colab_type": "code",
        "colab": {}
      },
      "source": [
        "def forward2(inp, outp):\n",
        "  z1 = linear(w12, inp, b12)\n",
        "  a1 = relu(z1)\n",
        "  z2 = linear(w22, a1, b22)\n",
        "  loss = mse(outp, z2)\n",
        "  return loss"
      ],
      "execution_count": 0,
      "outputs": []
    },
    {
      "cell_type": "code",
      "metadata": {
        "id": "_5kBrrfc8CZx",
        "colab_type": "code",
        "colab": {}
      },
      "source": [
        "loss = forward2(xt2, y_train)"
      ],
      "execution_count": 0,
      "outputs": []
    },
    {
      "cell_type": "code",
      "metadata": {
        "id": "ilpt-ZCnenoh",
        "colab_type": "code",
        "outputId": "3d45ea77-3ae7-47ed-9578-aee88f5e1f77",
        "colab": {
          "base_uri": "https://localhost:8080/",
          "height": 34
        }
      },
      "source": [
        "loss"
      ],
      "execution_count": 46,
      "outputs": [
        {
          "output_type": "execute_result",
          "data": {
            "text/plain": [
              "tensor(27.5301, grad_fn=<MeanBackward0>)"
            ]
          },
          "metadata": {
            "tags": []
          },
          "execution_count": 46
        }
      ]
    },
    {
      "cell_type": "code",
      "metadata": {
        "id": "Xgaa1Fs583W0",
        "colab_type": "code",
        "colab": {}
      },
      "source": [
        "loss.backward()"
      ],
      "execution_count": 0,
      "outputs": []
    },
    {
      "cell_type": "code",
      "metadata": {
        "id": "9jz7PWYIa5cW",
        "colab_type": "code",
        "outputId": "38a22d80-41ab-4e13-817e-3dabe3cc7aeb",
        "colab": {
          "base_uri": "https://localhost:8080/",
          "height": 34
        }
      },
      "source": [
        "(w12.grad - w1g).sum()"
      ],
      "execution_count": 48,
      "outputs": [
        {
          "output_type": "execute_result",
          "data": {
            "text/plain": [
              "tensor(0.0008)"
            ]
          },
          "metadata": {
            "tags": []
          },
          "execution_count": 48
        }
      ]
    },
    {
      "cell_type": "code",
      "metadata": {
        "id": "1w9QtK4sa9_w",
        "colab_type": "code",
        "outputId": "6b3e3eb8-0477-46af-9944-8db76c6c0d24",
        "colab": {
          "base_uri": "https://localhost:8080/",
          "height": 34
        }
      },
      "source": [
        "w12.grad.sum()"
      ],
      "execution_count": 49,
      "outputs": [
        {
          "output_type": "execute_result",
          "data": {
            "text/plain": [
              "tensor(-107.5014)"
            ]
          },
          "metadata": {
            "tags": []
          },
          "execution_count": 49
        }
      ]
    },
    {
      "cell_type": "code",
      "metadata": {
        "id": "fqFvVZ5lbBdR",
        "colab_type": "code",
        "outputId": "d04d740b-c380-4def-bd2d-d914238b6f98",
        "colab": {
          "base_uri": "https://localhost:8080/",
          "height": 34
        }
      },
      "source": [
        "w1g.sum()"
      ],
      "execution_count": 50,
      "outputs": [
        {
          "output_type": "execute_result",
          "data": {
            "text/plain": [
              "tensor(-107.5023)"
            ]
          },
          "metadata": {
            "tags": []
          },
          "execution_count": 50
        }
      ]
    },
    {
      "cell_type": "code",
      "metadata": {
        "id": "VfMjxsX1biVg",
        "colab_type": "code",
        "outputId": "5df908cb-b86d-494d-82d4-d9cd35025a98",
        "colab": {
          "base_uri": "https://localhost:8080/",
          "height": 34
        }
      },
      "source": [
        "w1g.sum() - w12.grad.sum()"
      ],
      "execution_count": 51,
      "outputs": [
        {
          "output_type": "execute_result",
          "data": {
            "text/plain": [
              "tensor(-0.0008)"
            ]
          },
          "metadata": {
            "tags": []
          },
          "execution_count": 51
        }
      ]
    },
    {
      "cell_type": "code",
      "metadata": {
        "id": "KRYPd1imC03L",
        "colab_type": "code",
        "colab": {}
      },
      "source": [
        "test_allclose(w22.grad, w2g)"
      ],
      "execution_count": 0,
      "outputs": []
    },
    {
      "cell_type": "code",
      "metadata": {
        "id": "i7OEqIgm-1PT",
        "colab_type": "code",
        "colab": {}
      },
      "source": [
        "test_allclose(w12.grad, w1.g)"
      ],
      "execution_count": 0,
      "outputs": []
    },
    {
      "cell_type": "markdown",
      "metadata": {
        "id": "3WmPcqHIkrOH",
        "colab_type": "text"
      },
      "source": [
        "Now we switch to refactoring."
      ]
    },
    {
      "cell_type": "code",
      "metadata": {
        "id": "2uFZ1RsTktMb",
        "colab_type": "code",
        "colab": {}
      },
      "source": [
        "class Lin(object):\n",
        "  def __init__(self, w, b):\n",
        "    self.w = w\n",
        "    self.b = b\n",
        "\n",
        "  def __call__(self, x):\n",
        "    return x@self.w + self.b"
      ],
      "execution_count": 0,
      "outputs": []
    },
    {
      "cell_type": "code",
      "metadata": {
        "id": "fFL3uMbdk2NR",
        "colab_type": "code",
        "colab": {}
      },
      "source": [
        "class ReLU(object):\n",
        "  def __call__(self, x):\n",
        "    return x.clamp_min(0).float()"
      ],
      "execution_count": 0,
      "outputs": []
    },
    {
      "cell_type": "code",
      "metadata": {
        "id": "-OwTyIcmk4g3",
        "colab_type": "code",
        "colab": {}
      },
      "source": [
        "class MSE(object):\n",
        "  def __init__(self, y):\n",
        "    self.y = y\n",
        "\n",
        "  def __call__(self, x):\n",
        "    return (x - self.y).pow(2).mean()"
      ],
      "execution_count": 0,
      "outputs": []
    },
    {
      "cell_type": "code",
      "metadata": {
        "id": "5pARn0g8k8H2",
        "colab_type": "code",
        "colab": {}
      },
      "source": [
        "class Model(object):\n",
        "  def __init__(self, layers):\n",
        "    self.layers = layers\n",
        "\n",
        "  def forward(self, x):\n",
        "    for l in self.layers: x = l(x)\n",
        "    return x\n",
        "\n",
        "  def backward(self):\n",
        "    for l in self.layers[::-1]: l.backward()"
      ],
      "execution_count": 0,
      "outputs": []
    },
    {
      "cell_type": "code",
      "metadata": {
        "id": "a0GmvprtnFzQ",
        "colab_type": "code",
        "colab": {}
      },
      "source": [
        "mdl = Model([\n",
        "  Lin(w1, b1),\n",
        "  ReLU(),\n",
        "  Lin(w2, b2),\n",
        "  MSE(y_train)    \n",
        "])"
      ],
      "execution_count": 0,
      "outputs": []
    },
    {
      "cell_type": "code",
      "metadata": {
        "id": "2yfVIPmUoob3",
        "colab_type": "code",
        "outputId": "1a34ab29-4627-4b6a-c438-f6a55ce0ef7a",
        "colab": {
          "base_uri": "https://localhost:8080/",
          "height": 34
        }
      },
      "source": [
        "mdl.forward(X_train)"
      ],
      "execution_count": 59,
      "outputs": [
        {
          "output_type": "execute_result",
          "data": {
            "text/plain": [
              "tensor(27.5301)"
            ]
          },
          "metadata": {
            "tags": []
          },
          "execution_count": 59
        }
      ]
    },
    {
      "cell_type": "code",
      "metadata": {
        "id": "RtHwxTKbo06B",
        "colab_type": "code",
        "colab": {}
      },
      "source": [
        "class ReLU(object):\n",
        "  def forward(self, x):\n",
        "    self.inp = x\n",
        "    self.out = x.clamp_min(0).float()\n",
        "    return self.out\n",
        "\n",
        "  def backward(self):\n",
        "    self.inp.g = (self.inp > 0).float() * self.out.g\n",
        "\n",
        "  def __call__(self, x):\n",
        "    return self.forward(x)"
      ],
      "execution_count": 0,
      "outputs": []
    },
    {
      "cell_type": "code",
      "metadata": {
        "id": "td8V5Fj-pP39",
        "colab_type": "code",
        "colab": {}
      },
      "source": [
        "class MSE(object):\n",
        "\n",
        "  def __init__(self, y):\n",
        "    self.y = y\n",
        "\n",
        "  def forward(self, x):\n",
        "    self.inp = x\n",
        "    self.out = (x - self.y).pow(2).mean()\n",
        "    return self.out\n",
        "\n",
        "  def backward(self):\n",
        "    self.inp.g = 2. * (self.inp - self.y) / self.y.shape[0]\n",
        "\n",
        "  def __call__(self, x):\n",
        "    return self.forward(x)"
      ],
      "execution_count": 0,
      "outputs": []
    },
    {
      "cell_type": "code",
      "metadata": {
        "id": "PGsvxwtkpS9u",
        "colab_type": "code",
        "colab": {}
      },
      "source": [
        "class Lin(object):\n",
        "  def __init__(self, w, b):\n",
        "    self.w = w\n",
        "    self.b = b\n",
        "\n",
        "  def forward(self, x):\n",
        "    self.inp = x\n",
        "    self.out = x@self.w + self.b\n",
        "    return self.out\n",
        "\n",
        "  def backward(self):\n",
        "    self.inp.g = self.out.g @ self.w.t()\n",
        "    self.w.g = self.inp.t() @ self.out.g\n",
        "    self.b.g = self.out.g.sum(0)\n",
        "\n",
        "  def __call__(self, x):\n",
        "    return self.forward(x)"
      ],
      "execution_count": 0,
      "outputs": []
    },
    {
      "cell_type": "code",
      "metadata": {
        "id": "XD707oJKqon8",
        "colab_type": "code",
        "colab": {}
      },
      "source": [
        "mdl = Model([\n",
        "  Lin(w1, b1),\n",
        "  ReLU(),\n",
        "  Lin(w2, b2),\n",
        "  MSE(y_train)\n",
        "])"
      ],
      "execution_count": 0,
      "outputs": []
    },
    {
      "cell_type": "code",
      "metadata": {
        "id": "WfS_-RFVsdjP",
        "colab_type": "code",
        "outputId": "acbade07-7455-4b82-ac3c-8e4b14ef6757",
        "colab": {
          "base_uri": "https://localhost:8080/",
          "height": 34
        }
      },
      "source": [
        "mdl.forward(X_train)"
      ],
      "execution_count": 89,
      "outputs": [
        {
          "output_type": "execute_result",
          "data": {
            "text/plain": [
              "tensor(27.5301)"
            ]
          },
          "metadata": {
            "tags": []
          },
          "execution_count": 89
        }
      ]
    },
    {
      "cell_type": "code",
      "metadata": {
        "id": "Z5rcqLP2sjVL",
        "colab_type": "code",
        "colab": {}
      },
      "source": [
        "mdl.backward()"
      ],
      "execution_count": 0,
      "outputs": []
    },
    {
      "cell_type": "code",
      "metadata": {
        "id": "XP5xU1BpvYyD",
        "colab_type": "code",
        "colab": {}
      },
      "source": [
        "w1g = w1.g.clone()\n",
        "w2g = w2.g.clone()\n",
        "b1g = b1.g.clone()\n",
        "b2g = b2.g.clone()\n",
        "ig = X_train.g.clone()\n",
        "xt2 = X_train.clone().requires_grad_(True)\n",
        "w12 = w1.clone().requires_grad_(True)\n",
        "w22 = w2.clone().requires_grad_(True)\n",
        "b12 = b1.clone().requires_grad_(True)\n",
        "b22 = b2.clone().requires_grad_(True)"
      ],
      "execution_count": 0,
      "outputs": []
    },
    {
      "cell_type": "code",
      "metadata": {
        "id": "5MHEKuqOzp3d",
        "colab_type": "code",
        "outputId": "8e9eb875-18ee-4f0f-8576-41325f1cebf6",
        "colab": {
          "base_uri": "https://localhost:8080/",
          "height": 34
        }
      },
      "source": [
        "man_loss = forward2(xt2, y_train); man_loss"
      ],
      "execution_count": 67,
      "outputs": [
        {
          "output_type": "execute_result",
          "data": {
            "text/plain": [
              "tensor(27.5301, grad_fn=<MeanBackward0>)"
            ]
          },
          "metadata": {
            "tags": []
          },
          "execution_count": 67
        }
      ]
    },
    {
      "cell_type": "code",
      "metadata": {
        "id": "oTm8VvD8nSoE",
        "colab_type": "code",
        "colab": {}
      },
      "source": [
        "man_loss.backward()"
      ],
      "execution_count": 0,
      "outputs": []
    },
    {
      "cell_type": "code",
      "metadata": {
        "id": "k6f-vGtMZQqO",
        "colab_type": "code",
        "colab": {}
      },
      "source": [
        "test_allclose(w1g, w12.grad)"
      ],
      "execution_count": 0,
      "outputs": []
    },
    {
      "cell_type": "code",
      "metadata": {
        "id": "VwYuU68toXhy",
        "colab_type": "code",
        "colab": {}
      },
      "source": [
        "test_allclose(w1g, w12.grad)"
      ],
      "execution_count": 0,
      "outputs": []
    },
    {
      "cell_type": "code",
      "metadata": {
        "id": "Pv40t-2OZsHL",
        "colab_type": "code",
        "colab": {}
      },
      "source": [
        "test_allclose(w2g, w22.grad)"
      ],
      "execution_count": 0,
      "outputs": []
    },
    {
      "cell_type": "code",
      "metadata": {
        "id": "Z3oqxk6zod5D",
        "colab_type": "code",
        "colab": {}
      },
      "source": [
        "test_allclose(w2g, w22.grad)"
      ],
      "execution_count": 0,
      "outputs": []
    },
    {
      "cell_type": "code",
      "metadata": {
        "id": "Liw88SyMojqZ",
        "colab_type": "code",
        "colab": {}
      },
      "source": [
        "test_allclose(b1g, b12.grad)"
      ],
      "execution_count": 0,
      "outputs": []
    },
    {
      "cell_type": "code",
      "metadata": {
        "id": "s55putydoLWf",
        "colab_type": "code",
        "colab": {}
      },
      "source": [
        "test_allclose(b1g, b12.grad)"
      ],
      "execution_count": 0,
      "outputs": []
    },
    {
      "cell_type": "code",
      "metadata": {
        "id": "UiXREBx0oncs",
        "colab_type": "code",
        "colab": {}
      },
      "source": [
        "test_allclose(b2g, b22.grad)"
      ],
      "execution_count": 0,
      "outputs": []
    },
    {
      "cell_type": "code",
      "metadata": {
        "id": "g5x5X2VsoOS1",
        "colab_type": "code",
        "colab": {}
      },
      "source": [
        "test_allclose(b2g, b22.grad)"
      ],
      "execution_count": 0,
      "outputs": []
    },
    {
      "cell_type": "code",
      "metadata": {
        "id": "9rWvQdlaypMa",
        "colab_type": "code",
        "colab": {}
      },
      "source": [
        "my_grads = [w1g, w2g, b1g, b2g]\n",
        "torch_grads = [w12.grad, w22.grad, b12.grad, b22.grad]\n",
        "for i,j in zip(my_grads, torch_grads):\n",
        "  test_allclose(i, j)"
      ],
      "execution_count": 0,
      "outputs": []
    },
    {
      "cell_type": "markdown",
      "metadata": {
        "id": "PPzMzDZedH3N",
        "colab_type": "text"
      },
      "source": [
        "We see that each module has a backward and forward pass. Each model component directly implements a forward and a backward. A model is comprised of several model components, through which inputs are passed. When `backward` is called, it calls backward on each of the model components. "
      ]
    },
    {
      "cell_type": "code",
      "metadata": {
        "id": "uiVDFtDvZpzJ",
        "colab_type": "code",
        "colab": {}
      },
      "source": [
        "#export\n",
        "class Module(object):\n",
        "  \n",
        "  def forward(self, x):\n",
        "    raise NotImplementedError()\n",
        "\n",
        "  def backward(self):\n",
        "    raise NotImplementedError()\n",
        "\n",
        "  def __call__(self, x):\n",
        "     return self.forward(x)"
      ],
      "execution_count": 0,
      "outputs": []
    },
    {
      "cell_type": "code",
      "metadata": {
        "id": "09f0VtM_fu1x",
        "colab_type": "code",
        "colab": {}
      },
      "source": [
        "#export\n",
        "class Loss(object):\n",
        "  def forward(self, x, y):\n",
        "    raise NotImplementedError\n",
        "\n",
        "  def backward(self): \n",
        "    raise NotImplementedError\n",
        "\n",
        "  def __call__(self, x, y):\n",
        "    return self.forward(x, y)"
      ],
      "execution_count": 0,
      "outputs": []
    },
    {
      "cell_type": "code",
      "metadata": {
        "id": "yXgb1AxnePaN",
        "colab_type": "code",
        "colab": {}
      },
      "source": [
        "#export\n",
        "class Model(object):\n",
        "  def __init__(self, layers: List[Module], loss: Loss):\n",
        "    self.layers = layers\n",
        "    self.loss = loss\n",
        "\n",
        "  def forward(self, x, y):\n",
        "    self.inp = x\n",
        "    for l in self.layers: x = l(x)\n",
        "    x = self.loss(x, y)\n",
        "    self.out = x\n",
        "    return x\n",
        "\n",
        "  def backward(self):\n",
        "    self.loss.backward()\n",
        "    for l in self.layers[::-1]: l.backward()\n",
        "\n",
        "  def __call__(self, x, y):\n",
        "    return self.forward(x, y)"
      ],
      "execution_count": 0,
      "outputs": []
    },
    {
      "cell_type": "code",
      "metadata": {
        "id": "xjV71jlmgypk",
        "colab_type": "code",
        "colab": {}
      },
      "source": [
        "#export\n",
        "class Lin(Module):\n",
        "  def __init__(self, w, b):\n",
        "    self.w = w\n",
        "    self.b = b\n",
        "\n",
        "  def forward(self, x):\n",
        "    self.inp = x\n",
        "    self.out = x@self.w + self.b\n",
        "    return self.out\n",
        "\n",
        "  def backward(self):\n",
        "    self.inp.g = self.out.g @ self.w.t()\n",
        "    self.w.g = self.inp.t() @ self.out.g\n",
        "    self.b.g = self.out.g.sum(0)\n",
        "\n",
        "class ReLU(Module):\n",
        "  def forward(self, x):\n",
        "    self.inp = x\n",
        "    self.out = x.clamp_min(0).float()\n",
        "    return self.out\n",
        "\n",
        "  def backward(self):\n",
        "    self.inp.g = (self.inp > 0).float() * self.out.g\n",
        "\n",
        "class MSE(Loss):\n",
        "  \n",
        "  def forward(self, x, y):\n",
        "    self.inp = x\n",
        "    self.y = y\n",
        "    self.out = (x - y).pow(2).mean()\n",
        "    return self.out\n",
        "\n",
        "  def backward(self):\n",
        "    self.inp.g = 2. * (self.inp - self.y) / self.y.shape[0]"
      ],
      "execution_count": 0,
      "outputs": []
    },
    {
      "cell_type": "code",
      "metadata": {
        "id": "YsBxPJUEiFPT",
        "colab_type": "code",
        "colab": {}
      },
      "source": [
        "mdl = Model([\n",
        "  Lin(w1, b1),\n",
        "  ReLU(),\n",
        "  Lin(w2, b2)\n",
        "], loss=MSE())"
      ],
      "execution_count": 0,
      "outputs": []
    },
    {
      "cell_type": "code",
      "metadata": {
        "id": "llJfES2iirCb",
        "colab_type": "code",
        "outputId": "d4e26824-245e-444f-b08f-978dc496b8be",
        "colab": {
          "base_uri": "https://localhost:8080/",
          "height": 34
        }
      },
      "source": [
        "mdl(X_train, y_train)"
      ],
      "execution_count": 96,
      "outputs": [
        {
          "output_type": "execute_result",
          "data": {
            "text/plain": [
              "tensor(27.5301)"
            ]
          },
          "metadata": {
            "tags": []
          },
          "execution_count": 96
        }
      ]
    },
    {
      "cell_type": "code",
      "metadata": {
        "id": "6Wq-unBNi0iR",
        "colab_type": "code",
        "outputId": "1d80551c-ab0e-45cf-fceb-93b1a6d7e8d4",
        "colab": {
          "base_uri": "https://localhost:8080/",
          "height": 34
        }
      },
      "source": [
        "mdl.forward(X_train, y_train)"
      ],
      "execution_count": 97,
      "outputs": [
        {
          "output_type": "execute_result",
          "data": {
            "text/plain": [
              "tensor(27.5301)"
            ]
          },
          "metadata": {
            "tags": []
          },
          "execution_count": 97
        }
      ]
    },
    {
      "cell_type": "code",
      "metadata": {
        "id": "y-aEfnNnlXBA",
        "colab_type": "code",
        "colab": {}
      },
      "source": [
        "mdl.backward()"
      ],
      "execution_count": 0,
      "outputs": []
    },
    {
      "cell_type": "code",
      "metadata": {
        "id": "0cQZ1aaflt94",
        "colab_type": "code",
        "colab": {}
      },
      "source": [
        "w1g = w1.g.clone()\n",
        "w2g = w2.g.clone()\n",
        "b1g = b1.g.clone()\n",
        "b2g = b2.g.clone()\n",
        "ig = X_train.g.clone()\n",
        "xt2 = X_train.clone().requires_grad_(True)\n",
        "w12 = w1.clone().requires_grad_(True)\n",
        "w22 = w2.clone().requires_grad_(True)\n",
        "b12 = b1.clone().requires_grad_(True)\n",
        "b22 = b2.clone().requires_grad_(True)\n",
        "def forward2(inp, outp):\n",
        "  z1 = linear(w12, inp, b12)\n",
        "  a1 = relu(z1)\n",
        "  z2 = linear(w22, a1, b22)\n",
        "  loss = mse(outp, z2)\n",
        "  return loss"
      ],
      "execution_count": 0,
      "outputs": []
    },
    {
      "cell_type": "code",
      "metadata": {
        "id": "G9pseM5blynS",
        "colab_type": "code",
        "colab": {}
      },
      "source": [
        "loss = forward2(xt2, y_train)"
      ],
      "execution_count": 0,
      "outputs": []
    },
    {
      "cell_type": "code",
      "metadata": {
        "id": "W0fbjyvHl448",
        "colab_type": "code",
        "outputId": "4d22f5c5-fe44-4e5a-e5cd-63b817ba0fc6",
        "colab": {
          "base_uri": "https://localhost:8080/",
          "height": 34
        }
      },
      "source": [
        "loss"
      ],
      "execution_count": 101,
      "outputs": [
        {
          "output_type": "execute_result",
          "data": {
            "text/plain": [
              "tensor(27.5301, grad_fn=<MeanBackward0>)"
            ]
          },
          "metadata": {
            "tags": []
          },
          "execution_count": 101
        }
      ]
    },
    {
      "cell_type": "code",
      "metadata": {
        "id": "MEfYp4oLl5na",
        "colab_type": "code",
        "colab": {}
      },
      "source": [
        "loss.backward()"
      ],
      "execution_count": 0,
      "outputs": []
    },
    {
      "cell_type": "code",
      "metadata": {
        "id": "Gh_RORQ9l7dS",
        "colab_type": "code",
        "colab": {}
      },
      "source": [
        "test_allclose(w1g, w12.grad)"
      ],
      "execution_count": 0,
      "outputs": []
    },
    {
      "cell_type": "code",
      "metadata": {
        "id": "ErRlObspmMWM",
        "colab_type": "code",
        "colab": {}
      },
      "source": [
        "test_allclose(w2g, w22.grad)"
      ],
      "execution_count": 0,
      "outputs": []
    },
    {
      "cell_type": "code",
      "metadata": {
        "id": "wkDXMr8XmP3A",
        "colab_type": "code",
        "colab": {}
      },
      "source": [
        "test_allclose(b1g, b12.grad)"
      ],
      "execution_count": 0,
      "outputs": []
    },
    {
      "cell_type": "code",
      "metadata": {
        "id": "rwhURwNwmSPr",
        "colab_type": "code",
        "colab": {}
      },
      "source": [
        "test_allclose(b2g, b22.grad)"
      ],
      "execution_count": 0,
      "outputs": []
    },
    {
      "cell_type": "code",
      "metadata": {
        "id": "QJlDvfK7mT56",
        "colab_type": "code",
        "colab": {}
      },
      "source": [
        ""
      ],
      "execution_count": 0,
      "outputs": []
    },
    {
      "cell_type": "code",
      "metadata": {
        "id": "Buk3m1KUoblp",
        "colab_type": "code",
        "colab": {}
      },
      "source": [
        ""
      ],
      "execution_count": 0,
      "outputs": []
    }
  ]
}