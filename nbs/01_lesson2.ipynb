{
 "cells": [
  {
   "cell_type": "code",
   "execution_count": 1,
   "metadata": {},
   "outputs": [],
   "source": [
    "#default_exp lesson2"
   ]
  },
  {
   "cell_type": "code",
   "execution_count": 2,
   "metadata": {},
   "outputs": [],
   "source": [
    "import git\n",
    "import os"
   ]
  },
  {
   "cell_type": "code",
   "execution_count": 3,
   "metadata": {},
   "outputs": [
    {
     "data": {
      "text/plain": [
       "'/home/paperspace/development/fastai-part2'"
      ]
     },
     "execution_count": 3,
     "metadata": {},
     "output_type": "execute_result"
    }
   ],
   "source": [
    "repo = git.Repo(search_parent_directories=True)\n",
    "repo_root = repo.git.rev_parse(\"--show-toplevel\")\n",
    "os.chdir(repo_root)\n",
    "os.getcwd()"
   ]
  },
  {
   "cell_type": "code",
   "execution_count": 4,
   "metadata": {},
   "outputs": [],
   "source": [
    "#export\n",
    "from solutions.lesson1 import *\n",
    "from fastai.datasets import *\n",
    "import torch\n",
    "from torch import nn\n",
    "import numpy as np\n",
    "from functools import wraps\n",
    "from typing import List, Tuple, Callable\n",
    "from functools import partial\n",
    "import math"
   ]
  },
  {
   "cell_type": "code",
   "execution_count": 5,
   "metadata": {},
   "outputs": [],
   "source": [
    "import pdb"
   ]
  },
  {
   "cell_type": "code",
   "execution_count": 6,
   "metadata": {},
   "outputs": [
    {
     "data": {
      "text/plain": [
       "\u001b[0;31mSignature:\u001b[0m \u001b[0mget_data\u001b[0m\u001b[0;34m(\u001b[0m\u001b[0mdata_path\u001b[0m\u001b[0;34m)\u001b[0m\u001b[0;34m\u001b[0m\u001b[0;34m\u001b[0m\u001b[0m\n",
       "\u001b[0;31mDocstring:\u001b[0m <no docstring>\n",
       "\u001b[0;31mSource:\u001b[0m   \n",
       "\u001b[0;32mdef\u001b[0m \u001b[0mget_data\u001b[0m\u001b[0;34m(\u001b[0m\u001b[0mdata_path\u001b[0m\u001b[0;34m)\u001b[0m\u001b[0;34m:\u001b[0m\u001b[0;34m\u001b[0m\n",
       "\u001b[0;34m\u001b[0m  \u001b[0;32mwith\u001b[0m \u001b[0mgzip\u001b[0m\u001b[0;34m.\u001b[0m\u001b[0mopen\u001b[0m\u001b[0;34m(\u001b[0m\u001b[0mdata_path\u001b[0m\u001b[0;34m,\u001b[0m \u001b[0mmode\u001b[0m\u001b[0;34m=\u001b[0m\u001b[0;34m\"rb\"\u001b[0m\u001b[0;34m)\u001b[0m \u001b[0;32mas\u001b[0m \u001b[0md\u001b[0m\u001b[0;34m:\u001b[0m\u001b[0;34m\u001b[0m\n",
       "\u001b[0;34m\u001b[0m    \u001b[0;34m(\u001b[0m\u001b[0;34m(\u001b[0m\u001b[0mX_train\u001b[0m\u001b[0;34m,\u001b[0m \u001b[0my_train\u001b[0m\u001b[0;34m)\u001b[0m\u001b[0;34m,\u001b[0m \u001b[0;34m(\u001b[0m\u001b[0mX_valid\u001b[0m\u001b[0;34m,\u001b[0m \u001b[0my_valid\u001b[0m\u001b[0;34m)\u001b[0m\u001b[0;34m,\u001b[0m \u001b[0m_\u001b[0m\u001b[0;34m)\u001b[0m \u001b[0;34m=\u001b[0m \u001b[0mpickle\u001b[0m\u001b[0;34m.\u001b[0m\u001b[0mload\u001b[0m\u001b[0;34m(\u001b[0m\u001b[0md\u001b[0m\u001b[0;34m,\u001b[0m \u001b[0mencoding\u001b[0m\u001b[0;34m=\u001b[0m\u001b[0;34m'latin-1'\u001b[0m\u001b[0;34m)\u001b[0m\u001b[0;34m\u001b[0m\n",
       "\u001b[0;34m\u001b[0m    \u001b[0mX_train\u001b[0m\u001b[0;34m,\u001b[0m \u001b[0my_train\u001b[0m\u001b[0;34m,\u001b[0m \u001b[0mX_valid\u001b[0m\u001b[0;34m,\u001b[0m \u001b[0my_valid\u001b[0m \u001b[0;34m=\u001b[0m \u001b[0mmap\u001b[0m\u001b[0;34m(\u001b[0m\u001b[0mtorch\u001b[0m\u001b[0;34m.\u001b[0m\u001b[0mtensor\u001b[0m\u001b[0;34m,\u001b[0m \u001b[0;34m(\u001b[0m\u001b[0mX_train\u001b[0m\u001b[0;34m,\u001b[0m \u001b[0my_train\u001b[0m\u001b[0;34m,\u001b[0m \u001b[0mX_valid\u001b[0m\u001b[0;34m,\u001b[0m \u001b[0my_valid\u001b[0m\u001b[0;34m)\u001b[0m\u001b[0;34m)\u001b[0m\u001b[0;34m\u001b[0m\n",
       "\u001b[0;34m\u001b[0m    \u001b[0;32mreturn\u001b[0m \u001b[0;34m(\u001b[0m\u001b[0mX_train\u001b[0m\u001b[0;34m,\u001b[0m \u001b[0my_train\u001b[0m\u001b[0;34m,\u001b[0m \u001b[0mX_valid\u001b[0m\u001b[0;34m,\u001b[0m \u001b[0my_valid\u001b[0m\u001b[0;34m)\u001b[0m\u001b[0;34m\u001b[0m\u001b[0;34m\u001b[0m\u001b[0m\n",
       "\u001b[0;31mFile:\u001b[0m      ~/development/fastai-part2/solutions/lesson1.py\n",
       "\u001b[0;31mType:\u001b[0m      function\n"
      ]
     },
     "metadata": {},
     "output_type": "display_data"
    }
   ],
   "source": [
    "??get_data"
   ]
  },
  {
   "cell_type": "code",
   "execution_count": 7,
   "metadata": {},
   "outputs": [],
   "source": [
    "#export\n",
    "MNIST_URL='http://deeplearning.net/data/mnist/mnist.pkl'\n",
    "path = download_data(MNIST_URL, ext=\".gz\")\n",
    "X_train, y_train, X_valid, y_valid = get_data(path)"
   ]
  },
  {
   "cell_type": "code",
   "execution_count": 8,
   "metadata": {},
   "outputs": [
    {
     "data": {
      "text/plain": [
       "(torch.Size([50000, 784]), torch.Size([10000, 784]))"
      ]
     },
     "execution_count": 8,
     "metadata": {},
     "output_type": "execute_result"
    }
   ],
   "source": [
    "X_train.shape, X_valid.shape"
   ]
  },
  {
   "cell_type": "code",
   "execution_count": 9,
   "metadata": {},
   "outputs": [
    {
     "data": {
      "text/plain": [
       "(torch.Size([50000]), torch.Size([10000]))"
      ]
     },
     "execution_count": 9,
     "metadata": {},
     "output_type": "execute_result"
    }
   ],
   "source": [
    "y_train.shape, y_valid.shape"
   ]
  },
  {
   "cell_type": "markdown",
   "metadata": {},
   "source": [
    "# Model Class"
   ]
  },
  {
   "cell_type": "code",
   "execution_count": 10,
   "metadata": {},
   "outputs": [],
   "source": [
    "# export\n",
    "class Model(nn.Module):\n",
    "    def __init__(self, layers):\n",
    "        self._modules = {}\n",
    "        for idx, layer in enumerate(layers):\n",
    "            self._modules[f'layer{idx}'] = layer\n",
    "        \n",
    "    def __call__(self, x):\n",
    "        for _, layer in self.named_children(): x = layer(x)\n",
    "        return x"
   ]
  },
  {
   "cell_type": "code",
   "execution_count": 11,
   "metadata": {},
   "outputs": [],
   "source": [
    "nh = 50\n",
    "ni = X_train.shape[1]\n",
    "c = int(y_train.max()) + 1"
   ]
  },
  {
   "cell_type": "code",
   "execution_count": 12,
   "metadata": {},
   "outputs": [],
   "source": [
    "model = Model([\n",
    "    nn.Linear(ni, nh),\n",
    "    nn.ReLU(),\n",
    "    nn.Linear(nh, c)\n",
    "])"
   ]
  },
  {
   "cell_type": "code",
   "execution_count": 13,
   "metadata": {},
   "outputs": [
    {
     "data": {
      "text/plain": [
       "Model(\n",
       "  (layer0): Linear(in_features=784, out_features=50, bias=True)\n",
       "  (layer1): ReLU()\n",
       "  (layer2): Linear(in_features=50, out_features=10, bias=True)\n",
       ")"
      ]
     },
     "execution_count": 13,
     "metadata": {},
     "output_type": "execute_result"
    }
   ],
   "source": [
    "model"
   ]
  },
  {
   "cell_type": "code",
   "execution_count": 14,
   "metadata": {},
   "outputs": [],
   "source": [
    "pred = model(X_train)"
   ]
  },
  {
   "cell_type": "code",
   "execution_count": 15,
   "metadata": {},
   "outputs": [
    {
     "data": {
      "text/plain": [
       "(torch.Size([50000, 10]),\n",
       " tensor([[ 0.1160,  0.1080, -0.1026,  ..., -0.1618,  0.1738, -0.1068],\n",
       "         [ 0.1465,  0.0631, -0.1045,  ..., -0.2065,  0.1713, -0.1134],\n",
       "         [ 0.0534,  0.1003, -0.0686,  ..., -0.1899,  0.0992,  0.0597],\n",
       "         ...,\n",
       "         [ 0.0328,  0.1536, -0.0547,  ..., -0.1485,  0.2340, -0.1654],\n",
       "         [ 0.0371,  0.1423, -0.0632,  ..., -0.1820,  0.2602, -0.1764],\n",
       "         [ 0.0731,  0.2126, -0.0247,  ..., -0.2068,  0.2750, -0.1327]],\n",
       "        grad_fn=<AddmmBackward>))"
      ]
     },
     "execution_count": 15,
     "metadata": {},
     "output_type": "execute_result"
    }
   ],
   "source": [
    "pred.shape, pred"
   ]
  },
  {
   "cell_type": "markdown",
   "metadata": {},
   "source": [
    "# Log Softmax"
   ]
  },
  {
   "cell_type": "markdown",
   "metadata": {},
   "source": [
    "First the naive way:"
   ]
  },
  {
   "cell_type": "code",
   "execution_count": 16,
   "metadata": {},
   "outputs": [],
   "source": [
    "def log_softmax(vec):\n",
    "    return (vec.exp() / vec.exp().sum(-1)).log()"
   ]
  },
  {
   "cell_type": "code",
   "execution_count": 17,
   "metadata": {},
   "outputs": [],
   "source": [
    "assert log_softmax(torch.tensor([[1.,2.,3.]])).exp().sum() == 1"
   ]
  },
  {
   "cell_type": "markdown",
   "metadata": {},
   "source": [
    "Then the numerically friendly way:"
   ]
  },
  {
   "cell_type": "code",
   "execution_count": 18,
   "metadata": {},
   "outputs": [],
   "source": [
    "def log_softmax(vec):\n",
    "    return vec - vec.exp().sum(-1).log()"
   ]
  },
  {
   "cell_type": "code",
   "execution_count": 19,
   "metadata": {},
   "outputs": [],
   "source": [
    "assert log_softmax(torch.tensor([[1.,2.,3.]])).exp().sum() == 1"
   ]
  },
  {
   "cell_type": "code",
   "execution_count": 20,
   "metadata": {},
   "outputs": [],
   "source": [
    "def nll(output, target):\n",
    "    return -output[range(len(output)), target].mean() "
   ]
  },
  {
   "cell_type": "code",
   "execution_count": 21,
   "metadata": {},
   "outputs": [],
   "source": [
    "fake_output = torch.tensor([\n",
    "    [0.5, 0.5],\n",
    "    [0.3, 0.7]\n",
    "])\n",
    "\n",
    "fake_target = torch.tensor([\n",
    "    0,\n",
    "    1\n",
    "])"
   ]
  },
  {
   "cell_type": "code",
   "execution_count": 22,
   "metadata": {},
   "outputs": [
    {
     "data": {
      "text/plain": [
       "-0.6931471805599453"
      ]
     },
     "execution_count": 22,
     "metadata": {},
     "output_type": "execute_result"
    }
   ],
   "source": [
    "log_first = np.log(0.5); log_first"
   ]
  },
  {
   "cell_type": "code",
   "execution_count": 23,
   "metadata": {},
   "outputs": [
    {
     "data": {
      "text/plain": [
       "-0.35667494393873245"
      ]
     },
     "execution_count": 23,
     "metadata": {},
     "output_type": "execute_result"
    }
   ],
   "source": [
    "log_second = np.log(0.7); log_second"
   ]
  },
  {
   "cell_type": "code",
   "execution_count": 24,
   "metadata": {},
   "outputs": [],
   "source": [
    "correct_nll = -(log_first + log_second)/2"
   ]
  },
  {
   "cell_type": "code",
   "execution_count": 25,
   "metadata": {},
   "outputs": [
    {
     "data": {
      "text/plain": [
       "tensor(0.5249)"
      ]
     },
     "execution_count": 25,
     "metadata": {},
     "output_type": "execute_result"
    }
   ],
   "source": [
    "nll(torch.log(fake_output), fake_target)"
   ]
  },
  {
   "cell_type": "code",
   "execution_count": 26,
   "metadata": {},
   "outputs": [],
   "source": [
    "assert torch.allclose(nll(fake_output.log(), fake_target), torch.tensor(correct_nll).float())"
   ]
  },
  {
   "cell_type": "markdown",
   "metadata": {},
   "source": [
    "# LogSumExp"
   ]
  },
  {
   "cell_type": "markdown",
   "metadata": {},
   "source": [
    "LogSumExp is a way of making the sum of exponents more numerically stable."
   ]
  },
  {
   "cell_type": "code",
   "execution_count": 27,
   "metadata": {},
   "outputs": [],
   "source": [
    "# export\n",
    "def logsumexp(vec):\n",
    "    max_elem = vec.max()\n",
    "    return max_elem + (vec - max_elem).exp().sum(-1).log()"
   ]
  },
  {
   "cell_type": "code",
   "execution_count": 28,
   "metadata": {},
   "outputs": [],
   "source": [
    "assert torch.tensor([1,2,3]).float().exp().sum().log() == logsumexp(torch.tensor([1,2,3]).float())"
   ]
  },
  {
   "cell_type": "markdown",
   "metadata": {},
   "source": [
    "This is a way of making the log of a sum of exponentials more numerically stable. You can take advantage of the fact that dividing two exponentials results in subtracting their exponents. You can factor out the largest exponential, which subtracts its exponent from each of the other exponents. Then you can take advantage of the log rules that state that log(ab) = log(a) + log(b), which allows you to add the highest exponential to the log of the sum of the others. "
   ]
  },
  {
   "cell_type": "code",
   "execution_count": 29,
   "metadata": {},
   "outputs": [],
   "source": [
    "assert logsumexp(torch.tensor([1,2,3]).float()) == torch.logsumexp(torch.tensor([1,2,3]).float(), dim=(0,))"
   ]
  },
  {
   "cell_type": "markdown",
   "metadata": {},
   "source": [
    "## log_softmax in terms of LogSumExp"
   ]
  },
  {
   "cell_type": "code",
   "execution_count": 30,
   "metadata": {},
   "outputs": [],
   "source": [
    "# export\n",
    "def log_softmax(vec):\n",
    "    return vec - vec.logsumexp(dim=(0,), keepdim=True)"
   ]
  },
  {
   "cell_type": "code",
   "execution_count": 31,
   "metadata": {},
   "outputs": [
    {
     "data": {
      "text/plain": [
       "tensor([ True,  True, False])"
      ]
     },
     "execution_count": 31,
     "metadata": {},
     "output_type": "execute_result"
    }
   ],
   "source": [
    "log_softmax(torch.tensor([1,2,3]).float()) == torch.log_softmax(torch.tensor([1,2,3]).float(), dim=0)"
   ]
  },
  {
   "cell_type": "code",
   "execution_count": 32,
   "metadata": {},
   "outputs": [
    {
     "data": {
      "text/plain": [
       "array([[1, 2, 3],\n",
       "       [3, 4, 5],\n",
       "       [5, 6, 7]])"
      ]
     },
     "execution_count": 32,
     "metadata": {},
     "output_type": "execute_result"
    }
   ],
   "source": [
    "np.array([[1,2,3], [3,4,5], [5,6,7]])[:, [0,1,2]]"
   ]
  },
  {
   "cell_type": "code",
   "execution_count": 33,
   "metadata": {},
   "outputs": [],
   "source": [
    "grad_example = torch.tensor([\n",
    "    [0,0,1],\n",
    "    [1,0,0],\n",
    "    [0,1,0],\n",
    "])"
   ]
  },
  {
   "cell_type": "code",
   "execution_count": 34,
   "metadata": {},
   "outputs": [
    {
     "data": {
      "text/plain": [
       "tensor([2, 0, 1])"
      ]
     },
     "execution_count": 34,
     "metadata": {},
     "output_type": "execute_result"
    }
   ],
   "source": [
    "grad_example.argmax(dim=1)"
   ]
  },
  {
   "cell_type": "code",
   "execution_count": 35,
   "metadata": {},
   "outputs": [],
   "source": [
    "grad_example[range(len(grad_example)), grad_example.argmax(dim=1)] = 2"
   ]
  },
  {
   "cell_type": "code",
   "execution_count": 36,
   "metadata": {},
   "outputs": [
    {
     "data": {
      "text/plain": [
       "tensor([[0, 0, 2],\n",
       "        [2, 0, 0],\n",
       "        [0, 2, 0]])"
      ]
     },
     "execution_count": 36,
     "metadata": {},
     "output_type": "execute_result"
    }
   ],
   "source": [
    "grad_example"
   ]
  },
  {
   "cell_type": "code",
   "execution_count": 37,
   "metadata": {},
   "outputs": [
    {
     "data": {
      "text/plain": [
       "tensor([[0, 2],\n",
       "        [1, 0],\n",
       "        [2, 1]])"
      ]
     },
     "execution_count": 37,
     "metadata": {},
     "output_type": "execute_result"
    }
   ],
   "source": [
    "grad_example.nonzero()"
   ]
  },
  {
   "cell_type": "code",
   "execution_count": 38,
   "metadata": {},
   "outputs": [
    {
     "data": {
      "text/plain": [
       "tensor([[[0, 0, 2],\n",
       "         [0, 2, 0]],\n",
       "\n",
       "        [[2, 0, 0],\n",
       "         [0, 0, 2]],\n",
       "\n",
       "        [[0, 2, 0],\n",
       "         [2, 0, 0]]])"
      ]
     },
     "execution_count": 38,
     "metadata": {},
     "output_type": "execute_result"
    }
   ],
   "source": [
    "grad_example[grad_example.nonzero()]"
   ]
  },
  {
   "cell_type": "code",
   "execution_count": 39,
   "metadata": {},
   "outputs": [],
   "source": [
    "t = torch.tensor([\n",
    "    [0,0,0,1,2],\n",
    "    [3,5,3,0,0]\n",
    "])"
   ]
  },
  {
   "cell_type": "code",
   "execution_count": 40,
   "metadata": {},
   "outputs": [
    {
     "data": {
      "text/plain": [
       "tensor([1, 2, 3, 5, 3])"
      ]
     },
     "execution_count": 40,
     "metadata": {},
     "output_type": "execute_result"
    }
   ],
   "source": [
    "nonzero = t.nonzero()\n",
    "xs = nonzero[:,0]\n",
    "ys = nonzero[:,1]\n",
    "t[xs, ys]"
   ]
  },
  {
   "cell_type": "code",
   "execution_count": 41,
   "metadata": {},
   "outputs": [],
   "source": [
    "tz = torch.zeros_like(t)\n",
    "tz[xs, ys] = 1"
   ]
  },
  {
   "cell_type": "code",
   "execution_count": 42,
   "metadata": {},
   "outputs": [
    {
     "data": {
      "text/plain": [
       "tensor([[0, 0, 0, 1, 1],\n",
       "        [1, 1, 1, 0, 0]])"
      ]
     },
     "execution_count": 42,
     "metadata": {},
     "output_type": "execute_result"
    }
   ],
   "source": [
    "tz"
   ]
  },
  {
   "cell_type": "code",
   "execution_count": 43,
   "metadata": {},
   "outputs": [],
   "source": [
    "# export\n",
    "class LogSoftmax(nn.Module):\n",
    "    def forward(self, x):\n",
    "        self.input = x\n",
    "        self.output = torch.log_softmax(self.input, dim=-1)\n",
    "        return self.output\n",
    "    \n",
    "    def backward(self): \n",
    "        correct_labels = (self.output.grad > 0).float()\n",
    "        msg = \"LogSoftmax must be used with CE loss, found more than one output dim with nonzero gradients for the same example\"\n",
    "        assert correct_labels.sum(axis=0).max() == 1, msg\n",
    "        self.input.grad = (correct_labels - self.output) * self.output.grad"
   ]
  },
  {
   "cell_type": "code",
   "execution_count": 44,
   "metadata": {},
   "outputs": [
    {
     "data": {
      "text/plain": [
       "(torch.Size([50000, 784]), torch.Size([50000, 10]))"
      ]
     },
     "execution_count": 44,
     "metadata": {},
     "output_type": "execute_result"
    }
   ],
   "source": [
    "mdl = Model([\n",
    "    nn.Linear(784,100),\n",
    "    nn.ReLU(),\n",
    "    nn.Linear(100, c),\n",
    "    LogSoftmax()\n",
    "])\n",
    "X_train.shape, mdl(X_train).shape"
   ]
  },
  {
   "cell_type": "code",
   "execution_count": 45,
   "metadata": {},
   "outputs": [],
   "source": [
    "mdl2 = Model([\n",
    "    nn.Linear(784,100),\n",
    "    nn.ReLU(),\n",
    "    nn.Linear(100, c),\n",
    "    nn.LogSoftmax()\n",
    "])"
   ]
  },
  {
   "cell_type": "code",
   "execution_count": 46,
   "metadata": {},
   "outputs": [
    {
     "data": {
      "text/plain": [
       "tensor([[0.0820, 0.1047, 0.0929,  ..., 0.1021, 0.0931, 0.0989],\n",
       "        [0.0922, 0.1089, 0.0930,  ..., 0.1004, 0.0914, 0.1057],\n",
       "        [0.0931, 0.1102, 0.0927,  ..., 0.0978, 0.0909, 0.0945],\n",
       "        ...,\n",
       "        [0.0920, 0.1122, 0.0986,  ..., 0.0993, 0.0910, 0.0992],\n",
       "        [0.0992, 0.1042, 0.1000,  ..., 0.1075, 0.0901, 0.0909],\n",
       "        [0.0973, 0.1169, 0.0919,  ..., 0.1051, 0.0941, 0.0858]],\n",
       "       grad_fn=<ExpBackward>)"
      ]
     },
     "execution_count": 46,
     "metadata": {},
     "output_type": "execute_result"
    }
   ],
   "source": [
    "torch.exp(mdl(X_train))"
   ]
  },
  {
   "cell_type": "code",
   "execution_count": 47,
   "metadata": {},
   "outputs": [],
   "source": [
    "loss = nn.NLLLoss()"
   ]
  },
  {
   "cell_type": "code",
   "execution_count": 48,
   "metadata": {},
   "outputs": [],
   "source": [
    "l = loss(mdl(X_train), y_train)"
   ]
  },
  {
   "cell_type": "code",
   "execution_count": 49,
   "metadata": {},
   "outputs": [],
   "source": [
    "l.backward()"
   ]
  },
  {
   "cell_type": "code",
   "execution_count": 50,
   "metadata": {},
   "outputs": [],
   "source": [
    "a = torch.tensor([[1,2,3]]).float()\n",
    "l = LogSoftmax()\n",
    "l.forward(a)\n",
    "l.output.grad = torch.tensor([[0,0,10]]).float()\n",
    "l.backward()"
   ]
  },
  {
   "cell_type": "code",
   "execution_count": 51,
   "metadata": {},
   "outputs": [
    {
     "data": {
      "text/plain": [
       "tensor([[-2.4076, -1.4076, -0.4076]])"
      ]
     },
     "execution_count": 51,
     "metadata": {},
     "output_type": "execute_result"
    }
   ],
   "source": [
    "torch.log_softmax(a, 1)"
   ]
  },
  {
   "cell_type": "code",
   "execution_count": 52,
   "metadata": {},
   "outputs": [
    {
     "name": "stdout",
     "output_type": "stream",
     "text": [
      "tensor([[ 0.0000,  0.0000, 14.0761]])\n"
     ]
    }
   ],
   "source": [
    "print(a.grad)"
   ]
  },
  {
   "cell_type": "code",
   "execution_count": 53,
   "metadata": {},
   "outputs": [],
   "source": [
    "assert torch.allclose(log_softmax(torch.tensor([1,2,3]).float()), torch.log_softmax(torch.tensor([1,2,3]).float(), dim=0))"
   ]
  },
  {
   "cell_type": "code",
   "execution_count": 54,
   "metadata": {},
   "outputs": [
    {
     "name": "stdout",
     "output_type": "stream",
     "text": [
      "[('layer0', Linear(in_features=784, out_features=100, bias=True)), ('layer1', ReLU()), ('layer2', Linear(in_features=100, out_features=10, bias=True)), ('layer3', LogSoftmax())]\n"
     ]
    }
   ],
   "source": [
    "print(list(mdl2.named_children()))"
   ]
  },
  {
   "cell_type": "code",
   "execution_count": 55,
   "metadata": {},
   "outputs": [],
   "source": [
    "def fit(model, bs=64, lr=1e-3, epochs=1):\n",
    "    n_batches = X_train.shape[0] // bs + 1\n",
    "    losses = []\n",
    "    for epoch in range(epochs):\n",
    "        for i in range(n_batches):\n",
    "            start_idx = i * bs\n",
    "            end_idx = (i + 1) * bs\n",
    "            X_b, y_b = X_train[start_idx:end_idx], y_train[start_idx:end_idx] \n",
    "            pred = model(X_b)\n",
    "            loss = nll(pred, y_b)\n",
    "            losses.append(loss.item())\n",
    "\n",
    "            loss.backward()\n",
    "\n",
    "            with torch.no_grad():\n",
    "                for _, layer in model.named_children():\n",
    "                    if hasattr(layer, 'weight'):\n",
    "                        layer.weight.sub_(layer.weight.grad * lr)\n",
    "                        layer.bias.sub_(layer.bias.grad * lr)\n",
    "                        layer.zero_grad()\n",
    "    print(losses[-1])"
   ]
  },
  {
   "cell_type": "code",
   "execution_count": 56,
   "metadata": {},
   "outputs": [
    {
     "data": {
      "text/plain": [
       "Model(\n",
       "  (layer0): Linear(in_features=784, out_features=100, bias=True)\n",
       "  (layer1): ReLU()\n",
       "  (layer2): Linear(in_features=100, out_features=10, bias=True)\n",
       "  (layer3): LogSoftmax()\n",
       ")"
      ]
     },
     "execution_count": 56,
     "metadata": {},
     "output_type": "execute_result"
    }
   ],
   "source": [
    "mdl"
   ]
  },
  {
   "cell_type": "code",
   "execution_count": 57,
   "metadata": {},
   "outputs": [
    {
     "name": "stdout",
     "output_type": "stream",
     "text": [
      "has it\n",
      "has it\n"
     ]
    }
   ],
   "source": [
    "for i,l in mdl.named_children(): \n",
    "    if hasattr(l, 'weight'): \n",
    "        print('has it')"
   ]
  },
  {
   "cell_type": "code",
   "execution_count": 58,
   "metadata": {},
   "outputs": [],
   "source": [
    "# fit(mdl2, 64, epochs=10)"
   ]
  },
  {
   "cell_type": "code",
   "execution_count": 59,
   "metadata": {},
   "outputs": [],
   "source": [
    "# fit(mdl, 64, epochs=100)"
   ]
  },
  {
   "cell_type": "code",
   "execution_count": 60,
   "metadata": {},
   "outputs": [],
   "source": [
    "# export\n",
    "def nograd(f):\n",
    "    @wraps(f)\n",
    "    def inner(*args, **kwargs):\n",
    "        with torch.no_grad():\n",
    "            return f(*args, **kwargs)\n",
    "    return inner"
   ]
  },
  {
   "cell_type": "code",
   "execution_count": 61,
   "metadata": {},
   "outputs": [],
   "source": [
    "# export\n",
    "class Optimizer:\n",
    "    def __init__(self, model, lr):\n",
    "        self.hp = {\n",
    "            \"lr\": lr\n",
    "        }\n",
    "        params = []\n",
    "        for _, layer in model.named_children():\n",
    "            if hasattr(layer, 'weight'):\n",
    "                params.append(layer)\n",
    "        self.params = params\n",
    "    \n",
    "    @nograd\n",
    "    def step(self):\n",
    "        for param in self.params:\n",
    "            param.weight.sub_(param.weight.grad * self.hp['lr'])\n",
    "            param.bias.sub_(param.bias.grad * self.hp['lr'])\n",
    "                \n",
    "    @nograd\n",
    "    def zero_grad(self):\n",
    "        for param in self.params:\n",
    "            param.zero_grad() "
   ]
  },
  {
   "cell_type": "code",
   "execution_count": 62,
   "metadata": {},
   "outputs": [],
   "source": [
    "def fit(model, optimizer, bs=64, epochs=1):\n",
    "    n_batches = X_train.shape[0] // bs\n",
    "    losses = []\n",
    "    for epoch in range(epochs):\n",
    "        for i in range(n_batches):\n",
    "            start_idx = i * bs\n",
    "            end_idx = (i + 1) * bs\n",
    "            X_b, y_b = X_train[start_idx:end_idx], y_train[start_idx:end_idx] \n",
    "            pred = model(X_b)\n",
    "            loss = nll(pred, y_b)\n",
    "            losses.append(loss.item())\n",
    "\n",
    "            loss.backward()\n",
    "            optimizer.step()\n",
    "            optimizer.zero_grad()\n",
    "    print(losses[-1])"
   ]
  },
  {
   "cell_type": "code",
   "execution_count": 63,
   "metadata": {},
   "outputs": [],
   "source": [
    "# export\n",
    "def basic_model(nh, torch_softmax=False):\n",
    "    return nn.Sequential(\n",
    "        nn.Linear(784, nh),\n",
    "        nn.ReLU(),\n",
    "        nn.Linear(nh, 10),\n",
    "        nn.LogSoftmax() if torch_softmax else LogSoftmax()\n",
    "    )"
   ]
  },
  {
   "cell_type": "code",
   "execution_count": 64,
   "metadata": {},
   "outputs": [],
   "source": [
    "mdl = basic_model(100)\n",
    "opt = Optimizer(mdl, 1e-3)\n",
    "#fit(mdl, opt, epochs=10)"
   ]
  },
  {
   "cell_type": "code",
   "execution_count": 65,
   "metadata": {},
   "outputs": [],
   "source": [
    "mdl2 = basic_model(100, True)\n",
    "opt2 = Optimizer(mdl2, 1e-3)\n",
    "#fit(mdl2, opt2, epochs=10)"
   ]
  },
  {
   "cell_type": "code",
   "execution_count": 66,
   "metadata": {},
   "outputs": [],
   "source": [
    "# export\n",
    "class Dataset:\n",
    "    def __init__(self, x, y):\n",
    "        self.x = x\n",
    "        self.y = y\n",
    "        \n",
    "    def __getitem__(self, index):\n",
    "        return self.x[index], self.y[index]\n",
    "    \n",
    "    def __len__(self):\n",
    "        return self.x.shape[0]"
   ]
  },
  {
   "cell_type": "code",
   "execution_count": 67,
   "metadata": {},
   "outputs": [],
   "source": [
    "d = Dataset(X_train, y_train)"
   ]
  },
  {
   "cell_type": "code",
   "execution_count": 68,
   "metadata": {},
   "outputs": [
    {
     "data": {
      "text/plain": [
       "(tensor([[0., 0., 0.,  ..., 0., 0., 0.],\n",
       "         [0., 0., 0.,  ..., 0., 0., 0.],\n",
       "         [0., 0., 0.,  ..., 0., 0., 0.]]), tensor([4, 1, 9]))"
      ]
     },
     "execution_count": 68,
     "metadata": {},
     "output_type": "execute_result"
    }
   ],
   "source": [
    "d[2:5]"
   ]
  },
  {
   "cell_type": "code",
   "execution_count": 69,
   "metadata": {},
   "outputs": [],
   "source": [
    "g = [(1,2), (3,4), (5,6)]"
   ]
  },
  {
   "cell_type": "code",
   "execution_count": 70,
   "metadata": {},
   "outputs": [
    {
     "data": {
      "text/plain": [
       "[(1, 3, 5), (2, 4, 6)]"
      ]
     },
     "execution_count": 70,
     "metadata": {},
     "output_type": "execute_result"
    }
   ],
   "source": [
    "list(zip(*g))"
   ]
  },
  {
   "cell_type": "code",
   "execution_count": 71,
   "metadata": {},
   "outputs": [],
   "source": [
    "# export\n",
    "class SequentialSampler:\n",
    "    def __init__(self, ds):\n",
    "        self.ds = ds\n",
    "        \n",
    "    def __iter__(self):\n",
    "        for i in range(len(self.ds)):\n",
    "            yield(i)\n",
    "            \n",
    "    def __len__(self):\n",
    "        return len(self.ds)"
   ]
  },
  {
   "cell_type": "code",
   "execution_count": 72,
   "metadata": {},
   "outputs": [],
   "source": [
    "# export\n",
    "class DataLoader:\n",
    "    def __init__(self, ds, bs, sampler=None):\n",
    "        self.ds = ds\n",
    "        self.bs = bs\n",
    "        \n",
    "        if callable(sampler):\n",
    "            self.sampler = sampler(ds)\n",
    "        else:\n",
    "            self.sampler = sampler or SequentialSampler(ds)\n",
    "    \n",
    "    def __iter__(self):\n",
    "        it = iter(self.sampler)\n",
    "        nbatches = math.ceil(len(self) / self.bs)\n",
    "        for _ in range(nbatches):\n",
    "            try:\n",
    "                idxs = []\n",
    "                for _ in range(self.bs):\n",
    "                    idxs.append(next(it))\n",
    "                yield self.ds[idxs]\n",
    "            except StopIteration:\n",
    "                yield self.ds[idxs] # flush the final partial batch\n",
    "                \n",
    "    def __len__(self):\n",
    "        return len(self.ds)"
   ]
  },
  {
   "cell_type": "code",
   "execution_count": 73,
   "metadata": {},
   "outputs": [],
   "source": [
    "dl = DataLoader(d, 64)"
   ]
  },
  {
   "cell_type": "code",
   "execution_count": 74,
   "metadata": {},
   "outputs": [
    {
     "data": {
      "text/plain": [
       "torch.Size([64, 784])"
      ]
     },
     "execution_count": 74,
     "metadata": {},
     "output_type": "execute_result"
    }
   ],
   "source": [
    "next(iter(dl))[0].shape"
   ]
  },
  {
   "cell_type": "code",
   "execution_count": 75,
   "metadata": {},
   "outputs": [
    {
     "data": {
      "text/plain": [
       "(16, 64)"
      ]
     },
     "execution_count": 75,
     "metadata": {},
     "output_type": "execute_result"
    }
   ],
   "source": [
    "min([len(yb) for xb,yb in dl]), max([len(yb) for xb,yb in dl])"
   ]
  },
  {
   "cell_type": "code",
   "execution_count": 76,
   "metadata": {},
   "outputs": [],
   "source": [
    "# export\n",
    "def fit(model, optimizer, dl, epochs=1):\n",
    "    losses = []\n",
    "    for _ in range(epochs):\n",
    "        for X_b, y_b in dl:\n",
    "            pred = model(X_b)\n",
    "            loss = nll(pred, y_b)\n",
    "            losses.append(loss.item())\n",
    "\n",
    "            loss.backward()\n",
    "            optimizer.step()\n",
    "            optimizer.zero_grad()\n",
    "    print(losses[-1])"
   ]
  },
  {
   "cell_type": "code",
   "execution_count": 77,
   "metadata": {},
   "outputs": [],
   "source": [
    "mod = basic_model(100)"
   ]
  },
  {
   "cell_type": "code",
   "execution_count": 78,
   "metadata": {},
   "outputs": [],
   "source": [
    "opt = Optimizer(mod, 1e-3)"
   ]
  },
  {
   "cell_type": "code",
   "execution_count": 79,
   "metadata": {},
   "outputs": [],
   "source": [
    "#fit(mod, opt, dl, 100)"
   ]
  },
  {
   "cell_type": "markdown",
   "metadata": {},
   "source": [
    "# Callbacks"
   ]
  },
  {
   "cell_type": "code",
   "execution_count": 5,
   "metadata": {},
   "outputs": [],
   "source": [
    "# export\n",
    "class Runner(object): \n",
    "    def __init__(self, learn, cbs=None, cb_funcs=None):\n",
    "        self.learn = learn\n",
    "        cb_funcs = cb_funcs or []\n",
    "        cbs = cbs or []\n",
    "        self.cbs = cbs + [cb_func(self) for cb_func in cb_funcs]\n",
    "        \n",
    "        self.train_losses = []\n",
    "        self.train_counts = []\n",
    "        self.valid_losses = []\n",
    "        self.valid_counts = []\n",
    "         \n",
    "    def train(self):\n",
    "        self.mode = ModelMode.TRAIN\n",
    "        \n",
    "    def valid(self):\n",
    "        self.mode = ModelMode.VALID\n",
    "        \n",
    "    def mode(self):\n",
    "        return self.mode \n",
    "        \n",
    "    def one_batch(self, xb, yb):\n",
    "        if self('on_batch_start'): return\n",
    "        self.xb, self.yb = xb, yb\n",
    "        self.pred = self.learn.model(xb)\n",
    "        loss = self.learn.loss(self.pred, yb) \n",
    "         \n",
    "        if self.mode == ModelMode.TRAIN:\n",
    "            self.batches += 1\n",
    "            self.train_losses.append(loss.item())\n",
    "            self.train_counts.append(len(xb))\n",
    "            loss.backward()\n",
    "            if not self('on_step_start'): self.learn.optimizer.step()\n",
    "            self.learn.optimizer.zero_grad()\n",
    "            self('on_step_end') \n",
    "            \n",
    "        if self.mode == ModelMode.VALID:\n",
    "            self.valid_losses.append(loss.item())     \n",
    "            self.valid_counts.append(len(xb))\n",
    "            \n",
    "        if self('on_batch_end'): return True\n",
    "        \n",
    "    def all_batches(self):\n",
    "        if self('on_epoch_start'): return\n",
    "        dl = self.learn.data.train_dl if self.mode == ModelMode.TRAIN else self.learn.data.valid_dl\n",
    "        for xb, yb in dl:\n",
    "            self.one_batch(xb, yb)\n",
    "        self('on_epoch_end') \n",
    "        \n",
    "    def fit(self, epochs=1):\n",
    "        self.total_batches = math.ceil(len(self.learn.data.train_dl) / self.learn.data.train_dl.bs) * epochs\n",
    "        self('on_train_start')\n",
    "        self.batches = 0\n",
    "        self.epochs = 0\n",
    "        for _ in range(epochs):\n",
    "            self.train()     \n",
    "            if self.all_batches(): return\n",
    "            \n",
    "            self.valid()\n",
    "            if self.all_batches(): return\n",
    "            print(\"Validation loss: {0:.4f}\".format(self.loss(ModelMode.VALID)))\n",
    "            self.epochs += 1\n",
    "        self('on_train_end')\n",
    "        \n",
    "    def loss(self, mode: int):\n",
    "        if mode == ModelMode.TRAIN:\n",
    "            values, counts = self.train_losses, self.train_counts\n",
    "        elif mode == ModelMode.VALID:\n",
    "            values, counts = self.valid_losses, self.valid_counts\n",
    "        else:\n",
    "            raise ValueError(\"mode must be one of ModelMode.TRAIN or ModelMode.VALID.\")\n",
    "            \n",
    "        total = sum(counts)\n",
    "        weights = [i/total for i in counts]\n",
    "        return sum([value*weight for value, weight in zip(values, weights)]) \n",
    "        \n",
    "    def __call__(self, name):\n",
    "        for cb in sorted(self.cbs, key=lambda x: x._order):\n",
    "            f = getattr(cb, name, None)\n",
    "            if f and f(): return True\n",
    "        return False "
   ]
  },
  {
   "cell_type": "code",
   "execution_count": 332,
   "metadata": {},
   "outputs": [],
   "source": [
    "# export\n",
    "class Callback:\n",
    "    _order = 0\n",
    "    \n",
    "    def on_train_start(self):\n",
    "        pass\n",
    "        \n",
    "    def on_epoch_start(self): \n",
    "        pass\n",
    "    \n",
    "    def on_batch_start(self): \n",
    "        pass\n",
    "    \n",
    "    def on_forward_start(self): \n",
    "        pass\n",
    "    \n",
    "    def on_forward_end(self): \n",
    "        pass\n",
    "    \n",
    "    def on_backward_start(self): \n",
    "        pass\n",
    "    \n",
    "    def on_backward_end(self): \n",
    "        pass\n",
    "        \n",
    "    def on_batch_end(self):\n",
    "        pass\n",
    "        \n",
    "    def on_epoch_end(self):\n",
    "        pass\n",
    "    \n",
    "    def on_train_end(self):\n",
    "        pass\n",
    "    \n",
    "    def __call__(self, runner: Runner):\n",
    "        self.runner = runner\n",
    "        return self\n",
    "    \n",
    "    def __getattr__(self, attr):\n",
    "        if attr == \"runner\":\n",
    "            raise ValueError(\"No runner has been set; use __call__ to set a runner on this callback.\")"
   ]
  },
  {
   "cell_type": "code",
   "execution_count": 292,
   "metadata": {},
   "outputs": [],
   "source": [
    "# export\n",
    "class Learn:\n",
    "    def __init__(self, model, optimizer, data, loss):\n",
    "        self.model = model\n",
    "        self.optimizer = optimizer\n",
    "        self.data = data\n",
    "        self.loss = loss"
   ]
  },
  {
   "cell_type": "code",
   "execution_count": 293,
   "metadata": {},
   "outputs": [],
   "source": [
    "# class CallbackHandler:\n",
    "#     def __init__(self, learn, callbacks, callback_fns):\n",
    "#         self.callbacks = [cb(learn) for cb in callback_fns] + callbacks \n",
    "        \n",
    "#     def on_train_start(self):\n",
    "#         for callback in self.callbacks: callback.on_train_start()\n",
    "        \n",
    "#     def on_epoch_start(self):\n",
    "#         for callback in self.callbacks: callback.on_epoch_start()\n",
    "        \n",
    "#     def on_batch_start(self): \n",
    "#         for callback in self.callbacks: callback.on_batch_start()\n",
    "            \n",
    "#     def on_forward_start(self): \n",
    "#         for callback in self.callbacks: callback.on_forward_start()\n",
    "            \n",
    "#     def on_forward_end(self): \n",
    "#         for callback in self.callbacks: callback.on_forward_end()\n",
    "            \n",
    "#     def on_backward_start(self): \n",
    "#         for callback in self.callbacks: callback.on_backward_start()\n",
    "            \n",
    "#     def on_backward_end(self): \n",
    "#         for callback in self.callbacks: callback.on_backward_end()\n",
    "        \n",
    "#     def on_batch_end(self):\n",
    "#         for callback in self.callbacks: callback.on_batch_end()\n",
    "        \n",
    "#     def on_epoch_end(self):\n",
    "#         for callback in self.callbacks: callback.on_epoch_end()\n",
    "        \n",
    "#     def on_train_end(self):\n",
    "#         for callback in self.callbacks: callback.on_train_end()"
   ]
  },
  {
   "cell_type": "code",
   "execution_count": 294,
   "metadata": {},
   "outputs": [],
   "source": [
    "# class CallbackHandler(Callback):\n",
    "#     def __init__(self, learn, callbacks, callback_fns):\n",
    "#         self.callbacks = [cb(learn) for cb in callback_fns] + callbacks \n",
    "        \n",
    "#     def __getattr__(self, attr):\n",
    "#         if attr.startswith('on_'):\n",
    "#             for callback in sorted(self.callbacks, key=lambda x: x._order): \n",
    "#                 f = getattr(callback, attr) \n",
    "#                 if f and f(): return False # false means don't stop"
   ]
  },
  {
   "cell_type": "code",
   "execution_count": 295,
   "metadata": {},
   "outputs": [],
   "source": [
    "# export\n",
    "class ModelMode:\n",
    "    TRAIN = 0\n",
    "    VALID = 1\n",
    "    TEST = 2"
   ]
  },
  {
   "cell_type": "code",
   "execution_count": 296,
   "metadata": {},
   "outputs": [],
   "source": [
    "# export\n",
    "class DataBunch:\n",
    "    def __init__(self, train_dl, valid_dl, test_dl=None, c=None):\n",
    "        self.train_dl = train_dl\n",
    "        self.valid_dl = valid_dl\n",
    "        self.test_dl = test_dl\n",
    "        self.c = c"
   ]
  },
  {
   "cell_type": "code",
   "execution_count": 298,
   "metadata": {},
   "outputs": [
    {
     "data": {
      "text/plain": [
       "(tensor([[0., 0., 0.,  ..., 0., 0., 0.],\n",
       "         [0., 0., 0.,  ..., 0., 0., 0.],\n",
       "         [0., 0., 0.,  ..., 0., 0., 0.],\n",
       "         ...,\n",
       "         [0., 0., 0.,  ..., 0., 0., 0.],\n",
       "         [0., 0., 0.,  ..., 0., 0., 0.],\n",
       "         [0., 0., 0.,  ..., 0., 0., 0.]]), tensor([5, 0, 4,  ..., 8, 4, 8]))"
      ]
     },
     "execution_count": 298,
     "metadata": {},
     "output_type": "execute_result"
    }
   ],
   "source": [
    "X_train, y_train"
   ]
  },
  {
   "cell_type": "code",
   "execution_count": 299,
   "metadata": {},
   "outputs": [
    {
     "data": {
      "text/plain": [
       "(tensor([[0., 0., 0.,  ..., 0., 0., 0.],\n",
       "         [0., 0., 0.,  ..., 0., 0., 0.],\n",
       "         [0., 0., 0.,  ..., 0., 0., 0.],\n",
       "         ...,\n",
       "         [0., 0., 0.,  ..., 0., 0., 0.],\n",
       "         [0., 0., 0.,  ..., 0., 0., 0.],\n",
       "         [0., 0., 0.,  ..., 0., 0., 0.]]), tensor([3, 8, 6,  ..., 5, 6, 8]))"
      ]
     },
     "execution_count": 299,
     "metadata": {},
     "output_type": "execute_result"
    }
   ],
   "source": [
    "X_valid, y_valid"
   ]
  },
  {
   "cell_type": "code",
   "execution_count": 300,
   "metadata": {},
   "outputs": [],
   "source": [
    "train_ds = Dataset(X_train, y_train)\n",
    "valid_ds = Dataset(X_valid, y_valid)"
   ]
  },
  {
   "cell_type": "code",
   "execution_count": 301,
   "metadata": {},
   "outputs": [],
   "source": [
    "train_dl = DataLoader(train_ds, 64)\n",
    "valid_dl = DataLoader(valid_ds, 128)"
   ]
  },
  {
   "cell_type": "code",
   "execution_count": 302,
   "metadata": {},
   "outputs": [],
   "source": [
    "data = DataBunch(train_dl, valid_dl)"
   ]
  },
  {
   "cell_type": "code",
   "execution_count": 303,
   "metadata": {},
   "outputs": [],
   "source": [
    "# slow\n",
    "mdl = basic_model(100)\n",
    "opt = Optimizer(mdl, 1e-3)\n",
    "learn = Learn(mdl, opt, data, nn.NLLLoss())"
   ]
  },
  {
   "cell_type": "code",
   "execution_count": 304,
   "metadata": {},
   "outputs": [],
   "source": [
    "basic_runner = Runner(learn)"
   ]
  },
  {
   "cell_type": "code",
   "execution_count": 305,
   "metadata": {},
   "outputs": [],
   "source": [
    "# basic_runner.fit(10)"
   ]
  },
  {
   "cell_type": "code",
   "execution_count": 306,
   "metadata": {},
   "outputs": [],
   "source": [
    "# basic_runner.loss(ModelMode.VALID)"
   ]
  },
  {
   "cell_type": "markdown",
   "metadata": {},
   "source": [
    "# BasicCallback"
   ]
  },
  {
   "cell_type": "code",
   "execution_count": 96,
   "metadata": {},
   "outputs": [],
   "source": [
    "# export\n",
    "class BasicCallback:\n",
    "    _order = 0\n",
    "    \n",
    "    def __init__(self, runner: Runner):\n",
    "        self.runner = runner\n",
    "        \n",
    "    def on_batch_end(self):\n",
    "        print(self.runner.batches)\n",
    "        if self.runner.batches == 10:\n",
    "            print(\"Done!\")\n",
    "            return True"
   ]
  },
  {
   "cell_type": "code",
   "execution_count": 97,
   "metadata": {},
   "outputs": [],
   "source": [
    "basic_runner_cb = Runner(learn, cb_funcs=[BasicCallback])"
   ]
  },
  {
   "cell_type": "code",
   "execution_count": 98,
   "metadata": {},
   "outputs": [],
   "source": [
    "# basic_runner_cb.fit(10)"
   ]
  },
  {
   "cell_type": "markdown",
   "metadata": {},
   "source": [
    "# Scheduler"
   ]
  },
  {
   "cell_type": "code",
   "execution_count": 99,
   "metadata": {},
   "outputs": [],
   "source": [
    "# export\n",
    "class LinearScheduler:\n",
    "    _order = 0\n",
    "    def __init__(self, start: float, stop: float, hp: str, runner: Runner):\n",
    "        self.start = start\n",
    "        self.stop = stop\n",
    "        self.runner = runner \n",
    "        self.hp = hp\n",
    "        \n",
    "    def on_batch_end(self):\n",
    "        pos = self.runner.batches / self.runner.total_batches\n",
    "        new_hp = start + (self.stop - self.start) * pos\n",
    "        self.runner.learn.optimizer.hp[self.hp] = new_hp\n",
    "        if pos % 0.1 == 0:\n",
    "            print(\"The {} is now {}\".format(self.hp, new_hp)) "
   ]
  },
  {
   "cell_type": "code",
   "execution_count": 100,
   "metadata": {},
   "outputs": [],
   "source": [
    "# export\n",
    "def lin_scheduler(start: float, stop: float, hp: str) -> partial: return partial(LinearScheduler, start, stop, hp)"
   ]
  },
  {
   "cell_type": "code",
   "execution_count": 338,
   "metadata": {},
   "outputs": [
    {
     "data": {
      "text/plain": [
       "functools.partial(<class '__main__.LinearScheduler'>, 10, 50, 'lr')"
      ]
     },
     "execution_count": 338,
     "metadata": {},
     "output_type": "execute_result"
    }
   ],
   "source": [
    "lin_scheduler(10, 50, 'lr')"
   ]
  },
  {
   "cell_type": "code",
   "execution_count": 339,
   "metadata": {},
   "outputs": [],
   "source": [
    "# export\n",
    "class Scheduler(Callback): \n",
    "    pass\n",
    "\n",
    "class CosineScheduler(Scheduler):\n",
    "    _order = 0\n",
    "    def __init__(self, start: float, stop: float, hp: str):\n",
    "        self.start = start\n",
    "        self.stop = stop\n",
    "        self.hp = hp\n",
    "        \n",
    "    def on_batch_end(self, pos: float = None):\n",
    "        if self.runner.mode == ModelMode.TRAIN:\n",
    "            pos = pos or float(self.runner.batches) / float(self.runner.total_batches)\n",
    "            new_hp = self.start + (1 + math.cos(math.pi*(1-pos))) * (self.stop - self.start) / 2\n",
    "            for param_group in self.runner.learn.optimizer.param_groups:\n",
    "                param_group[self.hp] = new_hp\n",
    "            \n",
    "class LinearScheduler(Scheduler):\n",
    "    _order = 0\n",
    "    def __init__(self, start: float, stop: float, hp: str):\n",
    "        self.start = start\n",
    "        self.stop = stop\n",
    "        self.hp = hp\n",
    "        \n",
    "    def on_batch_end(self, pos: float = None):\n",
    "        if self.runner.mode == ModelMode.TRAIN:\n",
    "            pos = pos or self.runner.batches / self.runner.total_batches\n",
    "            new_hp = self.start + pos * (self.start - self.stop)\n",
    "            for param_group in self.runner.learn.optimizer.param_groups:\n",
    "                param_group[self.hp] = new_hp"
   ]
  },
  {
   "cell_type": "code",
   "execution_count": 340,
   "metadata": {},
   "outputs": [
    {
     "data": {
      "text/plain": [
       "782"
      ]
     },
     "execution_count": 340,
     "metadata": {},
     "output_type": "execute_result"
    }
   ],
   "source": [
    "math.ceil(len(data.train_dl) / data.train_dl.bs)"
   ]
  },
  {
   "cell_type": "code",
   "execution_count": 341,
   "metadata": {},
   "outputs": [],
   "source": [
    "def cos_scheduler(start: float, stop: float, hp: str) -> partial: return partial(CosineScheduler, start, stop, hp)"
   ]
  },
  {
   "cell_type": "code",
   "execution_count": 342,
   "metadata": {},
   "outputs": [],
   "source": [
    "runner_cbs = Runner(learn, cb_funcs=[CosineScheduler(1e-5, 1e-1, 'lr')])"
   ]
  },
  {
   "cell_type": "code",
   "execution_count": 343,
   "metadata": {},
   "outputs": [],
   "source": [
    "# runner_cbs.fit(10)"
   ]
  },
  {
   "cell_type": "markdown",
   "metadata": {},
   "source": [
    "# Combining Schedulers"
   ]
  },
  {
   "cell_type": "markdown",
   "metadata": {},
   "source": [
    "We need to:\n",
    "1. Check to see what percentage of batches have been processed\n",
    "2. Depending on what percentage we're up to, determine which scheduler to use\n",
    "3. For that scheduler, calculate the HP value based on what point in the phase we're at\n",
    "\n",
    "Each one treats percentages independently; so if the first phase needs to go from 0.3 to 0.8 over the first 70% of batches, and there are 100 batches total, then batch 70 needs to look like the \"100%\" mark for the first scheduler. What we can do is:\n",
    "* take these percentages and construct intervals, which are tuples of batch indices (e.g. (0,70) for the example above). \n",
    "* Select the interval for the batch that we're currently in\n",
    "* Subtract batch num - interval_beginning / (interval_end - interval_beginning) to get the percentage\n",
    "* Pass that percentage to the scheduler associated with that interval"
   ]
  },
  {
   "cell_type": "code",
   "execution_count": 1,
   "metadata": {},
   "outputs": [
    {
     "ename": "NameError",
     "evalue": "name 'Scheduler' is not defined",
     "output_type": "error",
     "traceback": [
      "\u001b[0;31m---------------------------------------------------------------------------\u001b[0m",
      "\u001b[0;31mNameError\u001b[0m                                 Traceback (most recent call last)",
      "\u001b[0;32m<ipython-input-1-7755f9535c95>\u001b[0m in \u001b[0;36m<module>\u001b[0;34m\u001b[0m\n\u001b[1;32m      1\u001b[0m \u001b[0;31m# export\u001b[0m\u001b[0;34m\u001b[0m\u001b[0;34m\u001b[0m\u001b[0;34m\u001b[0m\u001b[0m\n\u001b[0;32m----> 2\u001b[0;31m \u001b[0;32mclass\u001b[0m \u001b[0mCombinedScheduler\u001b[0m\u001b[0;34m(\u001b[0m\u001b[0mScheduler\u001b[0m\u001b[0;34m)\u001b[0m\u001b[0;34m:\u001b[0m\u001b[0;34m\u001b[0m\u001b[0;34m\u001b[0m\u001b[0m\n\u001b[0m\u001b[1;32m      3\u001b[0m     \u001b[0m_order\u001b[0m \u001b[0;34m=\u001b[0m \u001b[0;36m0\u001b[0m\u001b[0;34m\u001b[0m\u001b[0;34m\u001b[0m\u001b[0m\n\u001b[1;32m      4\u001b[0m     \u001b[0;32mdef\u001b[0m \u001b[0m__init__\u001b[0m\u001b[0;34m(\u001b[0m\u001b[0mself\u001b[0m\u001b[0;34m,\u001b[0m \u001b[0mpercentages\u001b[0m\u001b[0;34m:\u001b[0m \u001b[0mList\u001b[0m\u001b[0;34m[\u001b[0m\u001b[0mfloat\u001b[0m\u001b[0;34m]\u001b[0m\u001b[0;34m,\u001b[0m \u001b[0;34m*\u001b[0m\u001b[0mscheduler_fns\u001b[0m\u001b[0;34m:\u001b[0m \u001b[0mCallable\u001b[0m\u001b[0;34m[\u001b[0m\u001b[0;34m[\u001b[0m\u001b[0mRunner\u001b[0m\u001b[0;34m]\u001b[0m\u001b[0;34m,\u001b[0m \u001b[0mScheduler\u001b[0m\u001b[0;34m]\u001b[0m\u001b[0;34m)\u001b[0m\u001b[0;34m:\u001b[0m\u001b[0;34m\u001b[0m\u001b[0;34m\u001b[0m\u001b[0m\n\u001b[1;32m      5\u001b[0m         \u001b[0;32massert\u001b[0m \u001b[0msum\u001b[0m\u001b[0;34m(\u001b[0m\u001b[0mpercentages\u001b[0m\u001b[0;34m)\u001b[0m \u001b[0;34m==\u001b[0m \u001b[0;36m1.\u001b[0m\u001b[0;34m\u001b[0m\u001b[0;34m\u001b[0m\u001b[0m\n",
      "\u001b[0;31mNameError\u001b[0m: name 'Scheduler' is not defined"
     ]
    }
   ],
   "source": [
    "# export\n",
    "class CombinedScheduler(Scheduler):\n",
    "    _order = 0\n",
    "    def __init__(self, percentages: List[float], *scheduler_fns: Callable[[Runner], Scheduler]):\n",
    "        assert sum(percentages) == 1.\n",
    "        self.percentages = percentages\n",
    "        self.intervals = [(percentages[i-1], percentages[i]) for i in range(0,len(percentages))]\n",
    "        self.phases = self._build_phases(percentages)\n",
    "        self.scheduler_fns = scheduler_fns\n",
    "        self.schedulers = None\n",
    "        \n",
    "    def on_batch_end(self):\n",
    "        if self.runner.mode == ModelMode.TRAIN:\n",
    "            if self.schedulers is None:\n",
    "                print(\"Must build the schedulers by calling build_schedulers(runner) before calling on_batch_end.\") \n",
    "\n",
    "            # all schedulers must refer to the same runner\n",
    "            assert all([i.runner == self.runner for i in self.schedulers])\n",
    "            pos = self.runner.batches / self.runner.total_batches\n",
    "            phase_idx = self._get_phase(pos)\n",
    "            phase = self.phases[phase_idx]\n",
    "            scheduler = self.schedulers[phase_idx]\n",
    "            phase_pct = pos - phase[0]\n",
    "            phase_size = phase[1] - phase[0]\n",
    "            effective_pct = phase_pct / phase_size \n",
    "            scheduler.on_batch_end(effective_pct)\n",
    "        \n",
    "    def _build_phases(self, pcts: List[float]) -> List[Tuple[float, float]]:\n",
    "        pcts = [0] + pcts\n",
    "        cumsum = torch.cumsum(torch.tensor(pcts), dim=-1).tolist()\n",
    "        intervals = [(round(cumsum[i-1], 1), round(cumsum[i], 1)) for i in range(1, len(cumsum))]\n",
    "        return intervals\n",
    "    \n",
    "    def _get_phase(self, pos: float) -> int:\n",
    "        for idx, phase in enumerate(self.phases):\n",
    "            if phase[0] < pos <= phase[1]:\n",
    "                return idx \n",
    "            \n",
    "    def build_schedulers(self, runner: Runner):\n",
    "        self.schedulers = [i(runner) for i in self.scheduler_fns]\n",
    "         \n",
    "    def __call__(self, runner: Runner):\n",
    "        self.runner = runner\n",
    "        self.build_schedulers(runner)\n",
    "        return self"
   ]
  },
  {
   "cell_type": "code",
   "execution_count": null,
   "metadata": {},
   "outputs": [],
   "source": [
    "percentages = [0.7, 0.3]"
   ]
  },
  {
   "cell_type": "code",
   "execution_count": 2,
   "metadata": {},
   "outputs": [
    {
     "ename": "NameError",
     "evalue": "name 'percentages' is not defined",
     "output_type": "error",
     "traceback": [
      "\u001b[0;31m---------------------------------------------------------------------------\u001b[0m",
      "\u001b[0;31mNameError\u001b[0m                                 Traceback (most recent call last)",
      "\u001b[0;32m<ipython-input-2-8262a74acb48>\u001b[0m in \u001b[0;36m<module>\u001b[0;34m\u001b[0m\n\u001b[0;32m----> 1\u001b[0;31m \u001b[0;34m[\u001b[0m\u001b[0;34m(\u001b[0m\u001b[0mpercentages\u001b[0m\u001b[0;34m[\u001b[0m\u001b[0mi\u001b[0m\u001b[0;34m-\u001b[0m\u001b[0;36m1\u001b[0m\u001b[0;34m]\u001b[0m\u001b[0;34m,\u001b[0m \u001b[0mpercentages\u001b[0m\u001b[0;34m[\u001b[0m\u001b[0mi\u001b[0m\u001b[0;34m]\u001b[0m\u001b[0;34m)\u001b[0m \u001b[0;32mfor\u001b[0m \u001b[0mi\u001b[0m \u001b[0;32min\u001b[0m \u001b[0mrange\u001b[0m\u001b[0;34m(\u001b[0m\u001b[0;36m0\u001b[0m\u001b[0;34m,\u001b[0m\u001b[0mlen\u001b[0m\u001b[0;34m(\u001b[0m\u001b[0mpercentages\u001b[0m\u001b[0;34m)\u001b[0m\u001b[0;34m)\u001b[0m\u001b[0;34m]\u001b[0m\u001b[0;34m\u001b[0m\u001b[0;34m\u001b[0m\u001b[0m\n\u001b[0m",
      "\u001b[0;31mNameError\u001b[0m: name 'percentages' is not defined"
     ]
    }
   ],
   "source": [
    "[(percentages[i-1], percentages[i]) for i in range(0,len(percentages))]"
   ]
  },
  {
   "cell_type": "code",
   "execution_count": 3,
   "metadata": {},
   "outputs": [
    {
     "ename": "NameError",
     "evalue": "name 'torch' is not defined",
     "output_type": "error",
     "traceback": [
      "\u001b[0;31m---------------------------------------------------------------------------\u001b[0m",
      "\u001b[0;31mNameError\u001b[0m                                 Traceback (most recent call last)",
      "\u001b[0;32m<ipython-input-3-f970c8951517>\u001b[0m in \u001b[0;36m<module>\u001b[0;34m\u001b[0m\n\u001b[0;32m----> 1\u001b[0;31m \u001b[0mtorch\u001b[0m\u001b[0;34m.\u001b[0m\u001b[0mcumsum\u001b[0m\u001b[0;34m(\u001b[0m\u001b[0mtorch\u001b[0m\u001b[0;34m.\u001b[0m\u001b[0mtensor\u001b[0m\u001b[0;34m(\u001b[0m\u001b[0mpercentages\u001b[0m\u001b[0;34m)\u001b[0m\u001b[0;34m,\u001b[0m \u001b[0mdim\u001b[0m\u001b[0;34m=\u001b[0m\u001b[0;34m-\u001b[0m\u001b[0;36m1\u001b[0m\u001b[0;34m)\u001b[0m\u001b[0;34m\u001b[0m\u001b[0;34m\u001b[0m\u001b[0m\n\u001b[0m",
      "\u001b[0;31mNameError\u001b[0m: name 'torch' is not defined"
     ]
    }
   ],
   "source": [
    "torch.cumsum(torch.tensor(percentages), dim=-1)"
   ]
  },
  {
   "cell_type": "code",
   "execution_count": 4,
   "metadata": {},
   "outputs": [
    {
     "ename": "NameError",
     "evalue": "name 'List' is not defined",
     "output_type": "error",
     "traceback": [
      "\u001b[0;31m---------------------------------------------------------------------------\u001b[0m",
      "\u001b[0;31mNameError\u001b[0m                                 Traceback (most recent call last)",
      "\u001b[0;32m<ipython-input-4-842439c0ed63>\u001b[0m in \u001b[0;36m<module>\u001b[0;34m\u001b[0m\n\u001b[0;32m----> 1\u001b[0;31m \u001b[0;32mdef\u001b[0m \u001b[0mbuild_phases\u001b[0m\u001b[0;34m(\u001b[0m\u001b[0mpcts\u001b[0m\u001b[0;34m:\u001b[0m \u001b[0mList\u001b[0m\u001b[0;34m[\u001b[0m\u001b[0mfloat\u001b[0m\u001b[0;34m]\u001b[0m\u001b[0;34m)\u001b[0m \u001b[0;34m->\u001b[0m \u001b[0mList\u001b[0m\u001b[0;34m[\u001b[0m\u001b[0mTuple\u001b[0m\u001b[0;34m[\u001b[0m\u001b[0mfloat\u001b[0m\u001b[0;34m,\u001b[0m \u001b[0mfloat\u001b[0m\u001b[0;34m]\u001b[0m\u001b[0;34m]\u001b[0m\u001b[0;34m:\u001b[0m\u001b[0;34m\u001b[0m\u001b[0;34m\u001b[0m\u001b[0m\n\u001b[0m\u001b[1;32m      2\u001b[0m     \u001b[0mpcts\u001b[0m \u001b[0;34m=\u001b[0m \u001b[0;34m[\u001b[0m\u001b[0;36m0\u001b[0m\u001b[0;34m]\u001b[0m \u001b[0;34m+\u001b[0m \u001b[0mpcts\u001b[0m\u001b[0;34m\u001b[0m\u001b[0;34m\u001b[0m\u001b[0m\n\u001b[1;32m      3\u001b[0m     \u001b[0mcumsum\u001b[0m \u001b[0;34m=\u001b[0m \u001b[0mtorch\u001b[0m\u001b[0;34m.\u001b[0m\u001b[0mcumsum\u001b[0m\u001b[0;34m(\u001b[0m\u001b[0mtorch\u001b[0m\u001b[0;34m.\u001b[0m\u001b[0mtensor\u001b[0m\u001b[0;34m(\u001b[0m\u001b[0mpcts\u001b[0m\u001b[0;34m)\u001b[0m\u001b[0;34m,\u001b[0m \u001b[0mdim\u001b[0m\u001b[0;34m=\u001b[0m\u001b[0;34m-\u001b[0m\u001b[0;36m1\u001b[0m\u001b[0;34m)\u001b[0m\u001b[0;34m.\u001b[0m\u001b[0mtolist\u001b[0m\u001b[0;34m(\u001b[0m\u001b[0;34m)\u001b[0m\u001b[0;34m\u001b[0m\u001b[0;34m\u001b[0m\u001b[0m\n\u001b[1;32m      4\u001b[0m     \u001b[0mintervals\u001b[0m \u001b[0;34m=\u001b[0m \u001b[0;34m[\u001b[0m\u001b[0;34m(\u001b[0m\u001b[0mround\u001b[0m\u001b[0;34m(\u001b[0m\u001b[0mcumsum\u001b[0m\u001b[0;34m[\u001b[0m\u001b[0mi\u001b[0m\u001b[0;34m-\u001b[0m\u001b[0;36m1\u001b[0m\u001b[0;34m]\u001b[0m\u001b[0;34m,\u001b[0m \u001b[0;36m1\u001b[0m\u001b[0;34m)\u001b[0m\u001b[0;34m,\u001b[0m \u001b[0mround\u001b[0m\u001b[0;34m(\u001b[0m\u001b[0mcumsum\u001b[0m\u001b[0;34m[\u001b[0m\u001b[0mi\u001b[0m\u001b[0;34m]\u001b[0m\u001b[0;34m,\u001b[0m \u001b[0;36m1\u001b[0m\u001b[0;34m)\u001b[0m\u001b[0;34m)\u001b[0m \u001b[0;32mfor\u001b[0m \u001b[0mi\u001b[0m \u001b[0;32min\u001b[0m \u001b[0mrange\u001b[0m\u001b[0;34m(\u001b[0m\u001b[0;36m1\u001b[0m\u001b[0;34m,\u001b[0m \u001b[0mlen\u001b[0m\u001b[0;34m(\u001b[0m\u001b[0mcumsum\u001b[0m\u001b[0;34m)\u001b[0m\u001b[0;34m)\u001b[0m\u001b[0;34m]\u001b[0m\u001b[0;34m\u001b[0m\u001b[0;34m\u001b[0m\u001b[0m\n\u001b[1;32m      5\u001b[0m     \u001b[0;32mreturn\u001b[0m \u001b[0mintervals\u001b[0m\u001b[0;34m\u001b[0m\u001b[0;34m\u001b[0m\u001b[0m\n",
      "\u001b[0;31mNameError\u001b[0m: name 'List' is not defined"
     ]
    }
   ],
   "source": [
    "def build_phases(pcts: List[float]) -> List[Tuple[float, float]]:\n",
    "    pcts = [0] + pcts\n",
    "    cumsum = torch.cumsum(torch.tensor(pcts), dim=-1).tolist()\n",
    "    intervals = [(round(cumsum[i-1], 1), round(cumsum[i], 1)) for i in range(1, len(cumsum))]\n",
    "    return intervals"
   ]
  },
  {
   "cell_type": "code",
   "execution_count": 317,
   "metadata": {},
   "outputs": [
    {
     "data": {
      "text/plain": [
       "[(0.0, 0.7), (0.7, 1.0)]"
      ]
     },
     "execution_count": 317,
     "metadata": {},
     "output_type": "execute_result"
    }
   ],
   "source": [
    "build_phases([0.7, 0.3])"
   ]
  },
  {
   "cell_type": "code",
   "execution_count": 318,
   "metadata": {},
   "outputs": [],
   "source": [
    "assert build_phases([0.7, 0.3]) == [(0, 0.7), (0.7, 1.0)]"
   ]
  },
  {
   "cell_type": "code",
   "execution_count": 319,
   "metadata": {},
   "outputs": [],
   "source": [
    "def get_phase(pos: float, phases: List[Tuple[float, float]]) -> int:\n",
    "    for idx, phase in enumerate(phases):\n",
    "        if phase[0] < pos <= phase[1]:\n",
    "            return idx "
   ]
  },
  {
   "cell_type": "code",
   "execution_count": 320,
   "metadata": {},
   "outputs": [],
   "source": [
    "assert get_phase(0.5, [(0, 0.7), (0.7, 1.0)]) == 0"
   ]
  },
  {
   "cell_type": "code",
   "execution_count": 321,
   "metadata": {},
   "outputs": [],
   "source": [
    "assert get_phase(0.8, [(0, 0.7), (0.7, 1.0)]) == 1"
   ]
  },
  {
   "cell_type": "code",
   "execution_count": 322,
   "metadata": {},
   "outputs": [],
   "source": [
    "# export\n",
    "class Recorder(Callback):\n",
    "    _order=1\n",
    "    \n",
    "    def __init__(self):\n",
    "        self.values = []\n",
    "    \n",
    "    def on_batch_end(self):\n",
    "        if self.runner.mode == ModelMode.TRAIN:\n",
    "            self.values.append(self.runner.learn.optimizer.hp.copy()) "
   ]
  },
  {
   "cell_type": "code",
   "execution_count": 323,
   "metadata": {},
   "outputs": [],
   "source": [
    "model = basic_model(10)\n",
    "opt = Optimizer(model, 1e-3)\n",
    "learn = Learn(model, opt, data, nn.NLLLoss())\n",
    "scheduler = CombinedScheduler([0.3, 0.7], CosineScheduler(1e-5, 1e-1, 'lr'), CosineScheduler(1e-1, 1e-3, 'lr'))\n",
    "run = Runner(learn, cb_funcs=[scheduler, Recorder()])"
   ]
  },
  {
   "cell_type": "code",
   "execution_count": 324,
   "metadata": {},
   "outputs": [
    {
     "data": {
      "text/plain": [
       "<__main__.CombinedScheduler at 0x7fd4208a58d0>"
      ]
     },
     "execution_count": 324,
     "metadata": {},
     "output_type": "execute_result"
    }
   ],
   "source": [
    "scheduler(run)"
   ]
  },
  {
   "cell_type": "code",
   "execution_count": 325,
   "metadata": {},
   "outputs": [
    {
     "data": {
      "text/plain": [
       "[<__main__.CosineScheduler at 0x7fd4208a5790>,\n",
       " <__main__.CosineScheduler at 0x7fd4208a5850>]"
      ]
     },
     "execution_count": 325,
     "metadata": {},
     "output_type": "execute_result"
    }
   ],
   "source": [
    "scheduler.schedulers"
   ]
  },
  {
   "cell_type": "code",
   "execution_count": 326,
   "metadata": {},
   "outputs": [
    {
     "data": {
      "text/plain": [
       "<__main__.CombinedScheduler at 0x7fd4208a58d0>"
      ]
     },
     "execution_count": 326,
     "metadata": {},
     "output_type": "execute_result"
    }
   ],
   "source": [
    "scheduler(run)"
   ]
  },
  {
   "cell_type": "code",
   "execution_count": 327,
   "metadata": {},
   "outputs": [
    {
     "name": "stdout",
     "output_type": "stream",
     "text": [
      "Validation loss: 1.1647\n",
      "Validation loss: 0.7732\n",
      "The lr is now 0.1 for pos 1.0 (batch 2346)\n",
      "2346\n",
      "7820\n",
      "Validation loss: 0.6152\n",
      "Validation loss: 0.5286\n",
      "Validation loss: 0.4729\n",
      "Validation loss: 0.4342\n",
      "Validation loss: 0.4054\n",
      "Validation loss: 0.3832\n",
      "Validation loss: 0.3657\n",
      "The lr is now 0.0010000000000000009 for pos 1.0 (batch 7820)\n",
      "7820\n",
      "7820\n",
      "Validation loss: 0.3517\n"
     ]
    }
   ],
   "source": [
    "run.fit(10)"
   ]
  },
  {
   "cell_type": "code",
   "execution_count": 328,
   "metadata": {},
   "outputs": [],
   "source": [
    "lrs = [i['lr'] for i in run.cbs[1].values]"
   ]
  },
  {
   "cell_type": "code",
   "execution_count": 329,
   "metadata": {},
   "outputs": [],
   "source": [
    "import pandas as pd"
   ]
  },
  {
   "cell_type": "code",
   "execution_count": 330,
   "metadata": {},
   "outputs": [
    {
     "data": {
      "text/plain": [
       "<matplotlib.axes._subplots.AxesSubplot at 0x7fd420898290>"
      ]
     },
     "execution_count": 330,
     "metadata": {},
     "output_type": "execute_result"
    },
    {
     "data": {
      "image/png": "[encoded data removed]",
      "text/plain": [
       "<Figure size 432x288 with 1 Axes>"
      ]
     },
     "metadata": {
      "needs_background": "light"
     },
     "output_type": "display_data"
    }
   ],
   "source": [
    "pd.Series(lrs).plot()"
   ]
  },
  {
   "cell_type": "markdown",
   "metadata": {},
   "source": [
    "# Deeper Dive into Cosine Smoothing"
   ]
  },
  {
   "cell_type": "code",
   "execution_count": 174,
   "metadata": {},
   "outputs": [],
   "source": [
    "nums = np.linspace(0, np.pi, 100)"
   ]
  },
  {
   "cell_type": "code",
   "execution_count": 175,
   "metadata": {},
   "outputs": [
    {
     "data": {
      "text/plain": [
       "array([0.      , 0.031733, 0.063467, 0.0952  , ..., 3.046393, 3.078126, 3.109859, 3.141593])"
      ]
     },
     "execution_count": 175,
     "metadata": {},
     "output_type": "execute_result"
    }
   ],
   "source": [
    "nums"
   ]
  },
  {
   "cell_type": "code",
   "execution_count": 176,
   "metadata": {},
   "outputs": [
    {
     "data": {
      "text/plain": [
       "<matplotlib.axes._subplots.AxesSubplot at 0x7fd422560490>"
      ]
     },
     "execution_count": 176,
     "metadata": {},
     "output_type": "execute_result"
    },
    {
     "data": {
      "image/png": "[encoded data removed]",
      "text/plain": [
       "<Figure size 432x288 with 1 Axes>"
      ]
     },
     "metadata": {
      "needs_background": "light"
     },
     "output_type": "display_data"
    }
   ],
   "source": [
    "pd.Series(np.cos(nums)).plot(kind=\"line\")"
   ]
  },
  {
   "cell_type": "code",
   "execution_count": 177,
   "metadata": {},
   "outputs": [
    {
     "data": {
      "text/plain": [
       "<matplotlib.axes._subplots.AxesSubplot at 0x7fd4224f0210>"
      ]
     },
     "execution_count": 177,
     "metadata": {},
     "output_type": "execute_result"
    },
    {
     "data": {
      "image/png": "[encoded data removed]",
      "text/plain": [
       "<Figure size 432x288 with 1 Axes>"
      ]
     },
     "metadata": {
      "needs_background": "light"
     },
     "output_type": "display_data"
    }
   ],
   "source": [
    "pd.Series(-np.cos(nums)).plot(kind=\"line\")"
   ]
  },
  {
   "cell_type": "code",
   "execution_count": 151,
   "metadata": {},
   "outputs": [],
   "source": [
    "def get_value(start, end, batch, total_batches):\n",
    "    return start + (end - start)/2 + -np.cos(batch/total_batches * np.pi) * (end - start)/2"
   ]
  },
  {
   "cell_type": "code",
   "execution_count": 152,
   "metadata": {},
   "outputs": [],
   "source": [
    "vf = np.vectorize(get_value)"
   ]
  },
  {
   "cell_type": "code",
   "execution_count": 153,
   "metadata": {},
   "outputs": [],
   "source": [
    "total_batches = 76\n",
    "res = vf(batch=np.linspace(0, 75, 75), start=7, end=45, total_batches=76)"
   ]
  },
  {
   "cell_type": "code",
   "execution_count": 154,
   "metadata": {},
   "outputs": [
    {
     "data": {
      "text/plain": [
       "<matplotlib.axes._subplots.AxesSubplot at 0x7fd7a98c6c90>"
      ]
     },
     "execution_count": 154,
     "metadata": {},
     "output_type": "execute_result"
    },
    {
     "data": {
      "image/png": "[encoded data removed]",
      "text/plain": [
       "<Figure size 432x288 with 1 Axes>"
      ]
     },
     "metadata": {
      "needs_background": "light"
     },
     "output_type": "display_data"
    }
   ],
   "source": [
    "pd.Series(res).plot(kind=\"line\")"
   ]
  },
  {
   "cell_type": "code",
   "execution_count": 155,
   "metadata": {},
   "outputs": [
    {
     "data": {
      "text/plain": [
       "<matplotlib.axes._subplots.AxesSubplot at 0x7fd7a9710a50>"
      ]
     },
     "execution_count": 155,
     "metadata": {},
     "output_type": "execute_result"
    },
    {
     "data": {
      "image/png": "[encoded data removed]",
      "text/plain": [
       "<Figure size 432x288 with 1 Axes>"
      ]
     },
     "metadata": {
      "needs_background": "light"
     },
     "output_type": "display_data"
    }
   ],
   "source": [
    "total_batches = 76\n",
    "res = vf(batch=np.linspace(0, 75, 75), start=45, end=7, total_batches=76)\n",
    "pd.Series(res).plot(kind=\"line\")"
   ]
  },
  {
   "cell_type": "code",
   "execution_count": null,
   "metadata": {},
   "outputs": [],
   "source": []
  }
 ],
 "metadata": {
  "kernelspec": {
   "display_name": "Python 3",
   "language": "python",
   "name": "python3"
  },
  "language_info": {
   "codemirror_mode": {
    "name": "ipython",
    "version": 3
   },
   "file_extension": ".py",
   "mimetype": "text/x-python",
   "name": "python",
   "nbconvert_exporter": "python",
   "pygments_lexer": "ipython3",
   "version": "3.7.4"
  }
 },
 "nbformat": 4,
 "nbformat_minor": 4
}
