{
 "cells": [
  {
   "cell_type": "code",
   "execution_count": null,
   "metadata": {},
   "outputs": [],
   "source": [
    "#default_exp lesson3"
   ]
  },
  {
   "cell_type": "code",
   "execution_count": null,
   "metadata": {},
   "outputs": [],
   "source": [
    "%reload_ext autoreload\n",
    "%autoreload 2"
   ]
  },
  {
   "cell_type": "code",
   "execution_count": null,
   "metadata": {},
   "outputs": [],
   "source": [
    "import os\n",
    "os.chdir(\"..\")"
   ]
  },
  {
   "cell_type": "code",
   "execution_count": null,
   "metadata": {},
   "outputs": [],
   "source": [
    "# export\n",
    "import torch\n",
    "from torch import nn\n",
    "from torch.optim import Adam\n",
    "from solutions.lesson1 import *\n",
    "from solutions.lesson2 import *\n",
    "from fastai.datasets import download_data\n",
    "from torch.functional import F\n",
    "from functools import partial"
   ]
  },
  {
   "cell_type": "code",
   "execution_count": null,
   "metadata": {},
   "outputs": [],
   "source": [
    "# export\n",
    "def get_mnist_data():\n",
    "    \"\"\"Returns X_train, y_train, X_test, y_test for MNIST dataset.\"\"\"\n",
    "    MNIST_URL='http://deeplearning.net/data/mnist/mnist.pkl'\n",
    "    path = download_data(MNIST_URL, ext=\".gz\")\n",
    "    return get_data(path) "
   ]
  },
  {
   "cell_type": "code",
   "execution_count": null,
   "metadata": {},
   "outputs": [],
   "source": [
    "# export\n",
    "def stats(x):\n",
    "    return x.mean(), x.std()"
   ]
  },
  {
   "cell_type": "code",
   "execution_count": null,
   "metadata": {},
   "outputs": [],
   "source": [
    "X_train, y_train, X_test, y_test = get_mnist_data()"
   ]
  },
  {
   "cell_type": "markdown",
   "metadata": {},
   "source": [
    "# Basic Model"
   ]
  },
  {
   "cell_type": "code",
   "execution_count": null,
   "metadata": {},
   "outputs": [],
   "source": [
    "x_train_resized = X_train.reshape(-1, 1, 28, 28)"
   ]
  },
  {
   "cell_type": "code",
   "execution_count": null,
   "metadata": {},
   "outputs": [],
   "source": [
    "mean, std = stats(x_train_resized)"
   ]
  },
  {
   "cell_type": "code",
   "execution_count": null,
   "metadata": {},
   "outputs": [
    {
     "data": {
      "text/plain": [
       "torch.Size([50000, 1, 28, 28])"
      ]
     },
     "execution_count": null,
     "metadata": {},
     "output_type": "execute_result"
    }
   ],
   "source": [
    "x_train_resized.size()"
   ]
  },
  {
   "cell_type": "code",
   "execution_count": null,
   "metadata": {},
   "outputs": [],
   "source": [
    "x_train_norm = (x_train_resized - mean)/std"
   ]
  },
  {
   "cell_type": "code",
   "execution_count": null,
   "metadata": {},
   "outputs": [
    {
     "data": {
      "text/plain": [
       "(tensor(-3.0466e-06), tensor(1.))"
      ]
     },
     "execution_count": null,
     "metadata": {},
     "output_type": "execute_result"
    }
   ],
   "source": [
    "stats(x_train_norm)"
   ]
  },
  {
   "cell_type": "code",
   "execution_count": null,
   "metadata": {},
   "outputs": [],
   "source": [
    "nh = 100\n",
    "mdl = nn.Sequential(\n",
    "    nn.Conv2d(1, 5, 5),\n",
    "    nn.ReLU()\n",
    ")"
   ]
  },
  {
   "cell_type": "code",
   "execution_count": null,
   "metadata": {},
   "outputs": [],
   "source": [
    "for m in mdl.modules():\n",
    "    if hasattr(m, 'weight'):\n",
    "        nn.init.kaiming_normal_(m.weight, mode='fan_in')"
   ]
  },
  {
   "cell_type": "code",
   "execution_count": null,
   "metadata": {},
   "outputs": [
    {
     "data": {
      "text/plain": [
       "(tensor(0.5310, grad_fn=<MeanBackward0>),\n",
       " tensor(1.0230, grad_fn=<StdBackward0>))"
      ]
     },
     "execution_count": null,
     "metadata": {},
     "output_type": "execute_result"
    }
   ],
   "source": [
    "stats(mdl(x_train_norm))"
   ]
  },
  {
   "cell_type": "code",
   "execution_count": null,
   "metadata": {},
   "outputs": [],
   "source": [
    "# export\n",
    "class Lambda(nn.Module):\n",
    "    def __init__(self, f):\n",
    "        super().__init__()\n",
    "        self.f = f\n",
    "        \n",
    "    def forward(self, x):\n",
    "        return self.f(x)"
   ]
  },
  {
   "cell_type": "code",
   "execution_count": null,
   "metadata": {},
   "outputs": [],
   "source": [
    "# def squeeze(x):\n",
    "#     return torch.squeeze(x)"
   ]
  },
  {
   "cell_type": "code",
   "execution_count": null,
   "metadata": {},
   "outputs": [],
   "source": [
    "def conv_layer(ni, nf, size, stride=2):\n",
    "    return nn.Sequential(\n",
    "        nn.Conv2d(ni, nf, size, stride, padding=size//2),\n",
    "        nn.ReLU()\n",
    "    )"
   ]
  },
  {
   "cell_type": "code",
   "execution_count": null,
   "metadata": {},
   "outputs": [],
   "source": [
    "mdl = nn.Sequential(\n",
    "    conv_layer(1, 8, 5),\n",
    "    conv_layer(8, 16, 3),\n",
    "    conv_layer(16, 32, 3),\n",
    "    conv_layer(32, 64, 3),\n",
    "    conv_layer(64, 64, 3),\n",
    "    conv_layer(64, 10, 3),\n",
    "    nn.AdaptiveAvgPool2d(1),\n",
    "    nn.LogSoftmax(dim=1),\n",
    "    Lambda(torch.squeeze)\n",
    ")"
   ]
  },
  {
   "cell_type": "code",
   "execution_count": null,
   "metadata": {},
   "outputs": [
    {
     "data": {
      "text/plain": [
       "torch.Size([50000, 10])"
      ]
     },
     "execution_count": null,
     "metadata": {},
     "output_type": "execute_result"
    }
   ],
   "source": [
    "mdl(x_train_norm).size()"
   ]
  },
  {
   "cell_type": "code",
   "execution_count": null,
   "metadata": {},
   "outputs": [
    {
     "data": {
      "text/plain": [
       "torch.Size([50000, 10])"
      ]
     },
     "execution_count": null,
     "metadata": {},
     "output_type": "execute_result"
    }
   ],
   "source": [
    "mdl(x_train_norm).squeeze().size()"
   ]
  },
  {
   "cell_type": "code",
   "execution_count": null,
   "metadata": {},
   "outputs": [],
   "source": [
    "x_valid_norm = X_test.reshape(-1, 1, 28, 28)\n",
    "x_valid_norm = (x_valid_norm - mean)/std"
   ]
  },
  {
   "cell_type": "code",
   "execution_count": null,
   "metadata": {},
   "outputs": [
    {
     "data": {
      "text/plain": [
       "(tensor(-0.0059), tensor(0.9924))"
      ]
     },
     "execution_count": null,
     "metadata": {},
     "output_type": "execute_result"
    }
   ],
   "source": [
    "stats(x_valid_norm)"
   ]
  },
  {
   "cell_type": "code",
   "execution_count": null,
   "metadata": {},
   "outputs": [],
   "source": [
    "train_data = Dataset(x_train_norm, y_train)\n",
    "valid_data = Dataset(x_valid_norm, y_test)"
   ]
  },
  {
   "cell_type": "code",
   "execution_count": null,
   "metadata": {},
   "outputs": [],
   "source": [
    "c = (torch.max(y_test) + 1).item()"
   ]
  },
  {
   "cell_type": "code",
   "execution_count": null,
   "metadata": {},
   "outputs": [],
   "source": [
    "train_dl = DataLoader(train_data, 512)\n",
    "valid_dl = DataLoader(valid_data, 1024)\n",
    "data = DataBunch(train_dl, valid_dl, c=c)"
   ]
  },
  {
   "cell_type": "code",
   "execution_count": null,
   "metadata": {},
   "outputs": [
    {
     "data": {
      "text/plain": [
       "10"
      ]
     },
     "execution_count": null,
     "metadata": {},
     "output_type": "execute_result"
    }
   ],
   "source": [
    "data.c"
   ]
  },
  {
   "cell_type": "code",
   "execution_count": null,
   "metadata": {},
   "outputs": [],
   "source": [
    "g = nn.Conv2d(8, 16, 3)"
   ]
  },
  {
   "cell_type": "code",
   "execution_count": null,
   "metadata": {},
   "outputs": [],
   "source": [
    "# export\n",
    "class GeneralReLU(nn.Module):\n",
    "    def __init__(self, a=0.01, subtract=0.4):\n",
    "        super().__init__()\n",
    "        self.a = a\n",
    "        self.subtract = subtract\n",
    "        \n",
    "    def forward(self, x):\n",
    "        return F.leaky_relu(x, self.a) - self.subtract"
   ]
  },
  {
   "cell_type": "code",
   "execution_count": null,
   "metadata": {},
   "outputs": [],
   "source": [
    "def init_cnn_(mdl):\n",
    "    for layer in mdl.children():\n",
    "        if isinstance(layer, nn.Conv2d):\n",
    "            print(\"initializing conv2d...\")\n",
    "            nn.init.kaiming_normal_(layer.weight)\n",
    "            if hasattr(layer, 'bias'):\n",
    "                nn.init.zeros_(layer.bias)\n",
    "        if isinstance(layer, nn.Sequential): init_cnn_(layer)\n",
    "            \n",
    "def conv_layer(ni, nf, size, stride=2, **kwargs):\n",
    "    return nn.Sequential(\n",
    "        nn.Conv2d(ni, nf, size, stride, padding=size//2),\n",
    "        GeneralReLU(**kwargs)\n",
    "    )\n",
    "    \n",
    "def get_model():\n",
    "    conv_layers = [ \n",
    "        conv_layer(1, 8, 5),\n",
    "        conv_layer(8, 16, 3),\n",
    "        conv_layer(16, 32, 3),\n",
    "        conv_layer(32, 64, 3),\n",
    "        conv_layer(64, 10, 3),\n",
    "    ]\n",
    "             \n",
    "    mdl = nn.Sequential(\n",
    "        *conv_layers,\n",
    "        nn.AdaptiveAvgPool2d(1),\n",
    "        nn.LogSoftmax(dim=1),\n",
    "        Lambda(torch.squeeze)\n",
    "    ) \n",
    "    \n",
    "    init_cnn_(mdl)\n",
    "    \n",
    "    return mdl "
   ]
  },
  {
   "cell_type": "code",
   "execution_count": null,
   "metadata": {},
   "outputs": [
    {
     "name": "stdout",
     "output_type": "stream",
     "text": [
      "initializing conv2d...\n",
      "initializing conv2d...\n",
      "initializing conv2d...\n",
      "initializing conv2d...\n",
      "initializing conv2d...\n"
     ]
    }
   ],
   "source": [
    "mdl = get_model()"
   ]
  },
  {
   "cell_type": "code",
   "execution_count": null,
   "metadata": {},
   "outputs": [
    {
     "data": {
      "text/plain": [
       "Sequential(\n",
       "  (0): Sequential(\n",
       "    (0): Conv2d(1, 8, kernel_size=(5, 5), stride=(2, 2), padding=(2, 2))\n",
       "    (1): GeneralReLU()\n",
       "  )\n",
       "  (1): Sequential(\n",
       "    (0): Conv2d(8, 16, kernel_size=(3, 3), stride=(2, 2), padding=(1, 1))\n",
       "    (1): GeneralReLU()\n",
       "  )\n",
       "  (2): Sequential(\n",
       "    (0): Conv2d(16, 32, kernel_size=(3, 3), stride=(2, 2), padding=(1, 1))\n",
       "    (1): GeneralReLU()\n",
       "  )\n",
       "  (3): Sequential(\n",
       "    (0): Conv2d(32, 64, kernel_size=(3, 3), stride=(2, 2), padding=(1, 1))\n",
       "    (1): GeneralReLU()\n",
       "  )\n",
       "  (4): Sequential(\n",
       "    (0): Conv2d(64, 10, kernel_size=(3, 3), stride=(2, 2), padding=(1, 1))\n",
       "    (1): GeneralReLU()\n",
       "  )\n",
       "  (5): AdaptiveAvgPool2d(output_size=1)\n",
       "  (6): LogSoftmax()\n",
       "  (7): Lambda()\n",
       ")"
      ]
     },
     "execution_count": null,
     "metadata": {},
     "output_type": "execute_result"
    }
   ],
   "source": [
    "mdl"
   ]
  },
  {
   "cell_type": "code",
   "execution_count": null,
   "metadata": {},
   "outputs": [],
   "source": [
    "opt = Adam(mdl.parameters(), lr=1e-3)\n",
    "loss = F.cross_entropy\n",
    "learn = Learn(mdl, opt, data, loss)\n",
    "runner = Runner(learn)"
   ]
  },
  {
   "cell_type": "code",
   "execution_count": null,
   "metadata": {},
   "outputs": [
    {
     "name": "stderr",
     "output_type": "stream",
     "text": [
      "/home/paperspace/.pyenv/versions/miniconda3-3.7.0/envs/fastai/lib/python3.7/site-packages/ipykernel_launcher.py:1: UserWarning: Implicit dimension choice for log_softmax has been deprecated. Change the call to include dim=X as an argument.\n",
      "  \"\"\"Entry point for launching an IPython kernel.\n"
     ]
    },
    {
     "data": {
      "text/plain": [
       "tensor(0.4076)"
      ]
     },
     "execution_count": null,
     "metadata": {},
     "output_type": "execute_result"
    }
   ],
   "source": [
    "nn.NLLLoss()(F.log_softmax(torch.tensor([[1,2,3]]).float()), torch.tensor([2]))"
   ]
  },
  {
   "cell_type": "code",
   "execution_count": null,
   "metadata": {},
   "outputs": [],
   "source": [
    "# %time runner.fit(epochs=1)"
   ]
  },
  {
   "cell_type": "markdown",
   "metadata": {},
   "source": [
    "# Some useful callbacks"
   ]
  },
  {
   "cell_type": "code",
   "execution_count": null,
   "metadata": {},
   "outputs": [
    {
     "data": {
      "text/plain": [
       "0"
      ]
     },
     "execution_count": null,
     "metadata": {},
     "output_type": "execute_result"
    }
   ],
   "source": [
    "torch.cuda.current_device()"
   ]
  },
  {
   "cell_type": "code",
   "execution_count": null,
   "metadata": {},
   "outputs": [
    {
     "data": {
      "text/plain": [
       "True"
      ]
     },
     "execution_count": null,
     "metadata": {},
     "output_type": "execute_result"
    }
   ],
   "source": [
    "torch.cuda.is_available()"
   ]
  },
  {
   "cell_type": "code",
   "execution_count": null,
   "metadata": {},
   "outputs": [],
   "source": [
    "# export\n",
    "def current_gpu():\n",
    "    print(torch.cuda.get_device_name(torch.cuda.current_device()))"
   ]
  },
  {
   "cell_type": "code",
   "execution_count": null,
   "metadata": {},
   "outputs": [],
   "source": [
    "# export\n",
    "class AverageStatsCallback(Callback):\n",
    "    def __init__(self, f, name):\n",
    "        self.f = f\n",
    "        self.name = name\n",
    "        \n",
    "    def on_epoch_start(self):\n",
    "        self.value = 0.\n",
    "        self.count = 0\n",
    "        \n",
    "    def on_batch_end(self):\n",
    "        if runner.mode == ModelMode.VALID:\n",
    "            batch_count = self.runner.xb.size()[0]\n",
    "            self.count += batch_count\n",
    "            self.value += self.f(self.runner.pred, self.runner.yb) * batch_count\n",
    "            \n",
    "    def on_epoch_end(self):\n",
    "        if runner.mode == ModelMode.VALID:\n",
    "            print(\"{} after epoch {}: {}\".format(self.name, self.runner.epochs, self.value/self.count))"
   ]
  },
  {
   "cell_type": "code",
   "execution_count": null,
   "metadata": {},
   "outputs": [],
   "source": [
    "# export \n",
    "def accuracy(preds, actuals):\n",
    "    return (torch.argmax(preds, axis=1) == actuals).float().sum()/(preds.size()[0])"
   ]
  },
  {
   "cell_type": "code",
   "execution_count": null,
   "metadata": {},
   "outputs": [],
   "source": [
    "test_pred = torch.tensor([[0.1, 0.5, 0.3]])\n",
    "test_actual = torch.tensor([1])\n",
    "assert accuracy(test_pred, test_actual) == 1.\n",
    "\n",
    "test_pred_2 = torch.tensor([[0.1, 0.5, 0.3], [0.9, 0.8, 0.7]])\n",
    "test_actual_2 = torch.tensor([1, 2])\n",
    "assert accuracy(test_pred_2, test_actual_2) == 0.5"
   ]
  },
  {
   "cell_type": "code",
   "execution_count": null,
   "metadata": {},
   "outputs": [],
   "source": [
    "AccuracyCallback = AverageStatsCallback(accuracy, \"accuracy\")"
   ]
  },
  {
   "cell_type": "code",
   "execution_count": null,
   "metadata": {},
   "outputs": [
    {
     "data": {
      "text/plain": [
       "(tensor(-3.0466e-06), tensor(1.))"
      ]
     },
     "execution_count": null,
     "metadata": {},
     "output_type": "execute_result"
    }
   ],
   "source": [
    "stats(data.train_dl.ds.x)"
   ]
  },
  {
   "cell_type": "code",
   "execution_count": null,
   "metadata": {},
   "outputs": [
    {
     "data": {
      "text/plain": [
       "(tensor(-0.0059), tensor(0.9924))"
      ]
     },
     "execution_count": null,
     "metadata": {},
     "output_type": "execute_result"
    }
   ],
   "source": [
    "stats(data.valid_dl.ds.x)"
   ]
  },
  {
   "cell_type": "code",
   "execution_count": null,
   "metadata": {},
   "outputs": [
    {
     "name": "stdout",
     "output_type": "stream",
     "text": [
      "initializing conv2d...\n",
      "initializing conv2d...\n",
      "initializing conv2d...\n",
      "initializing conv2d...\n",
      "initializing conv2d...\n"
     ]
    }
   ],
   "source": [
    "mdl = get_model()\n",
    "opt = Adam(mdl.parameters(), lr=1e-3)\n",
    "loss = F.cross_entropy\n",
    "learn = Learn(mdl, opt, data, loss)\n",
    "runner = Runner(learn)"
   ]
  },
  {
   "cell_type": "code",
   "execution_count": null,
   "metadata": {},
   "outputs": [],
   "source": [
    "scheduler = CombinedScheduler([0.3, 0.7], CosineScheduler(1e-3, 1e-2, 'lr'), CosineScheduler(1e-2, 1e-5, 'lr'))\n",
    "runner = Runner(learn, cb_funcs=[AccuracyCallback, scheduler])"
   ]
  },
  {
   "cell_type": "code",
   "execution_count": null,
   "metadata": {},
   "outputs": [
    {
     "name": "stdout",
     "output_type": "stream",
     "text": [
      "accuracy after epoch 0: 0.97079998254776\n",
      "Validation loss: 0.0976\n",
      "accuracy after epoch 1: 0.9825000166893005\n",
      "Validation loss: 0.0772\n"
     ]
    }
   ],
   "source": [
    "runner.fit(epochs=2)"
   ]
  },
  {
   "cell_type": "markdown",
   "metadata": {},
   "source": [
    "# Convenience Method for Generating a Model"
   ]
  },
  {
   "cell_type": "code",
   "execution_count": null,
   "metadata": {},
   "outputs": [],
   "source": [
    "def get_runner(lr, loss, data, cbs): \n",
    "    mdl = get_model()\n",
    "    opt = Adam(mdl.parameters(), lr=lr)\n",
    "    learn = Learn(mdl, opt, data, loss)\n",
    "    return Runner(learn, cb_funcs=cbs)"
   ]
  },
  {
   "cell_type": "markdown",
   "metadata": {},
   "source": [
    "# Hooks"
   ]
  },
  {
   "cell_type": "code",
   "execution_count": null,
   "metadata": {},
   "outputs": [],
   "source": [
    "# export\n",
    "class Hook:\n",
    "    def __init__(self, f, m):\n",
    "        self.f = f \n",
    "        self.m = m\n",
    "        self.hook = m.register_forward_hook(partial(f, self))\n",
    "        \n",
    "    def remove(self):\n",
    "        self.hook.remove() \n",
    "            \n",
    "    def __del__(self): self.remove()\n",
    "        \n",
    "    def __repr__(self): return \"Hook(\" + self.f.__name__ + \")\" "
   ]
  },
  {
   "cell_type": "code",
   "execution_count": null,
   "metadata": {},
   "outputs": [
    {
     "data": {
      "text/plain": [
       "[1, 2]"
      ]
     },
     "execution_count": null,
     "metadata": {},
     "output_type": "execute_result"
    }
   ],
   "source": [
    "[1,2,3,4][slice(0,2)]"
   ]
  },
  {
   "cell_type": "code",
   "execution_count": null,
   "metadata": {},
   "outputs": [],
   "source": [
    "# export\n",
    "class ListContainer:\n",
    "    def __init__(self, *items):\n",
    "        self.items = list(items)\n",
    "        \n",
    "    def __getitem__(self, idx):\n",
    "        cls = self.__class__\n",
    "        if isinstance(idx, int):\n",
    "            return self.items[idx]\n",
    "        \n",
    "        if isinstance(idx, list):\n",
    "            if len(idx) == 0:\n",
    "                return []\n",
    "            \n",
    "            if isinstance(idx[0], int):\n",
    "                return cls([self.items[i] for i in idx])\n",
    "            \n",
    "            if isinstance(idx[0], bool) and len(idx) == len(self.items):\n",
    "                return cls([self.items[i] for i in range(len(self.items)) if idx[i]])\n",
    "            \n",
    "        if isinstance(idx, slice):\n",
    "            return cls(self.items[idx])\n",
    "            \n",
    "        raise ValueError(\"idx must be an integer, list of integers, or list of bools.\")\n",
    "        \n",
    "    def __setitem__(self, idx, item):\n",
    "        self.items[idx] = item\n",
    "        \n",
    "    def __iter__(self): return iter(self.items)\n",
    "    \n",
    "    def __repr__(self):\n",
    "        if len(self.items) <= 10:\n",
    "            return str(self.items)\n",
    "        else:\n",
    "            strs = [str(i) for i in self.items[:10]]\n",
    "            strs.append(\"...\")\n",
    "            return str(strs).replace(\"\\'\", \"\") \n",
    "        \n",
    "    def __len__(self): return len(self.items)\n",
    "        \n",
    "    def __str__(self): return self.__repr__()"
   ]
  },
  {
   "cell_type": "code",
   "execution_count": null,
   "metadata": {},
   "outputs": [],
   "source": [
    "# export\n",
    "class Hooks(ListContainer):\n",
    "    def __init__(self, f, model):\n",
    "        super().__init__(*[Hook(f, l) for l in model])\n",
    "            \n",
    "    def remove(self):\n",
    "        for hook in self.items: hook.remove()\n",
    "            \n",
    "    def __enter__(self):\n",
    "        return self\n",
    "    \n",
    "    def __exit__(self, exc_type, exc_value, exc_traceback):\n",
    "        self.remove()\n",
    "        \n",
    "    def __del__(self):\n",
    "        self.remove()"
   ]
  },
  {
   "cell_type": "code",
   "execution_count": null,
   "metadata": {},
   "outputs": [
    {
     "ename": "NameError",
     "evalue": "name 'mdl' is not defined",
     "output_type": "error",
     "traceback": [
      "\u001b[0;31m---------------------------------------------------------------------------\u001b[0m",
      "\u001b[0;31mNameError\u001b[0m                                 Traceback (most recent call last)",
      "\u001b[0;32m<ipython-input-6-df3a6f8fcd50>\u001b[0m in \u001b[0;36m<module>\u001b[0;34m\u001b[0m\n\u001b[0;32m----> 1\u001b[0;31m \u001b[0mmdl\u001b[0m\u001b[0;34m\u001b[0m\u001b[0;34m\u001b[0m\u001b[0m\n\u001b[0m",
      "\u001b[0;31mNameError\u001b[0m: name 'mdl' is not defined"
     ]
    }
   ],
   "source": [
    "mdl"
   ]
  },
  {
   "cell_type": "code",
   "execution_count": null,
   "metadata": {},
   "outputs": [
    {
     "data": {
      "text/plain": [
       "[Sequential(\n",
       "   (0): Conv2d(1, 8, kernel_size=(5, 5), stride=(2, 2), padding=(2, 2))\n",
       "   (1): GeneralReLU()\n",
       " ), Sequential(\n",
       "   (0): Conv2d(8, 16, kernel_size=(3, 3), stride=(2, 2), padding=(1, 1))\n",
       "   (1): GeneralReLU()\n",
       " ), Sequential(\n",
       "   (0): Conv2d(16, 32, kernel_size=(3, 3), stride=(2, 2), padding=(1, 1))\n",
       "   (1): GeneralReLU()\n",
       " ), Sequential(\n",
       "   (0): Conv2d(32, 64, kernel_size=(3, 3), stride=(2, 2), padding=(1, 1))\n",
       "   (1): GeneralReLU()\n",
       " ), Sequential(\n",
       "   (0): Conv2d(64, 10, kernel_size=(3, 3), stride=(2, 2), padding=(1, 1))\n",
       "   (1): GeneralReLU()\n",
       " ), AdaptiveAvgPool2d(output_size=1), LogSoftmax(), Lambda()]"
      ]
     },
     "execution_count": null,
     "metadata": {},
     "output_type": "execute_result"
    }
   ],
   "source": [
    "list(mdl.children())"
   ]
  },
  {
   "cell_type": "code",
   "execution_count": null,
   "metadata": {},
   "outputs": [
    {
     "data": {
      "text/plain": [
       "[Sequential(\n",
       "   (0): Sequential(\n",
       "     (0): Conv2d(1, 8, kernel_size=(5, 5), stride=(2, 2), padding=(2, 2))\n",
       "     (1): GeneralReLU()\n",
       "   )\n",
       "   (1): Sequential(\n",
       "     (0): Conv2d(8, 16, kernel_size=(3, 3), stride=(2, 2), padding=(1, 1))\n",
       "     (1): GeneralReLU()\n",
       "   )\n",
       "   (2): Sequential(\n",
       "     (0): Conv2d(16, 32, kernel_size=(3, 3), stride=(2, 2), padding=(1, 1))\n",
       "     (1): GeneralReLU()\n",
       "   )\n",
       "   (3): Sequential(\n",
       "     (0): Conv2d(32, 64, kernel_size=(3, 3), stride=(2, 2), padding=(1, 1))\n",
       "     (1): GeneralReLU()\n",
       "   )\n",
       "   (4): Sequential(\n",
       "     (0): Conv2d(64, 10, kernel_size=(3, 3), stride=(2, 2), padding=(1, 1))\n",
       "     (1): GeneralReLU()\n",
       "   )\n",
       "   (5): AdaptiveAvgPool2d(output_size=1)\n",
       "   (6): LogSoftmax()\n",
       "   (7): Lambda()\n",
       " ), Sequential(\n",
       "   (0): Conv2d(1, 8, kernel_size=(5, 5), stride=(2, 2), padding=(2, 2))\n",
       "   (1): GeneralReLU()\n",
       " ), Conv2d(1, 8, kernel_size=(5, 5), stride=(2, 2), padding=(2, 2)), GeneralReLU(), Sequential(\n",
       "   (0): Conv2d(8, 16, kernel_size=(3, 3), stride=(2, 2), padding=(1, 1))\n",
       "   (1): GeneralReLU()\n",
       " ), Conv2d(8, 16, kernel_size=(3, 3), stride=(2, 2), padding=(1, 1)), GeneralReLU(), Sequential(\n",
       "   (0): Conv2d(16, 32, kernel_size=(3, 3), stride=(2, 2), padding=(1, 1))\n",
       "   (1): GeneralReLU()\n",
       " ), Conv2d(16, 32, kernel_size=(3, 3), stride=(2, 2), padding=(1, 1)), GeneralReLU(), Sequential(\n",
       "   (0): Conv2d(32, 64, kernel_size=(3, 3), stride=(2, 2), padding=(1, 1))\n",
       "   (1): GeneralReLU()\n",
       " ), Conv2d(32, 64, kernel_size=(3, 3), stride=(2, 2), padding=(1, 1)), GeneralReLU(), Sequential(\n",
       "   (0): Conv2d(64, 10, kernel_size=(3, 3), stride=(2, 2), padding=(1, 1))\n",
       "   (1): GeneralReLU()\n",
       " ), Conv2d(64, 10, kernel_size=(3, 3), stride=(2, 2), padding=(1, 1)), GeneralReLU(), AdaptiveAvgPool2d(output_size=1), LogSoftmax(), Lambda()]"
      ]
     },
     "execution_count": null,
     "metadata": {},
     "output_type": "execute_result"
    }
   ],
   "source": [
    "[i for i in mdl.modules()]"
   ]
  },
  {
   "cell_type": "code",
   "execution_count": null,
   "metadata": {},
   "outputs": [],
   "source": [
    "# class LayerStatsCallback(Callback):\n",
    "    \n",
    "#     __name__ = \"layer_stats\"\n",
    "    \n",
    "#     def on_train_start(self):\n",
    "#         self.means = [[] for _ in self.runner.learn.model]\n",
    "#         self.sds = [[] for _ in self.runner.learn.model]          \n",
    "#         self.hooks = Hooks(\n",
    "#             *[Hook(partial(LayerStatsCallback.append_stats, self.means[idx], self.sds[idx]), layer) \n",
    "#               for idx, layer in enumerate(self.runner.learn.model)]\n",
    "#         )  \n",
    "        \n",
    "#     @staticmethod\n",
    "#     def append_stats(mean_list, sd_list, m, i, o):\n",
    "#         mean_list.append(o.mean())\n",
    "#         sd_list.append(o.std()) "
   ]
  },
  {
   "cell_type": "code",
   "execution_count": null,
   "metadata": {},
   "outputs": [],
   "source": [
    "g = torch.tensor([0, 0, 0, 1, 2, 3, 3, 3, 4, 4, 5, 5, 5, 5, 5, 6, 8, 9]).float()"
   ]
  },
  {
   "cell_type": "code",
   "execution_count": null,
   "metadata": {},
   "outputs": [
    {
     "data": {
      "text/plain": [
       "(torch.Tensor, torch.Tensor)"
      ]
     },
     "execution_count": null,
     "metadata": {},
     "output_type": "execute_result"
    }
   ],
   "source": [
    "type(g), type(g.data)"
   ]
  },
  {
   "cell_type": "code",
   "execution_count": null,
   "metadata": {},
   "outputs": [],
   "source": [
    "import matplotlib.pyplot as plt"
   ]
  },
  {
   "cell_type": "code",
   "execution_count": null,
   "metadata": {},
   "outputs": [
    {
     "data": {
      "text/plain": [
       "<BarContainer object of 5 artists>"
      ]
     },
     "execution_count": null,
     "metadata": {},
     "output_type": "execute_result"
    },
    {
     "data": {
      "image/png": "[encoded data removed]",
      "text/plain": [
       "<Figure size 432x288 with 1 Axes>"
      ]
     },
     "metadata": {
      "needs_background": "light"
     },
     "output_type": "display_data"
    }
   ],
   "source": [
    "plt.bar(range(5), g.histc(bins=5))"
   ]
  },
  {
   "cell_type": "code",
   "execution_count": null,
   "metadata": {},
   "outputs": [],
   "source": [
    "def append_stats(hook, m, i, o): \n",
    "    if not hasattr(hook, 'stats'): hook.stats = ([],[],[])\n",
    "    means, sds, hists = hook.stats\n",
    "    mean = o.mean().cpu()\n",
    "    sd = o.std().cpu()\n",
    "    hist = o.cpu().histc(40, 0, 10)\n",
    "    means.append(mean)\n",
    "    sds.append(sd)\n",
    "    hists.append(hist)"
   ]
  },
  {
   "cell_type": "code",
   "execution_count": null,
   "metadata": {},
   "outputs": [],
   "source": [
    "# Next steps:\n",
    "# - write a hook that stores the stats of some given activations after each call to `forward`\n",
    "# - plot those stats across iterations for each layer"
   ]
  },
  {
   "cell_type": "code",
   "execution_count": null,
   "metadata": {},
   "outputs": [
    {
     "name": "stdout",
     "output_type": "stream",
     "text": [
      "initializing conv2d...\n",
      "initializing conv2d...\n",
      "initializing conv2d...\n",
      "initializing conv2d...\n",
      "initializing conv2d...\n"
     ]
    }
   ],
   "source": [
    "runner = get_runner(1e-3, F.cross_entropy, data, [AverageStatsCallback(accuracy, \"accuracy\"), scheduler])"
   ]
  },
  {
   "cell_type": "code",
   "execution_count": null,
   "metadata": {},
   "outputs": [],
   "source": [
    "import pandas as pd"
   ]
  },
  {
   "cell_type": "code",
   "execution_count": null,
   "metadata": {},
   "outputs": [],
   "source": [
    "# def plot_hook_means(hook):"
   ]
  },
  {
   "cell_type": "code",
   "execution_count": null,
   "metadata": {},
   "outputs": [
    {
     "name": "stdout",
     "output_type": "stream",
     "text": [
      "accuracy after epoch 0: 0.967199981212616\n",
      "Validation loss: 0.1066\n"
     ]
    }
   ],
   "source": [
    "runner.fit(1)"
   ]
  },
  {
   "cell_type": "code",
   "execution_count": null,
   "metadata": {},
   "outputs": [
    {
     "name": "stdout",
     "output_type": "stream",
     "text": [
      "accuracy after epoch 0: 0.9782000184059143\n",
      "Validation loss: 0.0900\n"
     ]
    }
   ],
   "source": [
    "runner.fit(1)"
   ]
  },
  {
   "cell_type": "code",
   "execution_count": null,
   "metadata": {},
   "outputs": [
    {
     "name": "stdout",
     "output_type": "stream",
     "text": [
      "accuracy after epoch 0: 0.9811000227928162\n",
      "Validation loss: 0.0818\n"
     ]
    },
    {
     "data": {
      "image/png": "[encoded data removed]",
      "text/plain": [
       "<Figure size 432x288 with 1 Axes>"
      ]
     },
     "metadata": {
      "needs_background": "light"
     },
     "output_type": "display_data"
    }
   ],
   "source": [
    "with Hooks(append_stats, runner.learn.model) as h: \n",
    "    runner.fit(1)\n",
    "    pd.Series([i.item() for i in h[0].stats[0]]).plot()\n",
    "    hist_data = h[0].stats[2]\n",
    "    initial_hist = hist_data[0].detach().numpy()"
   ]
  },
  {
   "cell_type": "code",
   "execution_count": null,
   "metadata": {},
   "outputs": [
    {
     "data": {
      "text/plain": [
       "<BarContainer object of 40 artists>"
      ]
     },
     "execution_count": null,
     "metadata": {},
     "output_type": "execute_result"
    },
    {
     "data": {
      "image/png": "[encoded data removed]",
      "text/plain": [
       "<Figure size 432x288 with 1 Axes>"
      ]
     },
     "metadata": {
      "needs_background": "light"
     },
     "output_type": "display_data"
    }
   ],
   "source": [
    "plt.bar(range(len(initial_hist)), initial_hist)"
   ]
  },
  {
   "cell_type": "code",
   "execution_count": null,
   "metadata": {},
   "outputs": [],
   "source": [
    "import pandas as pd"
   ]
  },
  {
   "cell_type": "markdown",
   "metadata": {},
   "source": [
    "# Implement Batch Norm"
   ]
  },
  {
   "cell_type": "code",
   "execution_count": null,
   "metadata": {},
   "outputs": [
    {
     "data": {
      "text/plain": [
       "torch.Size([1, 4, 1, 1])"
      ]
     },
     "execution_count": null,
     "metadata": {},
     "output_type": "execute_result"
    }
   ],
   "source": [
    "torch.randn(3,4,5,6).mean(dim=(0,2,3), keepdim=True).size()"
   ]
  },
  {
   "cell_type": "code",
   "execution_count": null,
   "metadata": {},
   "outputs": [],
   "source": [
    "# export \n",
    "class BatchNorm(nn.Module):\n",
    "    def __init__(self, nf, eps=1e-5, mom=0.1):\n",
    "        super().__init__()\n",
    "        self.eps = eps\n",
    "        self.mom = mom\n",
    "        self.gamma = nn.Parameter(torch.ones(nf, 1, 1))\n",
    "        self.beta = nn.Parameter(torch.zeros(nf, 1, 1))\n",
    "        self.register_buffer('mean', torch.zeros(1, nf, 1, 1))\n",
    "        self.register_buffer('var', torch.ones(1, nf, 1, 1))\n",
    "        \n",
    "    def update_stats(self, x):\n",
    "        mean, var = x.mean(dim=(0,2,3), keepdim=True), x.var(dim=(0,2,3), keepdim=True)\n",
    "        self.mean.lerp_(mean, self.mom)\n",
    "        self.var.lerp_(var, self.mom)\n",
    "        return self.mean, self.var\n",
    "        \n",
    "    def forward(self, x):\n",
    "        if self.training:\n",
    "            with torch.no_grad():\n",
    "                m, v = self.update_stats(x)  \n",
    "        else:\n",
    "            m, v = self.mean, self.var\n",
    "            \n",
    "        x_hat = (x - m) / (v + self.eps).sqrt()\n",
    "        return self.gamma * x_hat + self.beta"
   ]
  },
  {
   "cell_type": "code",
   "execution_count": null,
   "metadata": {},
   "outputs": [],
   "source": [
    "# export\n",
    "def init_cnn_(mdl):\n",
    "    for layer in mdl.children():\n",
    "        if isinstance(layer, nn.Conv2d):\n",
    "            print(\"initializing conv2d...\")\n",
    "            nn.init.kaiming_normal_(layer.weight)\n",
    "            if hasattr(layer, 'bias'):\n",
    "                nn.init.zeros_(layer.bias)\n",
    "        if isinstance(layer, nn.Sequential): init_cnn_(layer)\n",
    "            \n",
    "def conv_layer(ni, nf, size, stride=2, bn=True, **kwargs):\n",
    "    layers = [\n",
    "        nn.Conv2d(ni, nf, size, stride, padding=size//2),\n",
    "        GeneralReLU(**kwargs) \n",
    "    ]\n",
    "    # TODO: make running bn an choice via args\n",
    "    if bn: layers.append(RunningBatchNorm(nf))\n",
    "    return nn.Sequential(*layers)\n",
    "    \n",
    "def get_model():\n",
    "    conv_layers = [ \n",
    "        conv_layer(1, 8, 5),\n",
    "        conv_layer(8, 16, 3),\n",
    "        conv_layer(16, 32, 3),\n",
    "        conv_layer(32, 64, 3),\n",
    "        conv_layer(64, 10, 3),\n",
    "    ]\n",
    "             \n",
    "    mdl = nn.Sequential(\n",
    "        *conv_layers,\n",
    "        nn.AdaptiveAvgPool2d(1),\n",
    "        nn.LogSoftmax(dim=1),\n",
    "        Lambda(torch.squeeze)\n",
    "    ) \n",
    "    \n",
    "    init_cnn_(mdl)\n",
    "    \n",
    "    return mdl "
   ]
  },
  {
   "cell_type": "code",
   "execution_count": null,
   "metadata": {},
   "outputs": [],
   "source": [
    "# export\n",
    "def get_runner(lr, loss, data, cbs): \n",
    "    mdl = get_model()\n",
    "    opt = Adam(mdl.parameters(), lr=lr)\n",
    "    learn = Learn(mdl, opt, data, loss)\n",
    "    return Runner(learn, cb_funcs=cbs)"
   ]
  },
  {
   "cell_type": "code",
   "execution_count": null,
   "metadata": {},
   "outputs": [],
   "source": [
    "scheduler = CombinedScheduler([0.3, 0.7], CosineScheduler(1e-3, 1, 'lr'), CosineScheduler(1, 1e-3, 'lr'))"
   ]
  },
  {
   "cell_type": "code",
   "execution_count": null,
   "metadata": {},
   "outputs": [
    {
     "ename": "NameError",
     "evalue": "name 'RunningBatchNorm' is not defined",
     "output_type": "error",
     "traceback": [
      "\u001b[0;31m---------------------------------------------------------------------------\u001b[0m",
      "\u001b[0;31mNameError\u001b[0m                                 Traceback (most recent call last)",
      "\u001b[0;32m<ipython-input-77-94cc8250d322>\u001b[0m in \u001b[0;36m<module>\u001b[0;34m\u001b[0m\n\u001b[0;32m----> 1\u001b[0;31m \u001b[0mrunner\u001b[0m \u001b[0;34m=\u001b[0m \u001b[0mget_runner\u001b[0m\u001b[0;34m(\u001b[0m\u001b[0;36m1e-3\u001b[0m\u001b[0;34m,\u001b[0m \u001b[0mF\u001b[0m\u001b[0;34m.\u001b[0m\u001b[0mcross_entropy\u001b[0m\u001b[0;34m,\u001b[0m \u001b[0mdata\u001b[0m\u001b[0;34m,\u001b[0m \u001b[0;34m[\u001b[0m\u001b[0mAverageStatsCallback\u001b[0m\u001b[0;34m(\u001b[0m\u001b[0maccuracy\u001b[0m\u001b[0;34m,\u001b[0m \u001b[0;34m\"accuracy\"\u001b[0m\u001b[0;34m)\u001b[0m\u001b[0;34m,\u001b[0m \u001b[0mscheduler\u001b[0m\u001b[0;34m]\u001b[0m\u001b[0;34m)\u001b[0m\u001b[0;34m\u001b[0m\u001b[0;34m\u001b[0m\u001b[0m\n\u001b[0m",
      "\u001b[0;32m<ipython-input-74-81e64dd60b91>\u001b[0m in \u001b[0;36mget_runner\u001b[0;34m(lr, loss, data, cbs)\u001b[0m\n\u001b[1;32m      1\u001b[0m \u001b[0;31m# export\u001b[0m\u001b[0;34m\u001b[0m\u001b[0;34m\u001b[0m\u001b[0;34m\u001b[0m\u001b[0m\n\u001b[1;32m      2\u001b[0m \u001b[0;32mdef\u001b[0m \u001b[0mget_runner\u001b[0m\u001b[0;34m(\u001b[0m\u001b[0mlr\u001b[0m\u001b[0;34m,\u001b[0m \u001b[0mloss\u001b[0m\u001b[0;34m,\u001b[0m \u001b[0mdata\u001b[0m\u001b[0;34m,\u001b[0m \u001b[0mcbs\u001b[0m\u001b[0;34m)\u001b[0m\u001b[0;34m:\u001b[0m\u001b[0;34m\u001b[0m\u001b[0;34m\u001b[0m\u001b[0m\n\u001b[0;32m----> 3\u001b[0;31m     \u001b[0mmdl\u001b[0m \u001b[0;34m=\u001b[0m \u001b[0mget_model\u001b[0m\u001b[0;34m(\u001b[0m\u001b[0;34m)\u001b[0m\u001b[0;34m\u001b[0m\u001b[0;34m\u001b[0m\u001b[0m\n\u001b[0m\u001b[1;32m      4\u001b[0m     \u001b[0mopt\u001b[0m \u001b[0;34m=\u001b[0m \u001b[0mAdam\u001b[0m\u001b[0;34m(\u001b[0m\u001b[0mmdl\u001b[0m\u001b[0;34m.\u001b[0m\u001b[0mparameters\u001b[0m\u001b[0;34m(\u001b[0m\u001b[0;34m)\u001b[0m\u001b[0;34m,\u001b[0m \u001b[0mlr\u001b[0m\u001b[0;34m=\u001b[0m\u001b[0mlr\u001b[0m\u001b[0;34m)\u001b[0m\u001b[0;34m\u001b[0m\u001b[0;34m\u001b[0m\u001b[0m\n\u001b[1;32m      5\u001b[0m     \u001b[0mlearn\u001b[0m \u001b[0;34m=\u001b[0m \u001b[0mLearn\u001b[0m\u001b[0;34m(\u001b[0m\u001b[0mmdl\u001b[0m\u001b[0;34m,\u001b[0m \u001b[0mopt\u001b[0m\u001b[0;34m,\u001b[0m \u001b[0mdata\u001b[0m\u001b[0;34m,\u001b[0m \u001b[0mloss\u001b[0m\u001b[0;34m)\u001b[0m\u001b[0;34m\u001b[0m\u001b[0;34m\u001b[0m\u001b[0m\n",
      "\u001b[0;32m<ipython-input-73-4ec7ad179b0e>\u001b[0m in \u001b[0;36mget_model\u001b[0;34m()\u001b[0m\n\u001b[1;32m     20\u001b[0m \u001b[0;32mdef\u001b[0m \u001b[0mget_model\u001b[0m\u001b[0;34m(\u001b[0m\u001b[0;34m)\u001b[0m\u001b[0;34m:\u001b[0m\u001b[0;34m\u001b[0m\u001b[0;34m\u001b[0m\u001b[0m\n\u001b[1;32m     21\u001b[0m     conv_layers = [ \n\u001b[0;32m---> 22\u001b[0;31m         \u001b[0mconv_layer\u001b[0m\u001b[0;34m(\u001b[0m\u001b[0;36m1\u001b[0m\u001b[0;34m,\u001b[0m \u001b[0;36m8\u001b[0m\u001b[0;34m,\u001b[0m \u001b[0;36m5\u001b[0m\u001b[0;34m)\u001b[0m\u001b[0;34m,\u001b[0m\u001b[0;34m\u001b[0m\u001b[0;34m\u001b[0m\u001b[0m\n\u001b[0m\u001b[1;32m     23\u001b[0m         \u001b[0mconv_layer\u001b[0m\u001b[0;34m(\u001b[0m\u001b[0;36m8\u001b[0m\u001b[0;34m,\u001b[0m \u001b[0;36m16\u001b[0m\u001b[0;34m,\u001b[0m \u001b[0;36m3\u001b[0m\u001b[0;34m)\u001b[0m\u001b[0;34m,\u001b[0m\u001b[0;34m\u001b[0m\u001b[0;34m\u001b[0m\u001b[0m\n\u001b[1;32m     24\u001b[0m         \u001b[0mconv_layer\u001b[0m\u001b[0;34m(\u001b[0m\u001b[0;36m16\u001b[0m\u001b[0;34m,\u001b[0m \u001b[0;36m32\u001b[0m\u001b[0;34m,\u001b[0m \u001b[0;36m3\u001b[0m\u001b[0;34m)\u001b[0m\u001b[0;34m,\u001b[0m\u001b[0;34m\u001b[0m\u001b[0;34m\u001b[0m\u001b[0m\n",
      "\u001b[0;32m<ipython-input-73-4ec7ad179b0e>\u001b[0m in \u001b[0;36mconv_layer\u001b[0;34m(ni, nf, size, stride, bn, **kwargs)\u001b[0m\n\u001b[1;32m     15\u001b[0m     ]\n\u001b[1;32m     16\u001b[0m     \u001b[0;31m# TODO: make running bn an choice via args\u001b[0m\u001b[0;34m\u001b[0m\u001b[0;34m\u001b[0m\u001b[0;34m\u001b[0m\u001b[0m\n\u001b[0;32m---> 17\u001b[0;31m     \u001b[0;32mif\u001b[0m \u001b[0mbn\u001b[0m\u001b[0;34m:\u001b[0m \u001b[0mlayers\u001b[0m\u001b[0;34m.\u001b[0m\u001b[0mappend\u001b[0m\u001b[0;34m(\u001b[0m\u001b[0mRunningBatchNorm\u001b[0m\u001b[0;34m(\u001b[0m\u001b[0mnf\u001b[0m\u001b[0;34m)\u001b[0m\u001b[0;34m)\u001b[0m\u001b[0;34m\u001b[0m\u001b[0;34m\u001b[0m\u001b[0m\n\u001b[0m\u001b[1;32m     18\u001b[0m     \u001b[0;32mreturn\u001b[0m \u001b[0mnn\u001b[0m\u001b[0;34m.\u001b[0m\u001b[0mSequential\u001b[0m\u001b[0;34m(\u001b[0m\u001b[0;34m*\u001b[0m\u001b[0mlayers\u001b[0m\u001b[0;34m)\u001b[0m\u001b[0;34m\u001b[0m\u001b[0;34m\u001b[0m\u001b[0m\n\u001b[1;32m     19\u001b[0m \u001b[0;34m\u001b[0m\u001b[0m\n",
      "\u001b[0;31mNameError\u001b[0m: name 'RunningBatchNorm' is not defined"
     ]
    }
   ],
   "source": [
    "runner = get_runner(1e-3, F.cross_entropy, data, [AverageStatsCallback(accuracy, \"accuracy\"), scheduler])"
   ]
  },
  {
   "cell_type": "code",
   "execution_count": null,
   "metadata": {},
   "outputs": [],
   "source": [
    "# runner.learn.model"
   ]
  },
  {
   "cell_type": "code",
   "execution_count": null,
   "metadata": {},
   "outputs": [],
   "source": [
    "# runner.fit(10)"
   ]
  },
  {
   "cell_type": "markdown",
   "metadata": {},
   "source": [
    "This is an enhanced version of the batch normalization layer implemented earlier based on the idea of \"running\" batch norm as introduced by Jeremy Howard in his \"Deep Learning From The Foundations\" lectures. It cleans up a few details that we don't quite get right in the implementation above:\n",
    "* We shouldn't really be linearly interpolating over variances of individual batches, but rather keeping track of the information we need to cumulatively calculate variance. We can do this using the alternative form of the variance equation, $Var[X] = E[X^2] - E[X]^2$. This means we only have to keep track of the X's and the count to compute an accurate variance. \n",
    "* This linear interpolation gives far too much importance to the earlier batches. We need to correct for this by applying a debiasing factor to each term in the linearly interpolated sum equivalent to $\\frac{1}{1 - (1 - m)^n}$, where $m$ is the momentum argument and $n$ is the batch number. "
   ]
  },
  {
   "cell_type": "code",
   "execution_count": null,
   "metadata": {},
   "outputs": [],
   "source": [
    "import math"
   ]
  },
  {
   "cell_type": "code",
   "execution_count": null,
   "metadata": {},
   "outputs": [
    {
     "data": {
      "text/plain": [
       "3"
      ]
     },
     "execution_count": null,
     "metadata": {},
     "output_type": "execute_result"
    }
   ],
   "source": [
    "torch.tensor([1,2,3]).numel()"
   ]
  },
  {
   "cell_type": "code",
   "execution_count": null,
   "metadata": {},
   "outputs": [
    {
     "ename": "NameError",
     "evalue": "name 'nn' is not defined",
     "output_type": "error",
     "traceback": [
      "\u001b[0;31m---------------------------------------------------------------------------\u001b[0m",
      "\u001b[0;31mNameError\u001b[0m                                 Traceback (most recent call last)",
      "\u001b[0;32m<ipython-input-1-23b534175c30>\u001b[0m in \u001b[0;36m<module>\u001b[0;34m\u001b[0m\n\u001b[1;32m      1\u001b[0m \u001b[0;31m# export\u001b[0m\u001b[0;34m\u001b[0m\u001b[0;34m\u001b[0m\u001b[0;34m\u001b[0m\u001b[0m\n\u001b[0;32m----> 2\u001b[0;31m \u001b[0;32mclass\u001b[0m \u001b[0mRunningBatchNorm\u001b[0m\u001b[0;34m(\u001b[0m\u001b[0mnn\u001b[0m\u001b[0;34m.\u001b[0m\u001b[0mModule\u001b[0m\u001b[0;34m)\u001b[0m\u001b[0;34m:\u001b[0m\u001b[0;34m\u001b[0m\u001b[0;34m\u001b[0m\u001b[0m\n\u001b[0m\u001b[1;32m      3\u001b[0m     \u001b[0;32mdef\u001b[0m \u001b[0m__init__\u001b[0m\u001b[0;34m(\u001b[0m\u001b[0mself\u001b[0m\u001b[0;34m,\u001b[0m \u001b[0mnf\u001b[0m\u001b[0;34m,\u001b[0m \u001b[0meps\u001b[0m\u001b[0;34m=\u001b[0m\u001b[0;36m1e-5\u001b[0m\u001b[0;34m,\u001b[0m \u001b[0mmom\u001b[0m\u001b[0;34m=\u001b[0m\u001b[0;36m0.1\u001b[0m\u001b[0;34m)\u001b[0m\u001b[0;34m:\u001b[0m\u001b[0;34m\u001b[0m\u001b[0;34m\u001b[0m\u001b[0m\n\u001b[1;32m      4\u001b[0m         \u001b[0msuper\u001b[0m\u001b[0;34m(\u001b[0m\u001b[0;34m)\u001b[0m\u001b[0;34m.\u001b[0m\u001b[0m__init__\u001b[0m\u001b[0;34m(\u001b[0m\u001b[0;34m)\u001b[0m\u001b[0;34m\u001b[0m\u001b[0;34m\u001b[0m\u001b[0m\n\u001b[1;32m      5\u001b[0m         \u001b[0mself\u001b[0m\u001b[0;34m.\u001b[0m\u001b[0meps\u001b[0m \u001b[0;34m=\u001b[0m \u001b[0meps\u001b[0m\u001b[0;34m\u001b[0m\u001b[0;34m\u001b[0m\u001b[0m\n",
      "\u001b[0;31mNameError\u001b[0m: name 'nn' is not defined"
     ]
    }
   ],
   "source": [
    "# export\n",
    "class RunningBatchNorm(nn.Module):\n",
    "    def __init__(self, nf, eps=1e-5, mom=0.1):\n",
    "        super().__init__()\n",
    "        self.eps = eps\n",
    "        self.mom = mom\n",
    "        self.gamma = nn.Parameter(torch.ones(nf, 1, 1))\n",
    "        self.beta = nn.Parameter(torch.zeros(nf, 1, 1))\n",
    "        self.register_buffer('counts', torch.tensor(0.))\n",
    "        self.register_buffer('sum', torch.zeros(1, nf, 1, 1))\n",
    "        self.register_buffer('sum_squares', torch.zeros(1, nf, 1, 1))\n",
    "        self.register_buffer('mean', torch.zeros(1, nf, 1, 1))\n",
    "        self.register_buffer('var', torch.ones(1, nf, 1, 1))\n",
    "        self.register_buffer('examples', torch.tensor(0.))\n",
    "        \n",
    "    def update_stats(self, x):\n",
    "        self.sum.detach_()\n",
    "        self.sum_squares.detach_()\n",
    "        bs,nc,_,_ = x.size()\n",
    "        self.examples += bs\n",
    "        \n",
    "        # stats specific to batch\n",
    "        _sum = x.sum(dim=(0,2,3), keepdim=True)\n",
    "        _sum_squares = (x*x).sum(dim=(0,2,3), keepdim=True)\n",
    "        _count = _sum.new_tensor(x.numel()/nc)\n",
    "        _mom = _sum.new_tensor(1 - (1 - self.mom)/(math.sqrt(bs-1)))\n",
    "        \n",
    "        # linearly interpolated states\n",
    "        self.sum.lerp_(_sum, _mom)\n",
    "        self.sum_squares.lerp_(_sum_squares, _mom)\n",
    "        self.counts.lerp_(_count, _mom)\n",
    "        \n",
    "        # compute aggregate mean and var based on lerp values\n",
    "        self.mean = self.sum / self.counts\n",
    "        self.var = self.sum_squares.div(self.counts).sub(self.mean * self.mean)\n",
    "        if self.examples <= 20: self.var.clip_min_(0.01)\n",
    "        \n",
    "    def forward(self, x):\n",
    "        if self.training: self.update_stats(x)  \n",
    "        x_hat = (x - self.mean) / (self.var + self.eps).sqrt()\n",
    "        return self.gamma * x_hat + self.beta"
   ]
  },
  {
   "cell_type": "code",
   "execution_count": null,
   "metadata": {},
   "outputs": [],
   "source": [
    "# RunningBatchNorm(8)(data.train_dl.ds.x)"
   ]
  },
  {
   "cell_type": "code",
   "execution_count": null,
   "metadata": {},
   "outputs": [
    {
     "name": "stdout",
     "output_type": "stream",
     "text": [
      "initializing conv2d...\n",
      "initializing conv2d...\n",
      "initializing conv2d...\n",
      "initializing conv2d...\n",
      "initializing conv2d...\n"
     ]
    }
   ],
   "source": [
    "runner = get_runner(1e-3, F.cross_entropy, data, [AverageStatsCallback(accuracy, \"accuracy\"), scheduler])"
   ]
  },
  {
   "cell_type": "code",
   "execution_count": null,
   "metadata": {},
   "outputs": [
    {
     "name": "stdout",
     "output_type": "stream",
     "text": [
      "accuracy after epoch 0: 0.9718000292778015\n",
      "Validation loss: 0.1033\n",
      "accuracy after epoch 1: 0.9767000079154968\n",
      "Validation loss: 0.0903\n",
      "accuracy after epoch 2: 0.980400025844574\n",
      "Validation loss: 0.0819\n",
      "accuracy after epoch 3: 0.983299970626831\n",
      "Validation loss: 0.0763\n",
      "accuracy after epoch 4: 0.9861999750137329\n",
      "Validation loss: 0.0722\n",
      "accuracy after epoch 5: 0.9864000082015991\n",
      "Validation loss: 0.0688\n",
      "accuracy after epoch 6: 0.9882000088691711\n",
      "Validation loss: 0.0656\n",
      "accuracy after epoch 7: 0.9894000291824341\n",
      "Validation loss: 0.0628\n",
      "accuracy after epoch 8: 0.9897000193595886\n",
      "Validation loss: 0.0602\n",
      "accuracy after epoch 9: 0.989799976348877\n",
      "Validation loss: 0.0581\n"
     ]
    }
   ],
   "source": [
    "runner.fit(10)"
   ]
  }
 ],
 "metadata": {
  "kernelspec": {
   "display_name": "Python 3",
   "language": "python",
   "name": "python3"
  }
 },
 "nbformat": 4,
 "nbformat_minor": 4
}
