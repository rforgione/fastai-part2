{
 "cells": [
  {
   "cell_type": "code",
   "execution_count": 1,
   "metadata": {},
   "outputs": [],
   "source": [
    "#default_exp lesson3"
   ]
  },
  {
   "cell_type": "code",
   "execution_count": 2,
   "metadata": {},
   "outputs": [],
   "source": [
    "import os\n",
    "os.chdir(\"..\")"
   ]
  },
  {
   "cell_type": "code",
   "execution_count": 3,
   "metadata": {},
   "outputs": [],
   "source": [
    "# export\n",
    "import torch\n",
    "from torch import nn\n",
    "from torch.optim import Adam\n",
    "from solutions.lesson1 import *\n",
    "from solutions.lesson2 import *\n",
    "from fastai.datasets import download_data\n",
    "from torch.functional import F"
   ]
  },
  {
   "cell_type": "code",
   "execution_count": 4,
   "metadata": {},
   "outputs": [],
   "source": [
    "# export\n",
    "def get_mnist_data():\n",
    "    \"\"\"Returns X_train, y_train, X_test, y_test for MNIST dataset.\"\"\"\n",
    "    MNIST_URL='http://deeplearning.net/data/mnist/mnist.pkl'\n",
    "    path = download_data(MNIST_URL, ext=\".gz\")\n",
    "    return get_data(path) "
   ]
  },
  {
   "cell_type": "code",
   "execution_count": 5,
   "metadata": {},
   "outputs": [],
   "source": [
    "# export\n",
    "def stats(x):\n",
    "    return x.mean(), x.std()"
   ]
  },
  {
   "cell_type": "code",
   "execution_count": 6,
   "metadata": {},
   "outputs": [],
   "source": [
    "X_train, y_train, X_test, y_test = get_mnist_data()"
   ]
  },
  {
   "cell_type": "markdown",
   "metadata": {},
   "source": [
    "# Basic Model"
   ]
  },
  {
   "cell_type": "code",
   "execution_count": 7,
   "metadata": {},
   "outputs": [],
   "source": [
    "x_train_resized = X_train.reshape(-1, 1, 28, 28)"
   ]
  },
  {
   "cell_type": "code",
   "execution_count": 8,
   "metadata": {},
   "outputs": [],
   "source": [
    "mean, std = stats(x_train_resized)"
   ]
  },
  {
   "cell_type": "code",
   "execution_count": 9,
   "metadata": {},
   "outputs": [
    {
     "data": {
      "text/plain": [
       "torch.Size([50000, 1, 28, 28])"
      ]
     },
     "execution_count": 9,
     "metadata": {},
     "output_type": "execute_result"
    }
   ],
   "source": [
    "x_train_resized.size()"
   ]
  },
  {
   "cell_type": "code",
   "execution_count": 10,
   "metadata": {},
   "outputs": [],
   "source": [
    "x_train_norm = (x_train_resized - mean)/std"
   ]
  },
  {
   "cell_type": "code",
   "execution_count": 11,
   "metadata": {},
   "outputs": [
    {
     "data": {
      "text/plain": [
       "(tensor(-3.0466e-06), tensor(1.))"
      ]
     },
     "execution_count": 11,
     "metadata": {},
     "output_type": "execute_result"
    }
   ],
   "source": [
    "stats(x_train_norm)"
   ]
  },
  {
   "cell_type": "code",
   "execution_count": 12,
   "metadata": {},
   "outputs": [],
   "source": [
    "nh = 100\n",
    "mdl = nn.Sequential(\n",
    "    nn.Conv2d(1, 5, 5),\n",
    "    nn.ReLU()\n",
    ")"
   ]
  },
  {
   "cell_type": "code",
   "execution_count": 13,
   "metadata": {},
   "outputs": [],
   "source": [
    "for m in mdl.modules():\n",
    "    if hasattr(m, 'weight'):\n",
    "        nn.init.kaiming_normal_(m.weight, mode='fan_in')"
   ]
  },
  {
   "cell_type": "code",
   "execution_count": 14,
   "metadata": {},
   "outputs": [
    {
     "data": {
      "text/plain": [
       "(tensor(0.5034, grad_fn=<MeanBackward0>),\n",
       " tensor(0.8765, grad_fn=<StdBackward0>))"
      ]
     },
     "execution_count": 14,
     "metadata": {},
     "output_type": "execute_result"
    }
   ],
   "source": [
    "stats(mdl(x_train_norm))"
   ]
  },
  {
   "cell_type": "code",
   "execution_count": 15,
   "metadata": {},
   "outputs": [],
   "source": [
    "# export\n",
    "class Lambda(nn.Module):\n",
    "    def __init__(self, f):\n",
    "        super().__init__()\n",
    "        self.f = f\n",
    "        \n",
    "    def forward(self, x):\n",
    "        return self.f(x)"
   ]
  },
  {
   "cell_type": "code",
   "execution_count": 16,
   "metadata": {},
   "outputs": [],
   "source": [
    "# def squeeze(x):\n",
    "#     return torch.squeeze(x)"
   ]
  },
  {
   "cell_type": "code",
   "execution_count": 47,
   "metadata": {},
   "outputs": [],
   "source": [
    "def conv_layer(ni, nf, size, stride=2):\n",
    "    return nn.Sequential(\n",
    "        nn.Conv2d(ni, nf, size, stride, padding=size//2),\n",
    "        nn.ReLU()\n",
    "    )"
   ]
  },
  {
   "cell_type": "code",
   "execution_count": 110,
   "metadata": {},
   "outputs": [],
   "source": [
    "mdl = nn.Sequential(\n",
    "    conv_layer(1, 8, 5),\n",
    "    conv_layer(8, 16, 3),\n",
    "    conv_layer(16, 32, 3),\n",
    "    conv_layer(32, 64, 3),\n",
    "    conv_layer(64, 64, 3),\n",
    "    conv_layer(64, 10, 3),\n",
    "    nn.AdaptiveAvgPool2d(1),\n",
    "    nn.LogSoftmax(dim=1),\n",
    "    Lambda(torch.squeeze)\n",
    ")"
   ]
  },
  {
   "cell_type": "code",
   "execution_count": 49,
   "metadata": {},
   "outputs": [
    {
     "data": {
      "text/plain": [
       "torch.Size([50000, 10])"
      ]
     },
     "execution_count": 49,
     "metadata": {},
     "output_type": "execute_result"
    }
   ],
   "source": [
    "mdl(x_train_norm).size()"
   ]
  },
  {
   "cell_type": "code",
   "execution_count": 50,
   "metadata": {},
   "outputs": [
    {
     "data": {
      "text/plain": [
       "torch.Size([50000, 10])"
      ]
     },
     "execution_count": 50,
     "metadata": {},
     "output_type": "execute_result"
    }
   ],
   "source": [
    "mdl(x_train_norm).squeeze().size()"
   ]
  },
  {
   "cell_type": "code",
   "execution_count": 51,
   "metadata": {},
   "outputs": [],
   "source": [
    "x_valid_norm = X_test.reshape(-1, 1, 28, 28)\n",
    "x_valid_norm = (x_valid_norm - mean)/std"
   ]
  },
  {
   "cell_type": "code",
   "execution_count": 52,
   "metadata": {},
   "outputs": [
    {
     "data": {
      "text/plain": [
       "(tensor(-0.0059), tensor(0.9924))"
      ]
     },
     "execution_count": 52,
     "metadata": {},
     "output_type": "execute_result"
    }
   ],
   "source": [
    "stats(x_valid_norm)"
   ]
  },
  {
   "cell_type": "code",
   "execution_count": 53,
   "metadata": {},
   "outputs": [],
   "source": [
    "train_data = Dataset(x_train_norm, y_train)\n",
    "valid_data = Dataset(x_valid_norm, y_test)"
   ]
  },
  {
   "cell_type": "code",
   "execution_count": 54,
   "metadata": {},
   "outputs": [],
   "source": [
    "c = (torch.max(y_test) + 1).item()"
   ]
  },
  {
   "cell_type": "code",
   "execution_count": 71,
   "metadata": {},
   "outputs": [],
   "source": [
    "train_dl = DataLoader(train_data, 512)\n",
    "valid_dl = DataLoader(valid_data, 1024)\n",
    "data = DataBunch(train_dl, valid_dl, c=c)"
   ]
  },
  {
   "cell_type": "code",
   "execution_count": 72,
   "metadata": {},
   "outputs": [
    {
     "data": {
      "text/plain": [
       "10"
      ]
     },
     "execution_count": 72,
     "metadata": {},
     "output_type": "execute_result"
    }
   ],
   "source": [
    "data.c"
   ]
  },
  {
   "cell_type": "code",
   "execution_count": 206,
   "metadata": {},
   "outputs": [],
   "source": [
    "g = nn.Conv2d(8, 16, 3)"
   ]
  },
  {
   "cell_type": "code",
   "execution_count": 281,
   "metadata": {},
   "outputs": [],
   "source": [
    "# export\n",
    "class GeneralReLU(nn.Module):\n",
    "    def __init__(self, a=0.01, subtract=0.4):\n",
    "        super().__init__()\n",
    "        self.a = a\n",
    "        self.subtract = subtract\n",
    "        \n",
    "    def forward(self, x):\n",
    "        return F.leaky_relu(x, self.a) - self.subtract"
   ]
  },
  {
   "cell_type": "code",
   "execution_count": 282,
   "metadata": {},
   "outputs": [],
   "source": [
    "# export\n",
    "def init_cnn_(mdl):\n",
    "    for layer in mdl.children():\n",
    "        if isinstance(layer, nn.Conv2d):\n",
    "            print(\"initializing conv2d...\")\n",
    "            nn.init.kaiming_normal_(layer.weight)\n",
    "            if hasattr(layer, 'bias'):\n",
    "                nn.init.zeros_(layer.bias)\n",
    "        if isinstance(layer, nn.Sequential): init_cnn_(layer)\n",
    "            \n",
    "def conv_layer(ni, nf, size, stride=2, **kwargs):\n",
    "    return nn.Sequential(\n",
    "        nn.Conv2d(ni, nf, size, stride, padding=size//2),\n",
    "        GeneralReLU(**kwargs)\n",
    "    )\n",
    "    \n",
    "def get_model():\n",
    "    conv_layers = [ \n",
    "        conv_layer(1, 8, 5),\n",
    "        conv_layer(8, 16, 3),\n",
    "        conv_layer(16, 32, 3),\n",
    "        conv_layer(32, 64, 3),\n",
    "        conv_layer(64, 10, 3),\n",
    "    ]\n",
    "             \n",
    "    mdl = nn.Sequential(\n",
    "        *conv_layers,\n",
    "        nn.AdaptiveAvgPool2d(1),\n",
    "        nn.LogSoftmax(dim=1),\n",
    "        Lambda(torch.squeeze)\n",
    "    ) \n",
    "    \n",
    "    init_cnn_(mdl)\n",
    "    \n",
    "    return mdl "
   ]
  },
  {
   "cell_type": "code",
   "execution_count": 283,
   "metadata": {},
   "outputs": [
    {
     "name": "stdout",
     "output_type": "stream",
     "text": [
      "initializing conv2d...\n",
      "initializing conv2d...\n",
      "initializing conv2d...\n",
      "initializing conv2d...\n",
      "initializing conv2d...\n"
     ]
    }
   ],
   "source": [
    "mdl = get_model()"
   ]
  },
  {
   "cell_type": "code",
   "execution_count": 284,
   "metadata": {},
   "outputs": [
    {
     "data": {
      "text/plain": [
       "Sequential(\n",
       "  (0): Sequential(\n",
       "    (0): Conv2d(1, 8, kernel_size=(5, 5), stride=(2, 2), padding=(2, 2))\n",
       "    (1): GeneralReLU()\n",
       "  )\n",
       "  (1): Sequential(\n",
       "    (0): Conv2d(8, 16, kernel_size=(3, 3), stride=(2, 2), padding=(1, 1))\n",
       "    (1): GeneralReLU()\n",
       "  )\n",
       "  (2): Sequential(\n",
       "    (0): Conv2d(16, 32, kernel_size=(3, 3), stride=(2, 2), padding=(1, 1))\n",
       "    (1): GeneralReLU()\n",
       "  )\n",
       "  (3): Sequential(\n",
       "    (0): Conv2d(32, 64, kernel_size=(3, 3), stride=(2, 2), padding=(1, 1))\n",
       "    (1): GeneralReLU()\n",
       "  )\n",
       "  (4): Sequential(\n",
       "    (0): Conv2d(64, 10, kernel_size=(3, 3), stride=(2, 2), padding=(1, 1))\n",
       "    (1): GeneralReLU()\n",
       "  )\n",
       "  (5): AdaptiveAvgPool2d(output_size=1)\n",
       "  (6): LogSoftmax()\n",
       "  (7): Lambda()\n",
       ")"
      ]
     },
     "execution_count": 284,
     "metadata": {},
     "output_type": "execute_result"
    }
   ],
   "source": [
    "mdl"
   ]
  },
  {
   "cell_type": "code",
   "execution_count": 285,
   "metadata": {},
   "outputs": [],
   "source": [
    "opt = Adam(mdl.parameters(), lr=1e-3)"
   ]
  },
  {
   "cell_type": "code",
   "execution_count": 286,
   "metadata": {},
   "outputs": [],
   "source": [
    "loss = F.cross_entropy"
   ]
  },
  {
   "cell_type": "code",
   "execution_count": 287,
   "metadata": {},
   "outputs": [],
   "source": [
    "learn = Learn(mdl, opt, data, loss)"
   ]
  },
  {
   "cell_type": "code",
   "execution_count": 288,
   "metadata": {},
   "outputs": [],
   "source": [
    "runner = Runner(learn)"
   ]
  },
  {
   "cell_type": "code",
   "execution_count": 289,
   "metadata": {},
   "outputs": [
    {
     "name": "stderr",
     "output_type": "stream",
     "text": [
      "/home/paperspace/.pyenv/versions/miniconda3-3.7.0/envs/fastai/lib/python3.7/site-packages/ipykernel_launcher.py:1: UserWarning: Implicit dimension choice for log_softmax has been deprecated. Change the call to include dim=X as an argument.\n",
      "  \"\"\"Entry point for launching an IPython kernel.\n"
     ]
    },
    {
     "data": {
      "text/plain": [
       "tensor(0.4076)"
      ]
     },
     "execution_count": 289,
     "metadata": {},
     "output_type": "execute_result"
    }
   ],
   "source": [
    "nn.NLLLoss()(F.log_softmax(torch.tensor([[1,2,3]]).float()), torch.tensor([2]))"
   ]
  },
  {
   "cell_type": "code",
   "execution_count": 290,
   "metadata": {},
   "outputs": [],
   "source": [
    "# %time runner.fit(epochs=1)"
   ]
  },
  {
   "cell_type": "markdown",
   "metadata": {},
   "source": [
    "# Some useful callbacks"
   ]
  },
  {
   "cell_type": "code",
   "execution_count": 291,
   "metadata": {},
   "outputs": [
    {
     "data": {
      "text/plain": [
       "0"
      ]
     },
     "execution_count": 291,
     "metadata": {},
     "output_type": "execute_result"
    }
   ],
   "source": [
    "torch.cuda.current_device()"
   ]
  },
  {
   "cell_type": "code",
   "execution_count": 292,
   "metadata": {},
   "outputs": [
    {
     "data": {
      "text/plain": [
       "True"
      ]
     },
     "execution_count": 292,
     "metadata": {},
     "output_type": "execute_result"
    }
   ],
   "source": [
    "torch.cuda.is_available()"
   ]
  },
  {
   "cell_type": "code",
   "execution_count": 293,
   "metadata": {},
   "outputs": [],
   "source": [
    "# export\n",
    "def current_gpu():\n",
    "    print(torch.cuda.get_device_name(torch.cuda.current_device()))"
   ]
  },
  {
   "cell_type": "code",
   "execution_count": 294,
   "metadata": {},
   "outputs": [],
   "source": [
    "# export\n",
    "class AccuracyCallback(Callback):\n",
    "    def __init__(self, runner):\n",
    "        self.runner = runner\n",
    "        \n",
    "    def on_epoch_start(self):\n",
    "        if runner.mode == ModelMode.VALID:\n",
    "            self.correct = 0\n",
    "            self.total = 0\n",
    "        \n",
    "    def on_batch_end(self):\n",
    "        if runner.mode == ModelMode.VALID:\n",
    "            self.total += self.runner.xb.shape[0]\n",
    "            preds = torch.argmax(self.runner.pred, axis=1) \n",
    "            self.correct += (preds == self.runner.yb).int().sum().item()\n",
    "        \n",
    "    def on_epoch_end(self):\n",
    "        if runner.mode == ModelMode.VALID:\n",
    "            print(\"Validation accuracy: {}\".format(self.correct/self.total)) "
   ]
  },
  {
   "cell_type": "code",
   "execution_count": 295,
   "metadata": {},
   "outputs": [
    {
     "data": {
      "text/plain": [
       "(tensor(-3.0466e-06), tensor(1.))"
      ]
     },
     "execution_count": 295,
     "metadata": {},
     "output_type": "execute_result"
    }
   ],
   "source": [
    "stats(data.train_dl.ds.x)"
   ]
  },
  {
   "cell_type": "code",
   "execution_count": 296,
   "metadata": {},
   "outputs": [
    {
     "data": {
      "text/plain": [
       "(tensor(-0.0059), tensor(0.9924))"
      ]
     },
     "execution_count": 296,
     "metadata": {},
     "output_type": "execute_result"
    }
   ],
   "source": [
    "stats(data.valid_dl.ds.x)"
   ]
  },
  {
   "cell_type": "code",
   "execution_count": 297,
   "metadata": {},
   "outputs": [],
   "source": [
    "runner = Runner(learn, cb_funcs=[AccuracyCallback])"
   ]
  },
  {
   "cell_type": "code",
   "execution_count": 298,
   "metadata": {},
   "outputs": [
    {
     "name": "stdout",
     "output_type": "stream",
     "text": [
      "Validation accuracy: 0.932\n",
      "Validation loss: 0.2306\n",
      "Validation accuracy: 0.9577\n",
      "Validation loss: 0.1863\n",
      "Validation accuracy: 0.9664\n",
      "Validation loss: 0.1615\n",
      "Validation accuracy: 0.9714\n",
      "Validation loss: 0.1456\n",
      "Validation accuracy: 0.9748\n",
      "Validation loss: 0.1342\n"
     ]
    }
   ],
   "source": [
    "runner.fit(epochs=5)"
   ]
  },
  {
   "cell_type": "code",
   "execution_count": 40,
   "metadata": {},
   "outputs": [
    {
     "data": {
      "text/plain": [
       "(50000, tensor(19467))"
      ]
     },
     "execution_count": 40,
     "metadata": {},
     "output_type": "execute_result"
    }
   ],
   "source": [
    "runner.cbs[0].total, runner.cbs[0].correct"
   ]
  },
  {
   "cell_type": "markdown",
   "metadata": {},
   "source": [
    "# Implement Batch Norm"
   ]
  },
  {
   "cell_type": "code",
   "execution_count": 69,
   "metadata": {},
   "outputs": [],
   "source": [
    "# export \n",
    "class BatchNorm1d(nn.Module):\n",
    "    def __init__(self, size, eps=1e-5, mom=0.1):\n",
    "        super().__init__()\n",
    "        self.eps = eps\n",
    "        self.mom = mom\n",
    "        self.register_buffer('gamma', torch.ones(size))\n",
    "        self.register_buffer('beta', torch.zeros(size))\n",
    "        self.mean = 0\n",
    "        self.std = 1\n",
    "        \n",
    "    def forward(self, x):\n",
    "        if self.mean is not None:\n",
    "            self.mean = x.mean(axis=0) * self.mom + self.mean * (1 - self.mom)\n",
    "        else:\n",
    "            self.mean = x.mean(axis=0)\n",
    "            \n",
    "        if self.std is not None:\n",
    "            self.std = x.std(axis=0) * self.mom + self.std * (1 - self.mom)\n",
    "        else:\n",
    "            self.std = x.std(axis=0)\n",
    "            \n",
    "        x_hat = (x - self.mean) / (self.std + self.eps)\n",
    "        return self.gamma * x_hat + self.beta"
   ]
  },
  {
   "cell_type": "code",
   "execution_count": 70,
   "metadata": {},
   "outputs": [
    {
     "ename": "NameError",
     "evalue": "name 'bn' is not defined",
     "output_type": "error",
     "traceback": [
      "\u001b[0;31m---------------------------------------------------------------------------\u001b[0m",
      "\u001b[0;31mNameError\u001b[0m                                 Traceback (most recent call last)",
      "\u001b[0;32m<ipython-input-70-62a26d97b202>\u001b[0m in \u001b[0;36m<module>\u001b[0;34m\u001b[0m\n\u001b[0;32m----> 1\u001b[0;31m \u001b[0mbn\u001b[0m\u001b[0;34m.\u001b[0m\u001b[0mgamma\u001b[0m\u001b[0;34m,\u001b[0m \u001b[0mbn\u001b[0m\u001b[0;34m.\u001b[0m\u001b[0mbeta\u001b[0m\u001b[0;34m\u001b[0m\u001b[0;34m\u001b[0m\u001b[0m\n\u001b[0m",
      "\u001b[0;31mNameError\u001b[0m: name 'bn' is not defined"
     ]
    }
   ],
   "source": [
    "bn.gamma, bn.beta"
   ]
  },
  {
   "cell_type": "code",
   "execution_count": null,
   "metadata": {},
   "outputs": [],
   "source": [
    "X_train, y_train, X_test, y_test = get_mnist_data()"
   ]
  },
  {
   "cell_type": "code",
   "execution_count": null,
   "metadata": {},
   "outputs": [],
   "source": [
    "bn_test = nn.Sequential(\n",
    "    nn.Linear(784, 100),\n",
    "    BatchNorm1d(100)\n",
    ")"
   ]
  },
  {
   "cell_type": "code",
   "execution_count": null,
   "metadata": {},
   "outputs": [],
   "source": [
    "def stats(x):\n",
    "    return x.mean(), x.std()"
   ]
  },
  {
   "cell_type": "code",
   "execution_count": null,
   "metadata": {},
   "outputs": [],
   "source": [
    "stats(bn_test(X_train))"
   ]
  },
  {
   "cell_type": "code",
   "execution_count": null,
   "metadata": {},
   "outputs": [],
   "source": [
    "stats(X_train)"
   ]
  },
  {
   "cell_type": "code",
   "execution_count": 63,
   "metadata": {},
   "outputs": [
    {
     "data": {
      "text/plain": [
       "(tensor(-3.0466e-06), tensor(1.))"
      ]
     },
     "execution_count": 63,
     "metadata": {},
     "output_type": "execute_result"
    }
   ],
   "source": [
    "mean, std = stats(X_train)\n",
    "stats((X_train - mean)/std)"
   ]
  },
  {
   "cell_type": "markdown",
   "metadata": {},
   "source": [
    "# Utilities"
   ]
  },
  {
   "cell_type": "markdown",
   "metadata": {},
   "source": [
    "# "
   ]
  }
 ],
 "metadata": {
  "kernelspec": {
   "display_name": "Python 3",
   "language": "python",
   "name": "python3"
  },
  "language_info": {
   "codemirror_mode": {
    "name": "ipython",
    "version": 3
   },
   "file_extension": ".py",
   "mimetype": "text/x-python",
   "name": "python",
   "nbconvert_exporter": "python",
   "pygments_lexer": "ipython3",
   "version": "3.7.4"
  }
 },
 "nbformat": 4,
 "nbformat_minor": 4
}
